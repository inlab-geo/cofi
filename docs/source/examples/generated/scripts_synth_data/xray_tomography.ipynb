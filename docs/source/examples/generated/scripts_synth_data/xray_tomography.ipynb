{
  "cells": [
    {
      "cell_type": "markdown",
      "metadata": {},
      "source": [
        "# Xray Tomography\n"
      ]
    },
    {
      "cell_type": "markdown",
      "metadata": {},
      "source": [
        "[![Open In\nColab](https://img.shields.io/badge/open%20in-Colab-b5e2fa?logo=googlecolab&style=flat-square&color=ffd670)](https://colab.research.google.com/github/inlab-geo/cofi-examples/blob/main/examples/xray_tomography/xray_tomography.ipynb)\n"
      ]
    },
    {
      "cell_type": "markdown",
      "metadata": {},
      "source": [
        "If you are running this notebook locally, make sure you've followed\n[steps\nhere](https://github.com/inlab-geo/cofi-examples#run-the-examples-with-cofi-locally)\nto set up the environment. (This\n[environment.yml](https://github.com/inlab-geo/cofi-examples/blob/main/envs/environment.yml)\nfile specifies a list of packages required to run the notebooks)\n"
      ]
    },
    {
      "cell_type": "markdown",
      "metadata": {},
      "source": [
        "*Adapted from notebooks by Andrew Valentine & Malcolm Sambridge\n-Research School of Earth Sciences, The Australian National University*\n\nIn this notebook, we look at an linear inverse problem based on Xray\nTomography. We will use `cofi` to run a linear system solver (optionally\nwith Tikhonov regularization and noise estimation) for this problem.\n"
      ]
    },
    {
      "cell_type": "markdown",
      "metadata": {},
      "source": [
        "# 0. Import modules\n\nThe package `geo-espresso` contains the forward code for this problem.\n"
      ]
    },
    {
      "cell_type": "code",
      "execution_count": null,
      "metadata": {
        "collapsed": false
      },
      "outputs": [],
      "source": [
        "# -------------------------------------------------------- #\n#                                                          #\n#     Uncomment below to set up environment on \"colab\"     #\n#                                                          #\n# -------------------------------------------------------- #\n\n# !pip install -U cofi geo-espresso\n# !git clone https://github.com/inlab-geo/cofi-examples.git\n# %cd cofi-examples/examples/xray_tomography"
      ]
    },
    {
      "cell_type": "code",
      "execution_count": null,
      "metadata": {
        "collapsed": false
      },
      "outputs": [],
      "source": [
        "import numpy as np\nfrom cofi import BaseProblem, InversionOptions, Inversion\nfrom cofi.utils import QuadraticReg\nfrom espresso import XrayTomography"
      ]
    },
    {
      "cell_type": "markdown",
      "metadata": {},
      "source": [
        "# 1. Define the problem\n"
      ]
    },
    {
      "cell_type": "code",
      "execution_count": null,
      "metadata": {
        "collapsed": false
      },
      "outputs": [],
      "source": [
        "# display theory on the inference problem\nfrom IPython.display import display, Markdown\n\nwith open(\"../../theory/geo_xray_tomography.md\", \"r\") as f:\n    content = f.read()\n\ndisplay(Markdown(content))"
      ]
    },
    {
      "cell_type": "markdown",
      "metadata": {},
      "source": [
        "Firstly, we get some information from the `geo-espresso` module. These\ninclude the dataset and the Jacobian matrix. In the Xray Tomography\nexample, the Jacobian matrix is related to the lengths of paths within\neach grid. Since the paths are fixed, the Jacobian matrix stays\nconstant.\n"
      ]
    },
    {
      "cell_type": "code",
      "execution_count": null,
      "metadata": {
        "collapsed": false
      },
      "outputs": [],
      "source": [
        "xrt = XrayTomography()"
      ]
    },
    {
      "cell_type": "code",
      "execution_count": null,
      "metadata": {
        "collapsed": false
      },
      "outputs": [],
      "source": [
        "xrt_problem = BaseProblem()\nxrt_problem.set_data(xrt.data)\nxrt_problem.set_jacobian(xrt.jacobian(xrt.starting_model))"
      ]
    },
    {
      "cell_type": "markdown",
      "metadata": {},
      "source": [
        "We do some estimation on data noise and further perform a\nregularization.\n"
      ]
    },
    {
      "cell_type": "code",
      "execution_count": null,
      "metadata": {
        "collapsed": false
      },
      "outputs": [],
      "source": [
        "sigma = 0.002\nlamda = 50\ndata_cov_inv = np.identity(xrt.data_size) * (1/sigma**2)"
      ]
    },
    {
      "cell_type": "code",
      "execution_count": null,
      "metadata": {
        "collapsed": false
      },
      "outputs": [],
      "source": [
        "xrt_problem.set_data_covariance_inv(data_cov_inv)\nxrt_problem.set_regularization(lamda * QuadraticReg(model_shape=(xrt.model_size,)))"
      ]
    },
    {
      "cell_type": "markdown",
      "metadata": {},
      "source": [
        "Review what information is included in the `BaseProblem` object:\n"
      ]
    },
    {
      "cell_type": "code",
      "execution_count": null,
      "metadata": {
        "collapsed": false
      },
      "outputs": [],
      "source": [
        "xrt_problem.summary()"
      ]
    },
    {
      "cell_type": "markdown",
      "metadata": {},
      "source": [
        "# 2. Define the inversion options\n"
      ]
    },
    {
      "cell_type": "code",
      "execution_count": null,
      "metadata": {
        "collapsed": false
      },
      "outputs": [],
      "source": [
        "my_options = InversionOptions()\nmy_options.set_tool(\"scipy.linalg.lstsq\")"
      ]
    },
    {
      "cell_type": "markdown",
      "metadata": {},
      "source": [
        "Review what's been defined for the inversion we are about to run:\n"
      ]
    },
    {
      "cell_type": "code",
      "execution_count": null,
      "metadata": {
        "collapsed": false
      },
      "outputs": [],
      "source": [
        "my_options.summary()"
      ]
    },
    {
      "cell_type": "markdown",
      "metadata": {},
      "source": [
        "# 3. Start an inversion\n\nWe can now solve the inverse problem using the Tikhonov-regularized form\nof least-squares,\n\n$$\\mathbf{m}=\\left(\\mathbf{A^TA}+\\epsilon^2\\sigma^2\\mathbf{I}\\right)^\\mathbf{-1}\\mathbf{A^Td}$$\n\nwhere $\\sigma^2$ is the variance of the expected noise on the\nattenuation data.\n\nFor this dataset, we've taken $\\sigma = 0.002$s and chosen\n$\\epsilon^2 = 50$.\n"
      ]
    },
    {
      "cell_type": "code",
      "execution_count": null,
      "metadata": {
        "collapsed": false
      },
      "outputs": [],
      "source": [
        "inv = Inversion(xrt_problem, my_options)\ninv_result = inv.run()\ninv_result.summary()"
      ]
    },
    {
      "cell_type": "markdown",
      "metadata": {},
      "source": [
        "# 4. Plotting\n\nBelow the two figures refers to the inferred model and true model\nrespectively.\n"
      ]
    },
    {
      "cell_type": "code",
      "execution_count": null,
      "metadata": {
        "collapsed": false
      },
      "outputs": [],
      "source": [
        "xrt.plot_model(inv_result.model, clim=(1, 1.5));       # inferred model\nxrt.plot_model(xrt.good_model, clim=(1, 1.5));          # true model"
      ]
    },
    {
      "cell_type": "markdown",
      "metadata": {},
      "source": [
        "# 5. Estimated uncertainties\n\nWe can now find the uncertainty on the recovered slowness parameters,\nwhich describes how noise in the data propagate into the slowness\nparameters with this data set. For the Tikhonov-regularised form of\nleast-squares, the model covariance matrix is a square matrix of size\n$M\\times M$, where there are $M$ cells in the model.\n\n$$\\mathbf{C_m}=\\sigma^2\\left(\\mathbf{A^TA}+\\epsilon^2\\sigma^2\\mathbf{I}\\right)^\\mathbf{-1}$$\n\n.\n\nThis matrix was calculated as part of the solver routine above. The\nsquare roots of the diagonal entries of this matrix are the $\\sigma$\nerrors in the slowness in each cell.\n"
      ]
    },
    {
      "cell_type": "code",
      "execution_count": null,
      "metadata": {
        "collapsed": false
      },
      "outputs": [],
      "source": [
        "Cm = inv_result.model_covariance"
      ]
    },
    {
      "cell_type": "markdown",
      "metadata": {},
      "source": [
        "Lets plot the slowness uncertainties as a function of position across\nthe cellular model.\n"
      ]
    },
    {
      "cell_type": "code",
      "execution_count": null,
      "metadata": {
        "collapsed": false
      },
      "outputs": [],
      "source": [
        "xrt.plot_model(np.sqrt(np.diag(Cm)));"
      ]
    },
    {
      "cell_type": "markdown",
      "metadata": {},
      "source": [
        "Uncertainty is uniformly low across the entire model and only\nsignificant near the corners where there are few ray paths.\n\nSimilarly we can calculate uncertainty in velocity parameters using some\ncalculus.\n\n$$\\Delta v = \\left | \\frac{\\partial s}{\\partial v}  \\right | \\Delta s$$\n\nand since $s = 1/v$ we get\n\n$$\\Delta v = s^2\\Delta s$$\n\nwhich gives the uncertainty image on velocity, which looks very similar.\n"
      ]
    },
    {
      "cell_type": "code",
      "execution_count": null,
      "metadata": {
        "collapsed": false
      },
      "outputs": [],
      "source": [
        "xrt.plot_model(np.sqrt(np.diag(Cm)) * inv_result.model);"
      ]
    },
    {
      "cell_type": "markdown",
      "metadata": {},
      "source": [
        "By clipping the colour range you can see an imprint of the true image,\nindicating that high slowness/low velcoity areas have slightly higher\nuncertainty.\n"
      ]
    },
    {
      "cell_type": "markdown",
      "metadata": {},
      "source": [
        "------------------------------------------------------------------------\n\n# Watermark\n\n```{=html}\n<!-- Feel free to add more modules in the watermark_list below, if more packages are used -->\n```\n```{=html}\n<!-- Otherwise please leave the below code cell unchanged -->\n```\n"
      ]
    },
    {
      "cell_type": "code",
      "execution_count": null,
      "metadata": {
        "collapsed": false
      },
      "outputs": [],
      "source": [
        "watermark_list = [\"cofi\", \"espresso\", \"numpy\", \"scipy\", \"matplotlib\"]\nfor pkg in watermark_list:\n    pkg_var = __import__(pkg)\n    print(pkg, getattr(pkg_var, \"__version__\"))"
      ]
    },
    {
      "cell_type": "markdown",
      "metadata": {},
      "source": [
        "sphinx_gallery_thumbnail_number = -1\n"
      ]
    }
  ],
  "metadata": {
    "kernelspec": {
      "display_name": "Python 3",
      "language": "python",
      "name": "python3"
    },
    "language_info": {
      "codemirror_mode": {
        "name": "ipython",
        "version": 3
      },
      "file_extension": ".py",
      "mimetype": "text/x-python",
      "name": "python",
      "nbconvert_exporter": "python",
      "pygments_lexer": "ipython3",
      "version": "3.10.13"
    }
  },
  "nbformat": 4,
  "nbformat_minor": 0
}