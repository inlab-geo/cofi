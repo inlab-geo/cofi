{
  "cells": [
    {
      "cell_type": "markdown",
      "metadata": {},
      "source": [
        "# Non-linear Curve Fitting\n"
      ]
    },
    {
      "cell_type": "markdown",
      "metadata": {},
      "source": [
        "[![Open In\nColab](https://img.shields.io/badge/open%20in-Colab-b5e2fa?logo=googlecolab&style=flat-square&color=ffd670)](https://colab.research.google.com/github/inlab-geo/cofi-examples/blob/main/examples/nonlinear_curve_fitting/nonlinear_curve_fitting.ipynb)\n"
      ]
    },
    {
      "cell_type": "markdown",
      "metadata": {},
      "source": [
        "If you are running this notebook locally, make sure you've followed\n[steps\nhere](https://github.com/inlab-geo/cofi-examples#run-the-examples-with-cofi-locally)\nto set up the environment. (This\n[environment.yml](https://github.com/inlab-geo/cofi-examples/blob/main/envs/environment.yml)\nfile specifies a list of packages required to run the notebooks)\n"
      ]
    },
    {
      "cell_type": "markdown",
      "metadata": {},
      "source": [
        "```{=html}\n<!-- TODO - background introduction for this problem. -->\n```\nIn this notebook, we use `cofi` to run a non-linear curve fitting\nproblem:\n\n$$f(x)=\\exp(a*x)+b$$\n"
      ]
    },
    {
      "cell_type": "markdown",
      "metadata": {},
      "source": [
        "# Import modules\n"
      ]
    },
    {
      "cell_type": "code",
      "execution_count": null,
      "metadata": {
        "collapsed": false
      },
      "outputs": [],
      "source": [
        "# -------------------------------------------------------- #\n#                                                          #\n#     Uncomment below to set up environment on \"colab\"     #\n#                                                          #\n# -------------------------------------------------------- #\n\n# !pip install -U cofi"
      ]
    },
    {
      "cell_type": "code",
      "execution_count": null,
      "metadata": {
        "collapsed": false
      },
      "outputs": [],
      "source": [
        "import numpy as np\nimport matplotlib.pyplot as plt\nimport arviz as az\n\nfrom cofi import BaseProblem, InversionOptions, Inversion\n\nnp.random.seed(42)"
      ]
    },
    {
      "cell_type": "markdown",
      "metadata": {},
      "source": [
        "# Define the problem\n"
      ]
    },
    {
      "cell_type": "code",
      "execution_count": null,
      "metadata": {
        "collapsed": false
      },
      "outputs": [],
      "source": [
        "def my_forward(m, x):\n    return np.exp(m[0] * x) + m[1]\n\ndef my_jacobian(m, x):\n    G=np.zeros([len(x),2])\n    G[:,0]=x*np.exp(m[0]*x) # derivative with respect to m[0] \n    G[:,1]=np.ones(len(x))  # derivtavie with respect to m[1]\n    return G\n\ndef my_residuals(m, x, y):\n    yhat = my_forward(m,x)\n    return yhat-y"
      ]
    },
    {
      "cell_type": "code",
      "execution_count": null,
      "metadata": {
        "collapsed": false
      },
      "outputs": [],
      "source": [
        "# Choose the \"true\" parameters.\na_true = 5.0\nb_true = 4.0\nf_true = 0.1\n\nm_true = [a_true,b_true]\nmf_true= [a_true,b_true,f_true]"
      ]
    },
    {
      "cell_type": "code",
      "execution_count": null,
      "metadata": {
        "collapsed": false
      },
      "outputs": [],
      "source": [
        "# Generate some synthetic data from the model.\nN = 50\nx = np.sort(1 * np.random.rand(N))\nyerr = 0.1 + 0.5 * np.random.rand(N)\ny = my_forward(m_true,x)\ny += np.abs(f_true * y) * np.random.randn(N)\ny += yerr * np.random.randn(N)\nplt.errorbar(x, y, yerr=yerr, fmt=\".k\", capsize=0)\nx0 = np.linspace(0, 1, 500)\nplt.plot(x0, my_forward(m_true,x0), \"k\", alpha=0.3, lw=3)\nplt.xlim(0, 1)\nplt.xlabel(\"x\")\nplt.ylabel(\"y\");"
      ]
    },
    {
      "cell_type": "code",
      "execution_count": null,
      "metadata": {
        "collapsed": false
      },
      "outputs": [],
      "source": [
        "# define the problem in cofi\ninv_problem = BaseProblem()\ninv_problem.name = \"Curve Fitting\"\ninv_problem.set_data(y)\ninv_problem.set_forward(my_forward, args=[x])\ninv_problem.set_jacobian(my_jacobian, args=[x])\ninv_problem.set_residual(my_residuals, args=[x,y])\ninv_problem.set_initial_model([3,3])"
      ]
    },
    {
      "cell_type": "markdown",
      "metadata": {},
      "source": [
        "# Example 1. least squares optimizer (levenber marquardt)\n"
      ]
    },
    {
      "cell_type": "code",
      "execution_count": null,
      "metadata": {
        "collapsed": false
      },
      "outputs": [],
      "source": [
        "inv_options = InversionOptions()\ninv_options.set_tool(\"scipy.optimize.least_squares\")\ninv_options.set_params(method=\"lm\", max_nfev=10)"
      ]
    },
    {
      "cell_type": "code",
      "execution_count": null,
      "metadata": {
        "collapsed": false
      },
      "outputs": [],
      "source": [
        "######## Run it\ninv = Inversion(inv_problem, inv_options)\ninv_result = inv.run()\n\n######## Check result\nprint(f\"The inversion result from `scipy.optimize.minimize`: {inv_result.model}\\n\")\ninv_result.summary()"
      ]
    },
    {
      "cell_type": "markdown",
      "metadata": {},
      "source": [
        "# Example 2. emcee\n"
      ]
    },
    {
      "cell_type": "code",
      "execution_count": null,
      "metadata": {
        "collapsed": false
      },
      "outputs": [],
      "source": [
        "sigma = 10                                     # common noise standard deviation\nCdinv = np.eye(len(y))/(sigma**2)      # inverse data covariance matrix\n\ndef my_log_likelihood(m,x,y,Cdinv):\n    yhat = my_forward(m,x)\n    residual = y-yhat\n    return -0.5 * residual @ (Cdinv @ residual).T"
      ]
    },
    {
      "cell_type": "code",
      "execution_count": null,
      "metadata": {
        "collapsed": false
      },
      "outputs": [],
      "source": [
        "m_min = [0,0]             # lower bound for uniform prior\nm_max = [10,10]          # upper bound for uniform prior\n\ndef my_log_prior(m,m_min,m_max):    # uniform distribution\n    for i in range(len(m)):\n        if m[i] < m_min[i] or m[i] > m_max[i]: return -np.inf\n    return 0.0 # model lies within bounds -> return log(1)"
      ]
    },
    {
      "cell_type": "code",
      "execution_count": null,
      "metadata": {
        "collapsed": false
      },
      "outputs": [],
      "source": [
        "nwalkers = 12\nndim = 2\nnsteps = 500\nwalkers_start = np.array([5.,4.]) + 1e-1 * np.random.randn(nwalkers, ndim)"
      ]
    },
    {
      "cell_type": "code",
      "execution_count": null,
      "metadata": {
        "collapsed": false
      },
      "outputs": [],
      "source": [
        "inv_problem.set_log_prior(my_log_prior,args=[m_min,m_max])\ninv_problem.set_log_likelihood(my_log_likelihood,args=[x,y,Cdinv])\ninv_problem.set_model_shape(ndim)"
      ]
    },
    {
      "cell_type": "code",
      "execution_count": null,
      "metadata": {
        "collapsed": false
      },
      "outputs": [],
      "source": [
        "inv_options = InversionOptions()\ninv_options.set_tool(\"emcee\")\ninv_options.set_params(nwalkers=nwalkers, nsteps=nsteps, initial_state=walkers_start)\n\n######## Run it\ninv = Inversion(inv_problem, inv_options)\ninv_result = inv.run()\n\n######## Check result\nprint(f\"The inversion result from `emcee`:\")\ninv_result.summary()"
      ]
    },
    {
      "cell_type": "code",
      "execution_count": null,
      "metadata": {
        "collapsed": false
      },
      "outputs": [],
      "source": [
        "sampler = inv_result.sampler\naz_idata = inv_result.to_arviz()"
      ]
    },
    {
      "cell_type": "code",
      "execution_count": null,
      "metadata": {
        "collapsed": false
      },
      "outputs": [],
      "source": [
        "labels = [\"m0\", \"m1\"]\naz.plot_trace(az_idata);"
      ]
    },
    {
      "cell_type": "code",
      "execution_count": null,
      "metadata": {
        "collapsed": false
      },
      "outputs": [],
      "source": [
        "_, axes = plt.subplots(2, 2, figsize=(14,10))\naz.plot_pair(\n    az_idata.sel(draw=slice(300,None)), \n    marginals=True, \n    reference_values=dict(zip([f\"var_{i}\" for i in range(2)], m_true   )),\n    ax = axes\n);"
      ]
    },
    {
      "cell_type": "code",
      "execution_count": null,
      "metadata": {
        "collapsed": false
      },
      "outputs": [],
      "source": [
        "flat_samples = sampler.get_chain(discard=300, thin=30, flat=True)\ninds = np.random.randint(len(flat_samples), size=100) # get a random selection from posterior ensemble\n_x_plot = np.linspace(0,1.0)\n_y_plot =  my_forward(m_true,_x_plot)\nplt.figure(figsize=(12,8))\nsample = flat_samples[0]\n_y_synth =  my_forward(sample,_x_plot)\nplt.plot(_x_plot, _y_synth, color=\"seagreen\", label=\"Posterior samples\",alpha=0.1)\nfor ind in inds:\n    sample = flat_samples[ind]\n    _y_synth =  my_forward(sample,_x_plot)\n    plt.plot(_x_plot, _y_synth, color=\"seagreen\", alpha=0.1)\nplt.plot(_x_plot, _y_plot, color=\"darkorange\", label=\"true model\")\nplt.scatter(x, y, color=\"lightcoral\", label=\"observed data\")\nplt.xlabel(\"X\")\nplt.ylabel(\"Y\")\nplt.legend();"
      ]
    },
    {
      "cell_type": "markdown",
      "metadata": {},
      "source": [
        "------------------------------------------------------------------------\n\n# Watermark\n\n```{=html}\n<!-- Feel free to add more modules in the watermark_list below, if more packages are used -->\n```\n```{=html}\n<!-- Otherwise please leave the below code cell unchanged -->\n```\n"
      ]
    },
    {
      "cell_type": "code",
      "execution_count": null,
      "metadata": {
        "collapsed": false
      },
      "outputs": [],
      "source": [
        "watermark_list = [\"cofi\", \"numpy\", \"scipy\", \"matplotlib\", \"emcee\", \"arviz\"]\nfor pkg in watermark_list:\n    pkg_var = __import__(pkg)\n    print(pkg, getattr(pkg_var, \"__version__\"))"
      ]
    },
    {
      "cell_type": "markdown",
      "metadata": {},
      "source": [
        "sphinx_gallery_thumbnail_number = -1\n"
      ]
    }
  ],
  "metadata": {
    "kernelspec": {
      "display_name": "Python 3",
      "language": "python",
      "name": "python3"
    },
    "language_info": {
      "codemirror_mode": {
        "name": "ipython",
        "version": 3
      },
      "file_extension": ".py",
      "mimetype": "text/x-python",
      "name": "python",
      "nbconvert_exporter": "python",
      "pygments_lexer": "ipython3",
      "version": "3.10.13"
    }
  },
  "nbformat": 4,
  "nbformat_minor": 0
}