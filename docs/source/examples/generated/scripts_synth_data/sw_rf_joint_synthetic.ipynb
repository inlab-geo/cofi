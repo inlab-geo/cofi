{
  "cells": [
    {
      "cell_type": "markdown",
      "metadata": {},
      "source": [
        "# Surface wave and receiver function - joint inversion (synthetic data)\n"
      ]
    },
    {
      "cell_type": "markdown",
      "metadata": {},
      "source": [
        "[![Open In\nColab](https://img.shields.io/badge/open%20in-Colab-b5e2fa?logo=googlecolab&style=flat-square&color=ffd670)](https://colab.research.google.com/github/inlab-geo/cofi-examples/blob/main/examples/sw_rf_joint/sw_rf_joint_synthetic.ipynb)\n"
      ]
    },
    {
      "cell_type": "markdown",
      "metadata": {},
      "source": [
        "If you are running this notebook locally, make sure you've followed\n[steps\nhere](https://github.com/inlab-geo/cofi-examples#run-the-examples-with-cofi-locally)\nto set up the environment. (This\n[environment.yml](https://github.com/inlab-geo/cofi-examples/blob/main/envs/environment.yml)\nfile specifies a list of packages required to run the notebooks)\n"
      ]
    },
    {
      "cell_type": "markdown",
      "metadata": {},
      "source": [
        "------------------------------------------------------------------------\n\n# What we do in this notebook\n\nHere we extend the example where CoFI has been used for the inversion of\nRayleigh wave phase velocities for a 1D layered earth to a joint\ninversion where we also account for receiver functions.\n\n**Learning outcomes**\n\n-   A demonstration of CoFI's ability to switch between parameter\n    estimation and ensemble methods.\n-   An application of CoFI for a joint inversion, here of Rayleigh wave\n    pahse velocity and receiver function data, to a synthetic dataset\n"
      ]
    },
    {
      "cell_type": "markdown",
      "metadata": {},
      "source": [
        "# Utilities preparation\n\nIn this example, we look at a joint inversion problem of surface wave\nand receiver function.\n\nWe use `pysurf96` for computing the forward step of surface wave, and\nuse `espresso` for receiver function calculations.\n"
      ]
    },
    {
      "cell_type": "code",
      "execution_count": null,
      "metadata": {
        "collapsed": false
      },
      "outputs": [],
      "source": [
        "# -------------------------------------------------------- #\n#                                                          #\n#     Uncomment below to set up environment on \"colab\"     #\n#                                                          #\n# -------------------------------------------------------- #\n\n# !pip install -U cofi \n# !pip install git+https://github.com/inlab-geo/pysurf96.git\n# !git clone https://github.com/inlab-geo/cofi-examples.git\n# %cd cofi-examples/examples/sw_rf_joint"
      ]
    },
    {
      "cell_type": "code",
      "execution_count": null,
      "metadata": {
        "collapsed": false
      },
      "outputs": [],
      "source": [
        "import glob\nimport numpy as np\nimport scipy\nimport matplotlib.pyplot as plt\nimport matplotlib.gridspec as gridspec\n\nimport pysurf96\nimport bayesbay\nimport cofi\nimport espresso"
      ]
    },
    {
      "cell_type": "code",
      "execution_count": null,
      "metadata": {
        "collapsed": false
      },
      "outputs": [],
      "source": [
        "np.seterr(all=\"ignore\");"
      ]
    },
    {
      "cell_type": "markdown",
      "metadata": {},
      "source": [
        "**Model vector**\n"
      ]
    },
    {
      "cell_type": "code",
      "execution_count": null,
      "metadata": {
        "collapsed": false
      },
      "outputs": [],
      "source": [
        "# display theory on the 1D model parameterisation\nfrom IPython.display import display, Markdown\n\nwith open(\"../../theory/misc_1d_model_parameterisation.md\", \"r\") as f:\n    content = f.read()\n\ndisplay(Markdown(content))"
      ]
    },
    {
      "cell_type": "code",
      "execution_count": null,
      "metadata": {
        "collapsed": false
      },
      "outputs": [],
      "source": [
        "# layercake model utilities\ndef form_layercake_model(thicknesses, vs):\n    model = np.zeros((len(vs)*2-1,))\n    model[1::2] = thicknesses\n    model[::2] = vs\n    return model\n\ndef split_layercake_model(model):\n    thicknesses = model[1::2]\n    vs = model[::2]\n    return thicknesses, vs"
      ]
    },
    {
      "cell_type": "code",
      "execution_count": null,
      "metadata": {
        "collapsed": false
      },
      "outputs": [],
      "source": [
        "# voronoi model utilities\ndef form_voronoi_model(voronoi_sites, vs):\n    return np.hstack((vs, voronoi_sites))\n\ndef split_voronoi_model(model):\n    voronoi_sites = model[len(model)//2:]\n    vs = model[:len(model)//2]\n    return voronoi_sites, vs"
      ]
    },
    {
      "cell_type": "code",
      "execution_count": null,
      "metadata": {
        "collapsed": false
      },
      "outputs": [],
      "source": [
        "def voronoi_to_layercake(voronoi_vector: np.ndarray) -> np.ndarray:\n    n_layers = len(voronoi_vector) // 2\n    velocities = voronoi_vector[:n_layers]\n    voronoi_sites = voronoi_vector[n_layers:]\n    depths = (voronoi_sites[:-1] + voronoi_sites[1:]) / 2\n    thicknesses = depths - np.insert(depths[:-1], 0, 0)\n    layercake_vector = np.zeros((2*n_layers-1,))\n    layercake_vector[::2] = velocities\n    layercake_vector[1::2] = thicknesses\n    return layercake_vector\n\ndef layercake_to_voronoi(layercake_vector: np.ndarray, first_voronoi_site: float = 0.0) -> np.ndarray:\n    n_layers = len(layercake_vector) // 2 + 1\n    thicknesses = layercake_vector[1::2]\n    velocities = layercake_vector[::2]\n    depths = np.cumsum(thicknesses)\n    voronoi_sites = np.zeros((n_layers,))\n    for i in range(1,len(voronoi_sites)):\n        voronoi_sites[i] = 2 * depths[i-1] - voronoi_sites[i-1]\n    voronoi_vector = np.hstack((velocities, voronoi_sites))\n    return voronoi_vector"
      ]
    },
    {
      "cell_type": "markdown",
      "metadata": {},
      "source": [
        "**Interfacing to pysurf96**\n"
      ]
    },
    {
      "cell_type": "code",
      "execution_count": null,
      "metadata": {
        "collapsed": false
      },
      "outputs": [],
      "source": [
        "# display theory on the using the forward solver\nwith open(\"../../theory/geo_surface_wave_dispersion2.md\", \"r\") as f:\n    content = f.read()\n\ndisplay(Markdown(content))"
      ]
    },
    {
      "cell_type": "code",
      "execution_count": null,
      "metadata": {
        "collapsed": false
      },
      "outputs": [],
      "source": [
        "VP_VS = 1.77\nRHO_VP_K = 0.32\nRHO_VP_B = 0.77\nperiods = np.geomspace(3, 80, 20)"
      ]
    },
    {
      "cell_type": "code",
      "execution_count": null,
      "metadata": {
        "collapsed": false
      },
      "outputs": [],
      "source": [
        "# forward through pysurf96\ndef forward_sw(model, periods):\n    thicknesses, vs = split_layercake_model(model)\n    thicknesses = np.append(thicknesses, 10)\n    vp = vs * VP_VS\n    rho = RHO_VP_K * vp + RHO_VP_B\n    return pysurf96.surf96(\n        thicknesses,\n        vp,\n        vs,\n        rho,\n        periods,\n        wave=\"rayleigh\",\n        mode=1,\n        velocity=\"phase\",\n        flat_earth=False,\n    )"
      ]
    },
    {
      "cell_type": "markdown",
      "metadata": {},
      "source": [
        "**Interfacing to Espresso**\n"
      ]
    },
    {
      "cell_type": "code",
      "execution_count": null,
      "metadata": {
        "collapsed": false
      },
      "outputs": [],
      "source": [
        "# obtain the receiver function library\nrf_lib = espresso.ReceiverFunctionInversionKnt().rf"
      ]
    },
    {
      "cell_type": "code",
      "execution_count": null,
      "metadata": {
        "collapsed": false
      },
      "outputs": [],
      "source": [
        "t_shift = 5\nt_duration = 25\nt_sampling_interval = 0.1\ngauss = 1\nray_param_s_km = 0.07"
      ]
    },
    {
      "cell_type": "code",
      "execution_count": null,
      "metadata": {
        "collapsed": false
      },
      "outputs": [],
      "source": [
        "# forward through rf in espresso\ndef forward_rf(\n    model, \n    t_shift=t_shift, \n    t_duration=t_duration, \n    t_sampling_interval=t_sampling_interval, \n    gauss=gauss, \n    ray_param_s_km=ray_param_s_km,\n    return_times=False\n):\n    h, vs = split_layercake_model(model)\n    data = rf_lib.rf_calc(ps=0, thik=h, beta=vs, kapa=np.ones((len(vs),))*VP_VS, p=ray_param_s_km, \n                      duration=t_duration, dt=t_sampling_interval, shft=t_shift, gauss=gauss)\n    if return_times:\n        times = np.arange(len(data)) * t_sampling_interval - t_shift\n        return data, times\n    else:\n        return data"
      ]
    },
    {
      "cell_type": "markdown",
      "metadata": {},
      "source": [
        "**Numerical Jacobian**\n"
      ]
    },
    {
      "cell_type": "code",
      "execution_count": null,
      "metadata": {
        "collapsed": false
      },
      "outputs": [],
      "source": [
        "def jacobian(model, data_length, fwd, fwd_kwargs, relative_step=0.01):\n    jac = np.zeros((data_length, len(model)))\n    original_dpred = fwd(model, **fwd_kwargs)\n    for i in range(len(model)):\n        perturbed_model = model.copy()\n        step = relative_step * model[i]\n        perturbed_model[i] += step\n        perturbed_dpred = fwd(perturbed_model, **fwd_kwargs)\n        derivative = (perturbed_dpred - original_dpred) / step\n        jac[:, i] = derivative\n    return jac"
      ]
    },
    {
      "cell_type": "markdown",
      "metadata": {},
      "source": [
        "**Plotting**\n"
      ]
    },
    {
      "cell_type": "code",
      "execution_count": null,
      "metadata": {
        "collapsed": false
      },
      "outputs": [],
      "source": [
        "def plot_model(model, ax=None, title=\"model\", **kwargs):\n    # process data\n    thicknesses = np.append(model[1::2], max(model[1::2]))\n    velocities = model[::2]\n    y = np.insert(np.cumsum(thicknesses), 0, 0)\n    x = np.insert(velocities, 0, velocities[0])\n    \n    # plot depth profile\n    if ax is None:\n        _, ax = plt.subplots()\n    plotting_style = {\n        \"linewidth\": kwargs.pop(\"linewidth\", kwargs.pop(\"lw\", 0.5)),\n        \"alpha\": 0.2,\n        \"color\": kwargs.pop(\"color\", kwargs.pop(\"c\", \"blue\")),\n    }\n    plotting_style.update(kwargs)\n    ax.step(x, y, where=\"post\", **plotting_style)\n    if ax.get_ylim()[0] < ax.get_ylim()[1]:\n        ax.invert_yaxis()\n    ax.set_xlabel(\"Vs (km/s)\")\n    ax.set_ylabel(\"Depth (km)\")\n    ax.set_title(title)\n    return ax"
      ]
    },
    {
      "cell_type": "code",
      "execution_count": null,
      "metadata": {
        "collapsed": false
      },
      "outputs": [],
      "source": [
        "def plot_data(x, y, ax=None, scatter=False, xlabel=None, ylabel=None, \n              title=\"surface wave data\", **kwargs):\n    if ax is None:\n        _, ax = plt.subplots()\n    plotting_style = {\n        \"linewidth\": kwargs.pop(\"linewidth\", kwargs.pop(\"lw\", 1)),\n        \"alpha\": 1,\n        \"color\": kwargs.pop(\"color\", kwargs.pop(\"c\", \"blue\")),\n    }\n    plotting_style.update(**kwargs)\n    if scatter:\n        ax.scatter(x, y, **plotting_style)\n    else:\n        ax.plot(x, y, **plotting_style)\n    ax.set_xlabel(xlabel)\n    ax.set_ylabel(ylabel)\n    ax.set_title(title)\n    return ax"
      ]
    },
    {
      "cell_type": "code",
      "execution_count": null,
      "metadata": {
        "collapsed": false
      },
      "outputs": [],
      "source": [
        "def plot_sw_data(rayleigh_phase_velocities, periods, ax=None, scatter=False, \n                 title=\"surface wave data\", **kwargs):\n    return plot_data(x=periods, \n                     y=rayleigh_phase_velocities, \n                     ax=ax, \n                     scatter=scatter, \n                     title=title, \n                     xlabel=\"Periods (s)\", \n                     ylabel=\"Rayleigh phase velocities (km/s)\", \n                     **kwargs)\n\ndef plot_rf_data(rf_data, rf_times, ax=None, scatter=False,\n                 title=\"receiver function data\", **kwargs):\n    return plot_data(x=rf_times, \n                     y=rf_data, \n                     ax=ax, \n                     scatter=scatter, \n                     title=title, \n                     xlabel=\"Times (s)\", \n                     ylabel=\"Receiver function amplitudes\", \n                     **kwargs)"
      ]
    },
    {
      "cell_type": "markdown",
      "metadata": {},
      "source": [
        "# Generate synthetic data\n"
      ]
    },
    {
      "cell_type": "code",
      "execution_count": null,
      "metadata": {
        "collapsed": false
      },
      "outputs": [],
      "source": [
        "true_thickness = np.array([10, 10, 15, 20, 20, 20, 20, 20])\ntrue_voronoi_positions = np.array([5, 15, 25, 45, 65, 85, 105, 125, 145])\ntrue_vs = np.array([3.38, 3.44, 3.66, 4.25, 4.35, 4.32, 4.315, 4.38, 4.5])\ntrue_model = form_layercake_model(true_thickness, true_vs)"
      ]
    },
    {
      "cell_type": "code",
      "execution_count": null,
      "metadata": {
        "collapsed": false
      },
      "outputs": [],
      "source": [
        "RAYLEIGH_STD = 0.02\nRF_STD = 0.015"
      ]
    },
    {
      "cell_type": "code",
      "execution_count": null,
      "metadata": {
        "collapsed": false
      },
      "outputs": [],
      "source": [
        "rayleigh = forward_sw(true_model, periods)\nrayleigh_dobs = rayleigh + np.random.normal(0, RAYLEIGH_STD, rayleigh.size)\n\nrf, rf_times = forward_rf(true_model, return_times=True)\nrf_dobs = rf + np.random.normal(0, RF_STD, rf.size)"
      ]
    },
    {
      "cell_type": "code",
      "execution_count": null,
      "metadata": {
        "collapsed": false
      },
      "outputs": [],
      "source": [
        "_, (ax1, ax2, ax3) = plt.subplots(1, 3, figsize=(12,4), gridspec_kw={'width_ratios': [1, 2.5, 2.5]})\n\n# plot true model\nplot_model(true_model, ax=ax1, alpha=1, color=\"r\", label=\"true model\")\nax1.grid()\n\n# plot surface wave data\nplot_sw_data(rayleigh, periods, ax=ax2, color=\"orange\", label=\"true rayleigh data (noiseless)\")\nplot_sw_data(rayleigh_dobs, periods, ax=ax2, scatter=True, color=\"brown\", s=4, \n          label=\"observed rayleigh data (noisy)\")\nax2.grid()\n\n# plot receiver function data\nplot_rf_data(rf, rf_times, ax=ax3, color=\"lightblue\", label=\"true receiver function data (noiseless)\")\nplot_rf_data(rf_dobs, rf_times, ax=ax3, scatter=True, color=\"darkblue\", s=2, \n          label=\"observed receiver function data (noisy)\")\nax3.grid()\n\nax1.legend(loc=\"lower center\", bbox_to_anchor=(0.5, -0.4))\nax2.legend(loc=\"lower center\", bbox_to_anchor=(0.5, -0.5))\nax3.legend(loc=\"lower center\", bbox_to_anchor=(0.5, -0.5))\n\nplt.tight_layout()"
      ]
    },
    {
      "cell_type": "markdown",
      "metadata": {},
      "source": [
        "# Optimisation\n"
      ]
    },
    {
      "cell_type": "markdown",
      "metadata": {},
      "source": [
        "**Prepare \\`\\`BaseProblem\\`\\` for optimisation**\n"
      ]
    },
    {
      "cell_type": "code",
      "execution_count": null,
      "metadata": {
        "collapsed": false
      },
      "outputs": [],
      "source": [
        "n_dims = 17\n\ninit_thicknesses = np.ones((n_dims//2,)) * 15\ninit_vs = np.ones((n_dims//2+1,)) * 4.0\ninit_model = form_layercake_model(init_thicknesses, init_vs)"
      ]
    },
    {
      "cell_type": "code",
      "execution_count": null,
      "metadata": {
        "collapsed": false
      },
      "outputs": [],
      "source": [
        "_, (ax1, ax2, ax3) = plt.subplots(1, 3, figsize=(12,4), gridspec_kw={'width_ratios': [1, 2.5, 2.5]})\n\n# plot true model\nplot_model(init_model, ax=ax1, alpha=1, color=\"purple\", label=\"starting model\")\nplot_model(true_model, ax=ax1, alpha=1, color=\"r\", label=\"true model\")\nax1.grid()\n\n# plot surface wave data\nplot_sw_data(forward_sw(init_model, periods), periods, ax=ax2, color=\"purple\",\n             label=\"predicted rayleigh data from starting model\")\nplot_sw_data(rayleigh_dobs, periods, ax=ax2, scatter=True, color=\"orange\", s=4, \n          label=\"observed rayleigh data (noisy)\")\nax2.grid()\n\n# plot receiver function data\nplot_rf_data(forward_rf(init_model), rf_times, ax=ax3, color=\"purple\",\n             label=\"predicted receiver function data from starting model\")\nplot_rf_data(rf_dobs, rf_times, ax=ax3, scatter=True, color=\"darkblue\", s=2, \n          label=\"observed receiver function data (noisy)\")\nax3.grid()\n\nax1.legend(loc=\"lower center\", bbox_to_anchor=(0.5, -0.5))\nax2.legend(loc=\"lower center\", bbox_to_anchor=(0.5, -0.5))\nax3.legend(loc=\"lower center\", bbox_to_anchor=(0.5, -0.5))\n\nplt.tight_layout()"
      ]
    },
    {
      "cell_type": "code",
      "execution_count": null,
      "metadata": {
        "collapsed": false
      },
      "outputs": [],
      "source": [
        "my_reg = cofi.utils.QuadraticReg(\n    weighting_matrix=\"damping\", \n    model_shape=(n_dims,),\n    reference_model=init_model\n)"
      ]
    },
    {
      "cell_type": "code",
      "execution_count": null,
      "metadata": {
        "collapsed": false
      },
      "outputs": [],
      "source": [
        "def my_objective(model, fwd_funcs, d_obs_list, lamda=1.0):\n    data_misfit = 0\n    for (fwd, fwd_kwargs), d_obs in zip(fwd_funcs, d_obs_list):\n        d_pred = fwd(model, **fwd_kwargs)\n        data_misfit += np.sum((d_obs - d_pred) ** 2)\n    reg = my_reg(model)\n    return data_misfit + lamda * reg\n\ndef my_objective_gradient(model, fwd_funcs, d_obs_list, lamda=1.0):\n    data_misfit_grad = 0\n    for (fwd, fwd_kwargs), d_obs in zip(fwd_funcs, d_obs_list):\n        d_pred = fwd(model, **fwd_kwargs)\n        jac = jacobian(model, len(d_obs), fwd, fwd_kwargs)\n        data_misfit_grad += -2 * jac.T @ (d_obs - d_pred)\n    reg_grad = my_reg.gradient(model)\n    return data_misfit_grad + lamda * reg_grad\n\ndef my_objective_hessian(model, fwd_funcs, d_obs_list, lamda=1.0):\n    data_misfit_hess = 0\n    for (fwd, fwd_kwargs), d_obs in zip(fwd_funcs, d_obs_list):\n        jac = jacobian(model, len(d_obs), fwd, fwd_kwargs)\n        data_misfit_hess += 2 * jac.T @ jac\n    reg_hess = my_reg.hessian(model)\n    return data_misfit_hess + lamda * reg_hess"
      ]
    },
    {
      "cell_type": "code",
      "execution_count": null,
      "metadata": {
        "collapsed": false
      },
      "outputs": [],
      "source": [
        "fwd_funcs = [\n    (forward_sw, {\"periods\": periods}), \n    (forward_rf, {\n        \"t_shift\": t_shift, \n        \"t_duration\": t_duration, \n        \"t_sampling_interval\": t_sampling_interval, \n        \"gauss\": gauss, \n        \"ray_param_s_km\": ray_param_s_km\n    })\n]\n\nd_obs_list = [rayleigh_dobs, rf_dobs]"
      ]
    },
    {
      "cell_type": "markdown",
      "metadata": {},
      "source": [
        "# Optimisation with no damping\n"
      ]
    },
    {
      "cell_type": "code",
      "execution_count": null,
      "metadata": {
        "collapsed": false
      },
      "outputs": [],
      "source": [
        "lamda = 0\n\nkwargs = {\n    \"fwd_funcs\": fwd_funcs, \n    \"d_obs_list\": d_obs_list, \n    \"lamda\": lamda\n}\njoint_problem_no_reg = cofi.BaseProblem()\njoint_problem_no_reg.set_objective(my_objective, kwargs=kwargs)\njoint_problem_no_reg.set_gradient(my_objective_gradient, kwargs=kwargs)\njoint_problem_no_reg.set_hessian(my_objective_hessian, kwargs=kwargs)\njoint_problem_no_reg.set_initial_model(init_model)"
      ]
    },
    {
      "cell_type": "markdown",
      "metadata": {},
      "source": [
        "**Define \\`\\`InversionOptions\\`\\`**\n"
      ]
    },
    {
      "cell_type": "code",
      "execution_count": null,
      "metadata": {
        "collapsed": false
      },
      "outputs": [],
      "source": [
        "inv_options_optimiser = cofi.InversionOptions()\ninv_options_optimiser.set_tool(\"scipy.optimize.minimize\")\ninv_options_optimiser.set_params(method=\"trust-exact\")"
      ]
    },
    {
      "cell_type": "markdown",
      "metadata": {},
      "source": [
        "**Define \\`\\`Inversion\\`\\` and run**\n"
      ]
    },
    {
      "cell_type": "code",
      "execution_count": null,
      "metadata": {
        "collapsed": false
      },
      "outputs": [],
      "source": [
        "inv_optimiser_no_reg = cofi.Inversion(joint_problem_no_reg, inv_options_optimiser)\ninv_res_optimiser_no_reg = inv_optimiser_no_reg.run()"
      ]
    },
    {
      "cell_type": "markdown",
      "metadata": {},
      "source": [
        "**Plot results**\n"
      ]
    },
    {
      "cell_type": "code",
      "execution_count": null,
      "metadata": {
        "collapsed": false
      },
      "outputs": [],
      "source": [
        "_, (ax1, ax2, ax3) = plt.subplots(1, 3, figsize=(12,4), gridspec_kw={'width_ratios': [1, 2.5, 2.5]})\n\n# plot true model\nplot_model(inv_res_optimiser_no_reg.model, ax=ax1, alpha=1, color=\"purple\", \n           label=\"inverted model\")\nplot_model(true_model, ax=ax1, alpha=1, color=\"r\", label=\"true model\")\nax1.grid()\n\n# plot surface wave data\nplot_sw_data(forward_sw(inv_res_optimiser_no_reg.model, periods), \n             periods, ax=ax2, color=\"purple\",\n             label=\"predicted rayleigh data from inverted model\")\nplot_sw_data(rayleigh_dobs, periods, ax=ax2, scatter=True, color=\"orange\", s=4, \n          label=\"observed rayleigh data (noisy)\")\nax2.grid()\n\n# plot receiver function data\nplot_rf_data(forward_rf(inv_res_optimiser_no_reg.model), rf_times, \n             ax=ax3, color=\"purple\",\n             label=\"predicted receiver function data from inverted model\")\nplot_rf_data(rf_dobs, rf_times, ax=ax3, scatter=True, color=\"darkblue\", s=2, \n          label=\"observed receiver function data (noisy)\")\nax3.grid()\n\nax1.legend(loc=\"lower center\", bbox_to_anchor=(0.5, -0.5))\nax2.legend(loc=\"lower center\", bbox_to_anchor=(0.5, -0.5))\nax3.legend(loc=\"lower center\", bbox_to_anchor=(0.5, -0.5))\n\nplt.tight_layout()"
      ]
    },
    {
      "cell_type": "markdown",
      "metadata": {},
      "source": [
        "# Optimal damping\n\nOh no! The inverted model doesn't look good, and it even has negative\nthicknesses.\n\nMaybe adding a damping term to our objective function would help... but\nhow can we determine a good damping factor?\n\nThe `InversionPool` in CoFI can help you answer it.\n"
      ]
    },
    {
      "cell_type": "code",
      "execution_count": null,
      "metadata": {
        "collapsed": false
      },
      "outputs": [],
      "source": [
        "lambdas = np.logspace(-6, 6, 15)\n\nmy_lcurve_problems = []\nfor lamb in lambdas:\n    my_problem = cofi.BaseProblem()\n    kwargs = {\n        \"fwd_funcs\": fwd_funcs, \n        \"d_obs_list\": d_obs_list, \n        \"lamda\": lamb\n    }\n    my_problem.set_objective(my_objective, kwargs=kwargs)\n    my_problem.set_gradient(my_objective_gradient, kwargs=kwargs)\n    my_problem.set_hessian(my_objective_hessian, kwargs=kwargs)\n    my_problem.set_initial_model(init_model)\n    my_lcurve_problems.append(my_problem)\n\ndef my_callback(inv_result, i):\n    m = inv_result.model\n    res_norm = 0\n    for (fwd, fwd_kwargs), d_obs in zip(fwd_funcs, d_obs_list):\n        d_pred = fwd(m, **fwd_kwargs)\n        res_norm += np.sum((d_obs - d_pred) ** 2)\n    reg_norm = np.sqrt(my_reg(m))\n    print(f\"Finished inversion with lambda={lambdas[i]}: {res_norm}, {reg_norm}\")\n    return res_norm, reg_norm\n\nmy_inversion_pool = cofi.utils.InversionPool(\n    list_of_inv_problems=my_lcurve_problems,\n    list_of_inv_options=inv_options_optimiser,\n    callback=my_callback,\n    parallel=False\n)\nall_res, all_cb_returns = my_inversion_pool.run()\n\nl_curve_points = list(zip(*all_cb_returns))"
      ]
    },
    {
      "cell_type": "code",
      "execution_count": null,
      "metadata": {
        "collapsed": false
      },
      "outputs": [],
      "source": [
        "# print all the lambdas\nlambdas"
      ]
    },
    {
      "cell_type": "markdown",
      "metadata": {},
      "source": [
        "**Plot L-curve**\n"
      ]
    },
    {
      "cell_type": "code",
      "execution_count": null,
      "metadata": {
        "collapsed": false
      },
      "outputs": [],
      "source": [
        "# plot the L-curve\nres_norm, reg_norm = l_curve_points\nplt.plot(reg_norm, res_norm, '.-')\nplt.xlabel(r'Norm of regularization term $||Wm||_2$')\nplt.ylabel(r'Norm of residual $||g(m)-d||_2$')\nfor i in range(0, len(lambdas), 2):\n    plt.annotate(f'{lambdas[i]:.1e}', (reg_norm[i], res_norm[i]), fontsize=8)"
      ]
    },
    {
      "cell_type": "markdown",
      "metadata": {},
      "source": [
        "# Optimisation with damping\n"
      ]
    },
    {
      "cell_type": "markdown",
      "metadata": {},
      "source": [
        "From the L-curve plot above, it seems that a damping factor of around\n0.14 would be good.\n"
      ]
    },
    {
      "cell_type": "code",
      "execution_count": null,
      "metadata": {
        "collapsed": false
      },
      "outputs": [],
      "source": [
        "lamda = 0.14\n\nkwargs = {\n    \"fwd_funcs\": fwd_funcs, \n    \"d_obs_list\": d_obs_list, \n    \"lamda\": lamda\n}\njoint_problem = cofi.BaseProblem()\njoint_problem.set_objective(my_objective, kwargs=kwargs)\njoint_problem.set_gradient(my_objective_gradient, kwargs=kwargs)\njoint_problem.set_hessian(my_objective_hessian, kwargs=kwargs)\njoint_problem.set_initial_model(init_model)"
      ]
    },
    {
      "cell_type": "markdown",
      "metadata": {},
      "source": [
        "**Define \\`\\`Inversion\\`\\` and run**\n"
      ]
    },
    {
      "cell_type": "code",
      "execution_count": null,
      "metadata": {
        "collapsed": false
      },
      "outputs": [],
      "source": [
        "inv_optimiser = cofi.Inversion(joint_problem, inv_options_optimiser)\ninv_res_optimiser = inv_optimiser.run()"
      ]
    },
    {
      "cell_type": "markdown",
      "metadata": {},
      "source": [
        "**Plot results**\n"
      ]
    },
    {
      "cell_type": "code",
      "execution_count": null,
      "metadata": {
        "collapsed": false
      },
      "outputs": [],
      "source": [
        "_, (ax1, ax2, ax3) = plt.subplots(1, 3, figsize=(12,4), gridspec_kw={'width_ratios': [1, 2.5, 2.5]})\n\n# plot true model\nplot_model(inv_res_optimiser.model, ax=ax1, alpha=1, color=\"purple\", \n           label=\"inverted model\")\nplot_model(true_model, ax=ax1, alpha=1, color=\"r\", label=\"true model\")\nax1.grid()\n\n# plot surface wave data\nplot_sw_data(forward_sw(inv_res_optimiser_no_reg.model, periods), \n             periods, ax=ax2, color=\"purple\",\n             label=\"predicted rayleigh data from inverted model\")\nplot_sw_data(rayleigh_dobs, periods, ax=ax2, scatter=True, color=\"orange\", s=4, \n          label=\"observed rayleigh data (noisy)\")\nax2.grid()\n\n# plot receiver function data\nplot_rf_data(forward_rf(inv_res_optimiser.model), rf_times, \n             ax=ax3, color=\"purple\",\n             label=\"predicted receiver function data from inverted model\")\nplot_rf_data(rf_dobs, rf_times, ax=ax3, scatter=True, color=\"darkblue\", s=2, \n          label=\"observed receiver function data (noisy)\")\nax3.grid()\n\nax1.legend(loc=\"lower center\", bbox_to_anchor=(0.5, -0.5))\nax2.legend(loc=\"lower center\", bbox_to_anchor=(0.5, -0.5))\nax3.legend(loc=\"lower center\", bbox_to_anchor=(0.5, -0.5))\n\nplt.tight_layout()"
      ]
    },
    {
      "cell_type": "markdown",
      "metadata": {},
      "source": [
        "# Fixed-dimensional sampling\n"
      ]
    },
    {
      "cell_type": "markdown",
      "metadata": {},
      "source": [
        "**Prepare \\`\\`BaseProblem\\`\\` for fixed-dimensional sampling**\n"
      ]
    },
    {
      "cell_type": "code",
      "execution_count": null,
      "metadata": {
        "collapsed": false
      },
      "outputs": [],
      "source": [
        "thick_min = 5\nthick_max = 30\nvs_min = 2\nvs_max = 5\n\ndef my_log_prior(model):\n    thicknesses, vs = split_layercake_model(model)\n    thicknesses_out_of_bounds = (thicknesses < thick_min) | (thicknesses > thick_max)\n    vs_out_of_bounds = (vs < vs_min) | (vs > vs_max)\n    if np.any(thicknesses_out_of_bounds) or np.any(vs_out_of_bounds):\n        return float(\"-inf\")\n    log_prior = - np.log(thick_max - thick_min) * len(thicknesses) \\\n                - np.log(vs_max - vs_min) * len(vs)\n    return log_prior"
      ]
    },
    {
      "cell_type": "code",
      "execution_count": null,
      "metadata": {
        "collapsed": false
      },
      "outputs": [],
      "source": [
        "# inverse data covariance matrix\nCdinv_rayleigh = np.eye(len(rayleigh_dobs)) / (RAYLEIGH_STD**2)\nCdinv_rf = np.eye(len(rf_dobs)) / (RF_STD**2)\nCdinv_list = [Cdinv_rayleigh, Cdinv_rf]\n\ndef my_log_likelihood(\n    model, \n    fwd_funcs=fwd_funcs, \n    d_obs_list=d_obs_list, \n    Cdinv_list=Cdinv_list\n):\n    log_like_sum = 0\n    for (fwd, fwd_kwargs), d_obs, Cdinv in zip(fwd_funcs, d_obs_list, Cdinv_list):\n        try:\n            d_pred = fwd(model, **fwd_kwargs)\n        except:\n            return float(\"-inf\")\n        residual = d_obs - d_pred\n        log_like_sum += -0.5 * residual @ (Cdinv @ residual).T\n    return log_like_sum"
      ]
    },
    {
      "cell_type": "code",
      "execution_count": null,
      "metadata": {
        "collapsed": false
      },
      "outputs": [],
      "source": [
        "n_walkers = 40\n\nmy_walkers_start = np.ones((n_walkers, n_dims)) * inv_res_optimiser.model\nfor i in range(n_walkers):\n    my_walkers_start[i,:] += np.random.normal(0, 0.5, n_dims)"
      ]
    },
    {
      "cell_type": "code",
      "execution_count": null,
      "metadata": {
        "collapsed": false
      },
      "outputs": [],
      "source": [
        "joint_problem.set_log_prior(my_log_prior)\njoint_problem.set_log_likelihood(my_log_likelihood)"
      ]
    },
    {
      "cell_type": "markdown",
      "metadata": {},
      "source": [
        "**Define \\`\\`InversionOptions\\`\\`**\n"
      ]
    },
    {
      "cell_type": "code",
      "execution_count": null,
      "metadata": {
        "collapsed": false
      },
      "outputs": [],
      "source": [
        "inv_options_fixed_d_sampling = cofi.InversionOptions()\ninv_options_fixed_d_sampling.set_tool(\"emcee\")\ninv_options_fixed_d_sampling.set_params(\n    nwalkers=n_walkers, \n    nsteps=2_000, \n    initial_state=my_walkers_start, \n    skip_initial_state_check=True, \n    progress=True\n)"
      ]
    },
    {
      "cell_type": "markdown",
      "metadata": {},
      "source": [
        "**Define \\`\\`Inversion\\`\\` and run**\n"
      ]
    },
    {
      "cell_type": "markdown",
      "metadata": {},
      "source": [
        "# Sample the prior\n"
      ]
    },
    {
      "cell_type": "code",
      "execution_count": null,
      "metadata": {
        "collapsed": false
      },
      "outputs": [],
      "source": [
        "prior_sampling_problem = cofi.BaseProblem()\nprior_sampling_problem.set_log_posterior(my_log_prior)\nprior_sampling_problem.set_model_shape(init_model.shape)\nprior_sampler = cofi.Inversion(prior_sampling_problem, inv_options_fixed_d_sampling)\nprior_results = prior_sampler.run()"
      ]
    },
    {
      "cell_type": "code",
      "execution_count": null,
      "metadata": {
        "collapsed": false
      },
      "outputs": [],
      "source": [
        "import arviz as az\n\nlabels = [\"v0\", \"t0\", \"v1\", \"t1\", \"v2\", \"t2\", \"v3\", \"t3\", \"v4\", \"t4\", \"v5\", \"t5\", \"v6\", \"t6\", \"v7\", \"t7\", \"v8\"]\n\nprior_results_sampler = prior_results.sampler\naz_idata_prior = az.from_emcee(prior_results_sampler, var_names=labels)\n\naxes = az.plot_trace(\n    az_idata_prior, \n    backend_kwargs={\"constrained_layout\":True}, \n    figsize=(10,20),\n)\n\nfor i, axes_pair in enumerate(axes):\n    ax1 = axes_pair[0]\n    ax2 = axes_pair[1]\n    ax1.set_xlabel(\"parameter value\")\n    ax1.set_ylabel(\"density value\")\n    ax2.set_xlabel(\"number of iterations\")\n    ax2.set_ylabel(\"parameter value\")"
      ]
    },
    {
      "cell_type": "markdown",
      "metadata": {},
      "source": [
        "# Sample the posterior\n"
      ]
    },
    {
      "cell_type": "code",
      "execution_count": null,
      "metadata": {
        "collapsed": false
      },
      "outputs": [],
      "source": [
        "inversion_fixed_d_sampler = cofi.Inversion(joint_problem, inv_options_fixed_d_sampling)\ninv_result_fixed_d_sampler = inversion_fixed_d_sampler.run()"
      ]
    },
    {
      "cell_type": "code",
      "execution_count": null,
      "metadata": {
        "collapsed": false
      },
      "outputs": [],
      "source": [
        "sampler = inv_result_fixed_d_sampler.sampler\naz_idata = az.from_emcee(sampler, var_names=labels)"
      ]
    },
    {
      "cell_type": "code",
      "execution_count": null,
      "metadata": {
        "collapsed": false
      },
      "outputs": [],
      "source": [
        "az_idata.get(\"posterior\")"
      ]
    },
    {
      "cell_type": "code",
      "execution_count": null,
      "metadata": {
        "collapsed": false
      },
      "outputs": [],
      "source": [
        "flat_samples = sampler.get_chain(discard=500, thin=500, flat=True)\nrand_indices = np.random.randint(len(flat_samples), size=100)\n\n_, (ax1, ax2, ax3) = plt.subplots(1, 3, figsize=(12,4), gridspec_kw={'width_ratios': [1, 3, 3]})\n\nax1.set_ylim(170)\n\n# plot samples and data predictions from samples\nfor idx in rand_indices:\n    sample = flat_samples[idx]\n    plot_model(sample, ax=ax1, alpha=0.2, lw=0.5, color=\"gray\")\n    plot_sw_data(forward_sw(sample, periods), periods, \n                 ax=ax2, alpha=0.2, lw=0.5, color=\"gray\")\n    plot_rf_data(forward_rf(sample), rf_times,\n                 ax=ax3, alpha=0.2, lw=0.5, color=\"gray\")\n\n# add labels to samples\nsample_0 = flat_samples[rand_indices[0]]\nplot_model(sample_0, ax=ax1, alpha=0.5, lw=0.5, color=\"gray\", label=\"samples\")\nplot_sw_data(forward_sw(sample_0, periods), periods, ax=ax2, \n             alpha=0.5, lw=0.5, color=\"gray\", label=\"rayleigh_dpred from samples\")\nplot_rf_data(forward_rf(sample_0), rf_times, ax=ax3, \n             alpha=0.5, lw=0.5, color=\"gray\", label=\"rf_dpred from samples\")\n\n# plot true model and data observations\nplot_model(true_model, ax=ax1, alpha=1, color=\"r\", label=\"true model\")\nplot_sw_data(rayleigh_dobs, periods, ax=ax2, scatter=True, color=\"r\", s=4, \n          label=\"rayleigh_dobs\")\nplot_rf_data(rf_dobs, rf_times, ax=ax3, scatter=True, color=\"r\", s=2, \n          label=\"rf_dobs\")\n\n# plot damped optimisation result\nplot_model(inv_res_optimiser.model, ax=ax1, alpha=1, color=\"green\", \n           label=\"damped solution\")\nplot_sw_data(forward_sw(inv_res_optimiser_no_reg.model, periods), \n             periods, ax=ax2, color=\"green\",\n             label=\"rayleigh_dpred from damped solution\")\nplot_rf_data(forward_rf(inv_res_optimiser.model), rf_times, \n             ax=ax3, color=\"green\",\n             label=\"rf_dpred from damped solution\")\n\n# plot initial model for dampied optimsiation\nplot_model(init_model, ax=ax1, alpha=1, color=\"purple\", \n           label=\"initial model for damped solution\")\nplot_sw_data(forward_sw(init_model, periods), periods, ax=ax2, color=\"purple\",\n             label=\"rayleigh_dpred from initial model for damped solution\")\nplot_rf_data(forward_rf(init_model), rf_times, ax=ax3, color=\"purple\",\n             label=\"rf_dpred from initial model for damped solution\")\n\nax1.legend(loc=\"upper center\", bbox_to_anchor=(0.5, -0.18))\nax2.legend(loc=\"upper center\", bbox_to_anchor=(0.5, -0.18))\nax3.legend(loc=\"upper center\", bbox_to_anchor=(0.5, -0.18))\nax1.grid()\nax2.grid()\nax3.grid()\n\nplt.tight_layout()"
      ]
    },
    {
      "cell_type": "code",
      "execution_count": null,
      "metadata": {
        "collapsed": false
      },
      "outputs": [],
      "source": [
        "axes = az.plot_trace(\n    az_idata, \n    backend_kwargs={\"constrained_layout\":True},\n    figsize=(10,20)\n)\n\nfor i, axes_pair in enumerate(axes):\n    ax1 = axes_pair[0]\n    ax2 = axes_pair[1]\n    ax1.axvline(true_model[i], linestyle='dotted', color='red')\n    ax1.set_xlabel(\"parameter value\")\n    ax1.set_ylabel(\"density value\")\n    ax2.set_xlabel(\"number of iterations\")\n    ax2.set_ylabel(\"parameter value\")"
      ]
    },
    {
      "cell_type": "markdown",
      "metadata": {},
      "source": [
        "# Trans-dimensional sampling\n"
      ]
    },
    {
      "cell_type": "markdown",
      "metadata": {},
      "source": [
        "**Prepare utilities for trans-d sampling**\n"
      ]
    },
    {
      "cell_type": "code",
      "execution_count": null,
      "metadata": {
        "collapsed": false
      },
      "outputs": [],
      "source": [
        "def fwd_rayleigh_for_bayesbay(state):\n    vs = state[\"voronoi\"][\"vs\"]\n    voronoi_sites = state[\"voronoi\"][\"discretization\"]\n    depths = (voronoi_sites[:-1] + voronoi_sites[1:]) / 2\n    thicknesses = depths - np.insert(depths[:-1], 0, 0)\n    model = form_layercake_model(thicknesses, vs)\n    return forward_sw(model, periods)\n\ndef fwd_rf_for_bayesbay(state):\n    vs = state[\"voronoi\"][\"vs\"]\n    voronoi_sites = state[\"voronoi\"][\"discretization\"]\n    depths = (voronoi_sites[:-1] + voronoi_sites[1:]) / 2\n    thicknesses = depths - np.insert(depths[:-1], 0, 0)\n    model = form_layercake_model(thicknesses, vs)\n    return forward_rf(model)"
      ]
    },
    {
      "cell_type": "code",
      "execution_count": null,
      "metadata": {
        "collapsed": false
      },
      "outputs": [],
      "source": [
        "targets = [\n    bayesbay.Target(\"rayleigh\", rayleigh_dobs, covariance_mat_inv=1 / RAYLEIGH_STD**2),\n    bayesbay.Target(\"rf\", rf_dobs, covariance_mat_inv=1 / RF_STD**2),\n]\nforward_funcs = [fwd_rayleigh_for_bayesbay, fwd_rf_for_bayesbay]\n\nmy_log_likelihood = bayesbay.LogLikelihood(targets, forward_funcs)"
      ]
    },
    {
      "cell_type": "code",
      "execution_count": null,
      "metadata": {
        "collapsed": false
      },
      "outputs": [],
      "source": [
        "param_vs = bayesbay.prior.UniformPrior(\n    name=\"vs\", \n    vmin=[2.7, 3.2, 3.75], \n    vmax=[4, 4.75, 5], \n    position=[0, 40, 80], \n    perturb_std=0.15\n)\n\ndef param_vs_initialize(param, positions): \n    vmin, vmax = param.get_vmin_vmax(positions)\n    sorted_vals = np.sort(np.random.uniform(vmin, vmax, positions.size))\n    for i in range (len(sorted_vals)):\n        val = sorted_vals[i]\n        vmin_i = vmin if np.isscalar(vmin) else vmin[i]\n        vmax_i = vmax if np.isscalar(vmax) else vmax[i]\n        if val < vmin_i or val > vmax_i:\n            if val > vmax_i: sorted_vals[i] = vmax_i\n            if val < vmin_i: sorted_vals[i] = vmin_i\n    return sorted_vals\n\nparam_vs.set_custom_initialize(param_vs_initialize)"
      ]
    },
    {
      "cell_type": "code",
      "execution_count": null,
      "metadata": {
        "collapsed": false
      },
      "outputs": [],
      "source": [
        "parameterization = bayesbay.parameterization.Parameterization(\n    bayesbay.discretization.Voronoi1D(\n        name=\"voronoi\", \n        vmin=0, \n        vmax=150, \n        perturb_std=10, \n        n_dimensions=None, \n        n_dimensions_min=4, \n        n_dimensions_max=15, \n        parameters=[param_vs], \n    )\n)\nmy_perturbation_funcs = parameterization.perturbation_functions"
      ]
    },
    {
      "cell_type": "code",
      "execution_count": null,
      "metadata": {
        "collapsed": false
      },
      "outputs": [],
      "source": [
        "n_chains=12\nwalkers_start = []\nfor i in range(n_chains):\n    walkers_start.append(parameterization.initialize())"
      ]
    },
    {
      "cell_type": "markdown",
      "metadata": {},
      "source": [
        "**Define \\`\\`InversionOptions\\`\\`**\n"
      ]
    },
    {
      "cell_type": "code",
      "execution_count": null,
      "metadata": {
        "collapsed": false
      },
      "outputs": [],
      "source": [
        "inv_options_trans_d = cofi.InversionOptions()\ninv_options_trans_d.set_tool(\"bayesbay\")\ninv_options_trans_d.set_params(\n    walkers_starting_states=walkers_start,\n    perturbation_funcs=my_perturbation_funcs,\n    log_like_ratio_func=my_log_likelihood,\n    n_chains=n_chains, \n    n_iterations=2_000, \n    burnin_iterations=1_000,\n    verbose=False, \n    save_every=200, \n)"
      ]
    },
    {
      "cell_type": "markdown",
      "metadata": {},
      "source": [
        "**Define \\`\\`Inversion\\`\\` and run**\n"
      ]
    },
    {
      "cell_type": "code",
      "execution_count": null,
      "metadata": {
        "collapsed": false
      },
      "outputs": [],
      "source": [
        "inversion_trans_d_sampler = cofi.Inversion(joint_problem, inv_options_trans_d)\ninv_res_trans_d_sampler = inversion_trans_d_sampler.run()"
      ]
    },
    {
      "cell_type": "code",
      "execution_count": null,
      "metadata": {
        "collapsed": false
      },
      "outputs": [],
      "source": [
        "saved_states = inv_res_trans_d_sampler.models\nsamples_voronoi = saved_states[\"voronoi.discretization\"]\nsamples_vs = saved_states[\"voronoi.vs\"]\ninterp_depths = np.arange(150, dtype=float)"
      ]
    },
    {
      "cell_type": "code",
      "execution_count": null,
      "metadata": {
        "collapsed": false
      },
      "outputs": [],
      "source": [
        "rand_indices = np.random.randint(len(samples_voronoi), size=100)\n\n_, (ax1, ax2, ax3) = plt.subplots(1, 3, figsize=(12,4), gridspec_kw={'width_ratios': [1, 3, 3]})\n\nax1.set_ylim(170)\n\n# plot samples and data predictions from samples\nfor idx in rand_indices:\n    sample_voronoi = form_voronoi_model(samples_voronoi[idx], samples_vs[idx])\n    sample = voronoi_to_layercake(sample_voronoi)\n    plot_model(sample, ax=ax1, alpha=0.2, lw=0.5, color=\"gray\")\n    plot_sw_data(forward_sw(sample, periods), periods, \n                 ax=ax2, alpha=0.2, lw=0.5, color=\"gray\")\n    plot_rf_data(forward_rf(sample), rf_times,\n                 ax=ax3, alpha=0.2, lw=0.5, color=\"gray\")\n\n# add labels to samples\nsample_0_voronoi = form_voronoi_model(samples_voronoi[0], samples_vs[0])\nsample_0 = voronoi_to_layercake(sample_0_voronoi)\nplot_model(sample_0, ax=ax1, alpha=0.2, lw=0.5, color=\"gray\", label=\"samples\")\nplot_sw_data(forward_sw(sample_0, periods), periods, ax=ax2, \n             alpha=0.2, lw=0.5, color=\"gray\", label=\"rayleigh_dpred from samples\")\nplot_rf_data(forward_rf(sample_0), rf_times, ax=ax3, \n             alpha=0.2, lw=0.5, color=\"gray\", label=\"rf_dpred from samples\")\n\n# plot true model and data observations\nplot_model(true_model, ax=ax1, alpha=1, color=\"r\", label=\"true model\")\nplot_sw_data(rayleigh_dobs, periods, ax=ax2, scatter=True, color=\"r\", s=4, \n          label=\"rayleigh_dobs\")\nplot_rf_data(rf_dobs, rf_times, ax=ax3, scatter=True, color=\"r\", s=2, \n          label=\"rf_dobs\")\n\n# plot damped optimisation result\nplot_model(inv_res_optimiser.model, ax=ax1, alpha=1, color=\"green\", \n           label=\"damped solution\")\nplot_sw_data(forward_sw(inv_res_optimiser_no_reg.model, periods), \n             periods, ax=ax2, color=\"green\",\n             label=\"rayleigh_dpred from damped solution\")\nplot_rf_data(forward_rf(inv_res_optimiser.model), rf_times, \n             ax=ax3, color=\"green\",\n             label=\"rf_dpred from damped solution\")\n\n# plot initial model for dampied optimsiation\nplot_model(init_model, ax=ax1, alpha=1, color=\"purple\", \n           label=\"initial model for damped solution\")\nplot_sw_data(forward_sw(init_model, periods), periods, ax=ax2, color=\"purple\",\n             label=\"rayleigh_dpred from initial model for damped solution\")\nplot_rf_data(forward_rf(init_model), rf_times, ax=ax3, color=\"purple\",\n             label=\"rf_dpred from initial model for damped solution\")\n\nax1.legend(loc=\"upper center\", bbox_to_anchor=(0.5, -0.18))\nax2.legend(loc=\"upper center\", bbox_to_anchor=(0.5, -0.18))\nax3.legend(loc=\"upper center\", bbox_to_anchor=(0.5, -0.18))\nax1.grid()\nax2.grid()\nax3.grid()\n\nplt.tight_layout()"
      ]
    },
    {
      "cell_type": "markdown",
      "metadata": {},
      "source": [
        "------------------------------------------------------------------------\n\n# Watermark\n"
      ]
    },
    {
      "cell_type": "code",
      "execution_count": null,
      "metadata": {
        "collapsed": false
      },
      "outputs": [],
      "source": [
        "watermark_list = [\"cofi\", \"espresso\", \"numpy\", \"matplotlib\", \"scipy\", \"bayesbay\"]\nfor pkg in watermark_list:\n    pkg_var = __import__(pkg)\n    print(pkg, getattr(pkg_var, \"__version__\"))"
      ]
    },
    {
      "cell_type": "markdown",
      "metadata": {},
      "source": [
        "sphinx_gallery_thumbnail_number = -1\n"
      ]
    }
  ],
  "metadata": {
    "kernelspec": {
      "display_name": "Python 3",
      "language": "python",
      "name": "python3"
    },
    "language_info": {
      "codemirror_mode": {
        "name": "ipython",
        "version": 3
      },
      "file_extension": ".py",
      "mimetype": "text/x-python",
      "name": "python",
      "nbconvert_exporter": "python",
      "pygments_lexer": "ipython3",
      "version": "3.11.8"
    }
  },
  "nbformat": 4,
  "nbformat_minor": 0
}