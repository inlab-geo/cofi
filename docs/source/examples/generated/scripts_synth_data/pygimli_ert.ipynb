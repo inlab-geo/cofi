{
  "cells": [
    {
      "cell_type": "markdown",
      "metadata": {},
      "source": [
        "# Electrical Resistivity Tomography with PyGIMLi\n"
      ]
    },
    {
      "cell_type": "markdown",
      "metadata": {},
      "source": [
        "Using the ERT (Electrical Resistivity Tomography) solver implemented\nprovided by [PyGIMLi](https://www.pygimli.org/), we use different `cofi`\nsolvers to solve the corresponding inverse problem.\n"
      ]
    },
    {
      "cell_type": "markdown",
      "metadata": {},
      "source": [
        "[![Open In\nColab](https://img.shields.io/badge/open%20in-Colab-b5e2fa?logo=googlecolab&style=flat-square&color=ffd670)](https://colab.research.google.com/github/inlab-geo/cofi-examples/blob/main/examples/pygimli_ert/pygimli_ert.ipynb)\n"
      ]
    },
    {
      "cell_type": "markdown",
      "metadata": {},
      "source": [
        "```{=html}\n<!-- Again, please don't touch the markdown cell above. We'll generate badge \n     automatically from the above cell. -->\n```\n```{=html}\n<!-- This cell describes things related to environment setup, so please add more text \n     if something special (not listed below) is needed to run this notebook -->\n```\n> If you are running this notebook locally, make sure you've followed\n> [steps\n> here](https://github.com/inlab-geo/cofi-examples#run-the-examples-with-cofi-locally)\n> to set up the environment. (This\n> [environment.yml](https://github.com/inlab-geo/cofi-examples/blob/main/envs/environment.yml)\n> file specifies a list of packages required to run the notebooks)\n\nNote: This notebook is adapted from a PyGIMLi example: [Naive\ncomplex-valued electrical\ninversion](https://www.pygimli.org/_examples_auto/3_dc_and_ip/plot_07_simple_complex_inversion.html#sphx-glr-examples-auto-3-dc-and-ip-plot-07-simple-complex-inversion-py)\n"
      ]
    },
    {
      "cell_type": "markdown",
      "metadata": {},
      "source": [
        "# 0. Import modules\n"
      ]
    },
    {
      "cell_type": "code",
      "execution_count": null,
      "metadata": {
        "collapsed": false
      },
      "outputs": [],
      "source": [
        "# -------------------------------------------------------- #\n#                                                          #\n#     Uncomment below to set up environment on \"colab\"     #\n#                                                          #\n# -------------------------------------------------------- #\n\n# !pip install -U cofi\n\n# !pip install -q condacolab\n# import condacolab\n# condacolab.install()\n# !mamba install -c gimli pygimli=1.3"
      ]
    },
    {
      "cell_type": "code",
      "execution_count": null,
      "metadata": {
        "collapsed": false
      },
      "outputs": [],
      "source": [
        "# !git clone https://github.com/inlab-geo/cofi-examples.git\n# %cd cofi-examples/examples/pygimli_ert"
      ]
    },
    {
      "cell_type": "markdown",
      "metadata": {},
      "source": [
        "We will need the following packages:\n\n-   `numpy` for matrices and matrix-related functions\n-   `matplotlib` for plotting\n-   `pygimli` for forward modelling of the problem\n-   `cofi` for accessing different inference solvers\n\nAdditionally, we wrap some `pygimli` code in file `pygimli_ert_lib.py`\nand import it here for conciseness.\n"
      ]
    },
    {
      "cell_type": "code",
      "execution_count": null,
      "metadata": {
        "collapsed": false
      },
      "outputs": [],
      "source": [
        "import numpy as np\nimport matplotlib.pyplot as plt\nimport pygimli\nfrom pygimli.physics import ert\n\nfrom cofi import BaseProblem, InversionOptions, Inversion\nfrom cofi.tools import BaseInferenceTool\n\nfrom pygimli_ert_lib import *\n\nnp.random.seed(42)"
      ]
    },
    {
      "cell_type": "markdown",
      "metadata": {},
      "source": [
        "# 1. Define the problem\n"
      ]
    },
    {
      "cell_type": "markdown",
      "metadata": {},
      "source": [
        "We first define the true model, the survey and map it on a computational\nmesh designed for the survey and true anomaly.\n"
      ]
    },
    {
      "cell_type": "code",
      "execution_count": null,
      "metadata": {
        "collapsed": false
      },
      "outputs": [],
      "source": [
        "# PyGIMLi - define measuring scheme, geometry, forward mesh and true model\nscheme = survey_scheme()\nmesh, rhomap = model_true(scheme)\n\n# plot the true model\nax = pygimli.show(mesh, data=rhomap, label=\"$\\Omega m$\", showMesh=True)\nax[0].set_title(\"True model\")"
      ]
    },
    {
      "cell_type": "markdown",
      "metadata": {},
      "source": [
        "Generate the synthetic data as a container with all the necessary\ninformation for plotting.\n\nIn ERT problems, the model and data are by convention treated in log\nspace.\n"
      ]
    },
    {
      "cell_type": "code",
      "execution_count": null,
      "metadata": {
        "collapsed": false
      },
      "outputs": [],
      "source": [
        "# PyGIMLi - generate data\ndata, log_data, data_cov_inv = ert_simulate(mesh, scheme, rhomap)\n\nax = ert.show(data)\nax[0].set_title(\"Provided data\")"
      ]
    },
    {
      "cell_type": "markdown",
      "metadata": {},
      "source": [
        "Further, we create a `pygimli.ert.ERTManager` instance to keep record of\nproblem-specific information like the inversion mesh, and to perform\nforward operation for the inversion solvers.\n"
      ]
    },
    {
      "cell_type": "code",
      "execution_count": null,
      "metadata": {
        "collapsed": false
      },
      "outputs": [],
      "source": [
        "# create PyGIMLi's ERT manager\nert_manager = ert_manager(data)"
      ]
    },
    {
      "cell_type": "markdown",
      "metadata": {},
      "source": [
        "The inversion can use a different mesh and the mesh to be used should\nknow nothing about the mesh that was designed based on the true model.\nWe wrap two kinds of mesh as examples in the library code\n`pygimli_ert_lib.py`, namely triangular and rectangular mesh.\n\nUse `imesh_tri = inversion_mesh(scheme)` to initialise a triangular\nmesh. This function uses PyGIMLi's own mesh generator and generates\ntriangular mesh automatically from given sensor locations. The resulting\nmesh will have a smaller area as unknowns to be inverted, as well as a\nbackground part with values prolongated outside from the parametric\ndomain by PyGIMLi. You will see an example plot in the code cell below.\n\nUse `imesh_rect = inversion_mesh_rect(ert_manager)` to initislise a\nrectangular mesh. The grid mesh is created from these x and y nodes:\n`x = np.linspace(start=-5, stop=55, num=61)`, and\n`y = np.linspace(start=-20,stop=0,num=10)`. And again, there's a\ntriangular background with values prolongated outside from the\nparametric domain by PyGIMLi.\n\nHere we first demonstrate how to use a *triangular mesh*. Note that this\nmakes the inversion problem under-determined.\n"
      ]
    },
    {
      "cell_type": "code",
      "execution_count": null,
      "metadata": {
        "collapsed": false
      },
      "outputs": [],
      "source": [
        "inv_mesh = inversion_mesh(ert_manager)\nax = pygimli.show(inv_mesh, showMesh=True, markers=True)\nax[0].set_title(\"Mesh used for inversion\")"
      ]
    },
    {
      "cell_type": "markdown",
      "metadata": {},
      "source": [
        "[This\nfolder](https://github.com/inlab-geo/cofi-examples/tree/main/examples/pygimli_ert)\ncontains examples scripts that run inversion for triangular or\nrectangular meshes, with different inversion approaches.\n"
      ]
    },
    {
      "cell_type": "markdown",
      "metadata": {},
      "source": [
        "With the inversion mesh created, we now define a starting model, forward\noperator and weighting matrix for regularization using PyGIMLi.\n\nRecall that both our model and data will be in log space when we perform\ninversion.\n"
      ]
    },
    {
      "cell_type": "code",
      "execution_count": null,
      "metadata": {
        "collapsed": false
      },
      "outputs": [],
      "source": [
        "# PyGIMLi's forward operator (ERTModelling)\nforward_oprt = ert_forward_operator(ert_manager, scheme, inv_mesh)\n\n# extract regularization matrix\nWm = reg_matrix(forward_oprt)\n\n# initialise a starting model for inversion\nstart_model, start_model_log = starting_model(ert_manager)\nax = pygimli.show(ert_manager.paraDomain, data=start_model, label=\"$\\Omega m$\", showMesh=True)\nax[0].set_title(\"Starting model\")"
      ]
    },
    {
      "cell_type": "markdown",
      "metadata": {},
      "source": [
        "CoFI and other inference packages require a set of functions that\nprovide the misfit, the jacobian the residual within the case of scipy\nstandardised interfaces. All these functions are defined in the library\nfile `pygimli_ert_lib.py`, so open this file if you'd like to find out\nthe details. These functions are:\n\n-   `get_response`\n-   `get_jacobian`\n-   `get_residuals`\n-   `get_data_misfit`\n-   `get_regularization`\n-   `get_gradient`\n-   `get_hessian`\n"
      ]
    },
    {
      "cell_type": "markdown",
      "metadata": {},
      "source": [
        "With all the above forward operations set up with PyGIMLi, we now define\nthe problem in `cofi` by setting the problem information for a\n`BaseProblem` object.\n"
      ]
    },
    {
      "cell_type": "code",
      "execution_count": null,
      "metadata": {
        "collapsed": false
      },
      "outputs": [],
      "source": [
        "# hyperparameters\nlamda = 0.0001\n\n# CoFI - define BaseProblem\nert_problem = BaseProblem()\nert_problem.name = \"Electrical Resistivity Tomography defined through PyGIMLi\"\nert_problem.set_forward(get_response, args=[forward_oprt])\nert_problem.set_jacobian(get_jacobian, args=[forward_oprt])\nert_problem.set_residual(get_residual, args=[log_data, forward_oprt])\nert_problem.set_data_misfit(get_data_misfit, args=[log_data, forward_oprt, data_cov_inv])\nert_problem.set_regularization(get_regularization, args=[Wm, lamda])\nert_problem.set_gradient(get_gradient, args=[log_data, forward_oprt, Wm, lamda, data_cov_inv])\nert_problem.set_hessian(get_hessian, args=[log_data, forward_oprt, Wm, lamda, data_cov_inv])\nert_problem.set_initial_model(start_model_log)"
      ]
    },
    {
      "cell_type": "markdown",
      "metadata": {},
      "source": [
        "Review what information is included in the `BaseProblem` object:\n"
      ]
    },
    {
      "cell_type": "code",
      "execution_count": null,
      "metadata": {
        "collapsed": false
      },
      "outputs": [],
      "source": [
        "ert_problem.summary()"
      ]
    },
    {
      "cell_type": "markdown",
      "metadata": {},
      "source": [
        "# 2. Define the inversion options and run\n\n## SciPy's optimizer ([trust-exact](https://docs.scipy.org/doc/scipy/reference/optimize.minimize-trustexact.html#optimize-minimize-trustexact))\n"
      ]
    },
    {
      "cell_type": "code",
      "execution_count": null,
      "metadata": {
        "collapsed": false
      },
      "outputs": [],
      "source": [
        "ert_problem.suggest_tools();"
      ]
    },
    {
      "cell_type": "code",
      "execution_count": null,
      "metadata": {
        "collapsed": false
      },
      "outputs": [],
      "source": [
        "inv_options_scipy = InversionOptions()\ninv_options_scipy.set_tool(\"scipy.optimize.minimize\")\ninv_options_scipy.set_params(method=\"trust-exact\", options={\"maxiter\": 10})"
      ]
    },
    {
      "cell_type": "markdown",
      "metadata": {},
      "source": [
        "Review what's been defined for the inversion we are about to run:\n"
      ]
    },
    {
      "cell_type": "code",
      "execution_count": null,
      "metadata": {
        "collapsed": false
      },
      "outputs": [],
      "source": [
        "inv_options_scipy.summary()"
      ]
    },
    {
      "cell_type": "code",
      "execution_count": null,
      "metadata": {
        "collapsed": false
      },
      "outputs": [],
      "source": [
        "inv = Inversion(ert_problem, inv_options_scipy)\ninv_result = inv.run()\n# inv_result.summary()\nprint(f\"\\nSolver message: {inv_result.message}\")"
      ]
    },
    {
      "cell_type": "code",
      "execution_count": null,
      "metadata": {
        "collapsed": false
      },
      "outputs": [],
      "source": [
        "inv_result.success"
      ]
    },
    {
      "cell_type": "markdown",
      "metadata": {},
      "source": [
        "Plot the results:\n"
      ]
    },
    {
      "cell_type": "code",
      "execution_count": null,
      "metadata": {
        "collapsed": false
      },
      "outputs": [],
      "source": [
        "# convert back to normal space from log space\nmodel = np.exp(inv_result.model)\n\n# plot inferred model\nax = pygimli.show(ert_manager.paraDomain, data=model, label=r\"$\\Omega m$\")\nax[0].set_title(\"Inferred model\")"
      ]
    },
    {
      "cell_type": "markdown",
      "metadata": {},
      "source": [
        "We can now also compare the synthetic data with provided observations.\n"
      ]
    },
    {
      "cell_type": "code",
      "execution_count": null,
      "metadata": {
        "collapsed": false
      },
      "outputs": [],
      "source": [
        "_, axes = plt.subplots(1, 2, figsize=(12,4))\n\n# plot synthetic data\nd = forward_oprt.response(model)\nert.showERTData(scheme, vals=d, cMin=np.min(data[\"rhoa\"]), cMax=np.max(data[\"rhoa\"]), ax=axes[0])\naxes[0].set_title(\"Synthetic data from inferred model\")\n\n# plot given data\nert.show(data, ax=axes[1])\naxes[1].set_title(\"Provided data\")"
      ]
    },
    {
      "cell_type": "markdown",
      "metadata": {},
      "source": [
        "# 3. What's next?\n\nNow that we've seen the PyGIMLi ERT problem solved by two different\ninversion approaches through CoFI, it would be nice to see more\ninversion solvers (even a sampler!) and a similar problem defined with a\nrectangular mesh. If you'd like to see some self-contained examples,\nhead to [this GitHub\nfolder](https://github.com/inlab-geo/cofi-examples/tree/main/examples/pygimli_ert)\nto explore more.\n"
      ]
    },
    {
      "cell_type": "markdown",
      "metadata": {},
      "source": [
        "```{=html}\n<!-- ### 2.3 Bayesian sampling with emcee (exploration)\n\nCoFI needs more assumptions about the problem for a sampler to work - these are\nthe log of posterior distribution density and walkers' starting positions.\n\nFor the log posterior, we define here by specifying `log_prior` and `log_likelihood`.\nAnd CoFI will combine them to get the `log_posterior`. -->\n```\n"
      ]
    },
    {
      "cell_type": "markdown",
      "metadata": {},
      "source": [
        "------------------------------------------------------------------------\n\n# Watermark\n"
      ]
    },
    {
      "cell_type": "code",
      "execution_count": null,
      "metadata": {
        "collapsed": false
      },
      "outputs": [],
      "source": [
        "watermark_list = [\"cofi\", \"numpy\", \"scipy\", \"pygimli\", \"matplotlib\"]\nfor pkg in watermark_list:\n    pkg_var = __import__(pkg)\n    print(pkg, getattr(pkg_var, \"__version__\"))"
      ]
    },
    {
      "cell_type": "markdown",
      "metadata": {},
      "source": [
        "sphinx_gallery_thumbnail_number = -1\n"
      ]
    }
  ],
  "metadata": {
    "kernelspec": {
      "display_name": "Python 3",
      "language": "python",
      "name": "python3"
    },
    "language_info": {
      "codemirror_mode": {
        "name": "ipython",
        "version": 3
      },
      "file_extension": ".py",
      "mimetype": "text/x-python",
      "name": "python",
      "nbconvert_exporter": "python",
      "pygments_lexer": "ipython3",
      "version": "3.10.13"
    }
  },
  "nbformat": 4,
  "nbformat_minor": 0
}