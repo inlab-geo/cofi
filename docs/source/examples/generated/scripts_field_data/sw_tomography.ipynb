{
  "cells": [
    {
      "cell_type": "markdown",
      "metadata": {},
      "source": [
        "# Surface-Wave Tomography\n"
      ]
    },
    {
      "cell_type": "markdown",
      "metadata": {},
      "source": [
        "[![Open In\nColab](https://img.shields.io/badge/open%20in-Colab-b5e2fa?logo=googlecolab&style=flat-square&color=ffd670)](https://colab.research.google.com/github/inlab-geo/cofi-examples/blob/main/examples/sw_tomography/sw_tomography.ipynb)\n"
      ]
    },
    {
      "cell_type": "markdown",
      "metadata": {},
      "source": [
        "In this notebook, we will apply\n[CoFI](https://github.com/inlab-geo/cofi) to measurements of\nsurface-wave velocity collected across the\n[USArray](http://www.usarray.org/) from the ambient seismic noise.\nSpecifically, we will retrieve, through CoFI and\n[SeisLib](https://pypi.org/project/seislib/), a Rayleigh-wave phase\nvelocity map of the Conterminous United States at the surface-wave\nperiod of 5 s. The employed velocity measurements belong to the data set\ncompiled by [Magrini et\nal.\u00a0(2022)](https://doi.org/10.1093/gji/ggac236).\n"
      ]
    },
    {
      "cell_type": "markdown",
      "metadata": {},
      "source": [
        "If you are running this notebook locally, make sure you've followed\n[these\nsteps](https://github.com/inlab-geo/cofi-examples#run-the-examples-with-cofi-locally)\nto set up the environment. (This\n[environment.yml](https://github.com/inlab-geo/cofi-examples/blob/main/envs/environment.yml)\nfile specifies a list of packages required to run the notebooks)\n"
      ]
    },
    {
      "cell_type": "markdown",
      "metadata": {},
      "source": [
        "# Theoretical Background\n"
      ]
    },
    {
      "cell_type": "code",
      "execution_count": null,
      "metadata": {
        "collapsed": false
      },
      "outputs": [],
      "source": [
        "# display theory background\nfrom IPython.display import display, Markdown\n\nwith open(\"../../theory/geo_surface_wave_seislib.md\", \"r\") as f:\n    content = f.read()\n\ndisplay(Markdown(content))"
      ]
    },
    {
      "cell_type": "markdown",
      "metadata": {},
      "source": [
        "# 1. Data and Parameterization\n"
      ]
    },
    {
      "cell_type": "markdown",
      "metadata": {},
      "source": [
        "As mentioned earlier, the\n[data](https://github.com/inlab-geo/cofi-examples/blob/main/examples/sw_tomography/data.txt)\nused in this notebook consist of inter-station measurements of\nRayleigh-wave phase velocity at 5 s period. We parameterize the Earth's\nsurface through equal-area blocks of $1^{\\circ} \\times 1^{\\circ}$.\n"
      ]
    },
    {
      "cell_type": "code",
      "execution_count": null,
      "metadata": {
        "collapsed": false
      },
      "outputs": [],
      "source": [
        "from seislib.tomography import SeismicTomography\n\ntomo = SeismicTomography(cell_size=1) # Parameterization\n\n# To reproduce the results locally, download data.txt and change the below path\n\ntomo.add_data(src='../../data/sw_tomography/data.txt')"
      ]
    },
    {
      "cell_type": "markdown",
      "metadata": {},
      "source": [
        "Overall, 171,353 velocity measurements are available (check\n`tomo.velocity`), each associated with a different pair of receveirs\n(check `tomo.data_coords`, consisting of a matrix of 171,353 rows and 4\ncolumns: $\\theta_1$, $\\phi_1$, $\\theta_2$, and $\\phi_2$).\n"
      ]
    },
    {
      "cell_type": "markdown",
      "metadata": {},
      "source": [
        "# 2. Jacobian\n"
      ]
    },
    {
      "cell_type": "markdown",
      "metadata": {},
      "source": [
        "We use the information about the data coordinates to calculate the\nmatrix $\\bf A$ (i.e.\u00a0the Jacobian). In doing so, we will discard all\nblocks parameterizing the Earth's surface that are not intersected by at\nleast one inter-station great-circle path. These model parameters\n(referred to as \"grid cells\" in the below output) have no sensitivity to\nour data.\n"
      ]
    },
    {
      "cell_type": "code",
      "execution_count": null,
      "metadata": {
        "collapsed": false
      },
      "outputs": [],
      "source": [
        "# This discards all blocks that are far away from the study area\n\ntomo.grid.set_boundaries(latmin=tomo.latmin_data, \n                         latmax=tomo.latmax_data, \n                         lonmin=tomo.lonmin_data, \n                         lonmax=tomo.lonmax_data)"
      ]
    },
    {
      "cell_type": "code",
      "execution_count": null,
      "metadata": {
        "collapsed": false
      },
      "outputs": [],
      "source": [
        "# Computes the coefficients of the A matrix, while discarding all model parameters that are not constrained by our data.\ntomo.compile_coefficients(keep_empty_cells=False)"
      ]
    },
    {
      "cell_type": "markdown",
      "metadata": {},
      "source": [
        "The Jacobian can now be accessed by typing `tomo.A`, and the associated\nparameterization can be visualized by typing\n"
      ]
    },
    {
      "cell_type": "code",
      "execution_count": null,
      "metadata": {
        "collapsed": false
      },
      "outputs": [],
      "source": [
        "tomo.grid.plot()"
      ]
    },
    {
      "cell_type": "markdown",
      "metadata": {},
      "source": [
        "# 3. Inversion -- SeisLib style\n"
      ]
    },
    {
      "cell_type": "markdown",
      "metadata": {},
      "source": [
        "The lateral variations in phase velocity can now simply be retrieved,\nvia SeisLib, through\n"
      ]
    },
    {
      "cell_type": "code",
      "execution_count": null,
      "metadata": {
        "collapsed": false
      },
      "outputs": [],
      "source": [
        "mu = 5e-2 # Roughness damping coefficient, arbitrarily chosen\n\n# The output of tomo.solve is slowness, hence we take the reciprocal\n\nc = 1 / tomo.solve(rdamp=mu) # in km/s"
      ]
    },
    {
      "cell_type": "markdown",
      "metadata": {},
      "source": [
        "Let's have a look at the results.\n"
      ]
    },
    {
      "cell_type": "code",
      "execution_count": null,
      "metadata": {
        "collapsed": false
      },
      "outputs": [],
      "source": [
        "from seislib.plotting import plot_map\nimport seislib.colormaps as scm\n\nimg, cb = plot_map(tomo.grid.mesh, c, cmap=scm.roma, show=False)\ncb.set_label('Phase velocity [km/s]')"
      ]
    },
    {
      "cell_type": "markdown",
      "metadata": {},
      "source": [
        "# 4. Inversion -- CoFI style\n"
      ]
    },
    {
      "cell_type": "markdown",
      "metadata": {},
      "source": [
        "Let's now reproduce the above results through CoFI. First, we need to\ndefine a starting model ${\\bf x}_0$ to compute the residuals\n${\\bf r} = {\\bf d} - {\\bf A} \\cdot {\\bf x}_0$, as in equation (3).\n"
      ]
    },
    {
      "cell_type": "code",
      "execution_count": null,
      "metadata": {
        "collapsed": false
      },
      "outputs": [],
      "source": [
        "import numpy as np\n\nA = tomo.A # Jacobian\nx0 = np.full(A.shape[1], 1 / tomo.refvel) # tomo.refvel is the average inter-station phase velocity\nd = 1 / tomo.velocity # measurements of (average) inter-station slowness\nr = d - A @ x0 # residuals"
      ]
    },
    {
      "cell_type": "markdown",
      "metadata": {},
      "source": [
        "We now need to define the roughness operator $\\bf R$. This is done under\nthe hood by SeisLib through the \"private\" method `_derivatives_lat_lon`.\n"
      ]
    },
    {
      "cell_type": "code",
      "execution_count": null,
      "metadata": {
        "collapsed": false
      },
      "outputs": [],
      "source": [
        "from seislib.tomography._ray_theory._tomography import _derivatives_lat_lon\n\n# coordinates of each parameterization block, tomo.grid.mesh, should be in radians\n\nR_lat, R_lon = _derivatives_lat_lon(np.radians(tomo.grid.mesh))\nR = np.row_stack((R_lat, R_lon))"
      ]
    },
    {
      "cell_type": "markdown",
      "metadata": {},
      "source": [
        "Almost everything is ready to carry out the inversion through CoFI.\nBefore doing so, we need to define our inverse problem (through\n`BaseProblem`) and pass to it the data and the Jacobian (through\n`set_data` and `set_jacobian`). Finally, we will specify the\nregularizazion criterion (through `set_regularization`).\n"
      ]
    },
    {
      "cell_type": "code",
      "execution_count": null,
      "metadata": {
        "collapsed": false
      },
      "outputs": [],
      "source": [
        "from cofi import BaseProblem\nfrom cofi.utils import QuadraticReg\n\nproblem = BaseProblem()\nproblem.set_data(r) # our data are now the residuals defined above\nproblem.set_jacobian(A)\n\n# As opposed to SeisLib, CoFI does not square the damping coefficient.\nproblem.set_regularization(mu**2 * QuadraticReg(R, (A.shape[1],)))   # L2 norm of R, i.e. R.T @ R\n\nproblem.summary()"
      ]
    },
    {
      "cell_type": "markdown",
      "metadata": {},
      "source": [
        "We now carry out the inversion through `scipy.linalg.lstsq`.\n"
      ]
    },
    {
      "cell_type": "code",
      "execution_count": null,
      "metadata": {
        "collapsed": false
      },
      "outputs": [],
      "source": [
        "from cofi import Inversion, InversionOptions\n\noptions = InversionOptions()\noptions.set_tool(\"scipy.linalg.lstsq\")\n\ninv = Inversion(problem, options)\ninv_results = inv.run()\ninv.summary()"
      ]
    },
    {
      "cell_type": "markdown",
      "metadata": {},
      "source": [
        "# 5. Cross validation\n"
      ]
    },
    {
      "cell_type": "markdown",
      "metadata": {},
      "source": [
        "The inversion converged. Let's now check whether the results are\nconsistent with those obtained from SeisLib. To do so, remember that we\nneed to add back, to the retrieved model parameters, the initial\nreference model ${\\bf x}_0$.\n"
      ]
    },
    {
      "cell_type": "code",
      "execution_count": null,
      "metadata": {
        "collapsed": false
      },
      "outputs": [],
      "source": [
        "import cartopy.crs as ccrs\nimport matplotlib.pyplot as plt\n\n# the reference model x0 is added back to get absolute values of slowness\n\nc_cofi = 1 / ( inv_results.model + x0 )\n\nfig = plt.figure(figsize=(10, 8))\n\n# SeisLib map\n\nax1 = plt.subplot(121, projection=ccrs.Mercator())\nax1.coastlines()\nimg1, cb1 = plot_map(tomo.grid.mesh, c, ax=ax1, cmap=scm.roma, show=False)\ncb1.set_label('Phase velocity [km/s]')\nax1.set_title('SeisLib')\n\n# CoFI map\n\nax2 = plt.subplot(122, projection=ccrs.Mercator())\nax2.coastlines()\nimg2, cb2 = plot_map(tomo.grid.mesh, c_cofi, ax=ax2, cmap=scm.roma, show=False)\ncb2.set_label('Phase velocity [km/s]')\nax2.set_title('CoFI')\n\nplt.tight_layout()\nplt.show()\n\nprint('Are the results obtained from seislib and cofi the same?', np.allclose(c, c_cofi))"
      ]
    },
    {
      "cell_type": "markdown",
      "metadata": {},
      "source": [
        "# Watermark\n"
      ]
    },
    {
      "cell_type": "code",
      "execution_count": null,
      "metadata": {
        "collapsed": false
      },
      "outputs": [],
      "source": [
        "libraries_used = [\"cartopy\", \"cofi\", \"matplotlib\", \"numpy\", \"seislib\"]\nfor lib in libraries_used:\n    lib_var = __import__(lib)\n    print(lib, getattr(lib_var, \"__version__\"))"
      ]
    },
    {
      "cell_type": "markdown",
      "metadata": {},
      "source": [
        "sphinx_gallery_thumbnail_number = -1\n"
      ]
    }
  ],
  "metadata": {
    "kernelspec": {
      "display_name": "Python 3",
      "language": "python",
      "name": "python3"
    },
    "language_info": {
      "codemirror_mode": {
        "name": "ipython",
        "version": 3
      },
      "file_extension": ".py",
      "mimetype": "text/x-python",
      "name": "python",
      "nbconvert_exporter": "python",
      "pygments_lexer": "ipython3",
      "version": "3.10.13"
    }
  },
  "nbformat": 4,
  "nbformat_minor": 0
}