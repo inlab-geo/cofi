{
  "cells": [
    {
      "cell_type": "markdown",
      "metadata": {},
      "source": [
        "# Surface wave and receiver function - joint inversion (field data)\n"
      ]
    },
    {
      "cell_type": "markdown",
      "metadata": {},
      "source": [
        "[![Open In\nColab](https://img.shields.io/badge/open%20in-Colab-b5e2fa?logo=googlecolab&style=flat-square&color=ffd670)](https://colab.research.google.com/github/inlab-geo/cofi-examples/blob/main/examples/sw_rf_joint/surface_wave_receiver_function_joint.ipynb)\n"
      ]
    },
    {
      "cell_type": "markdown",
      "metadata": {},
      "source": [
        "If you are running this notebook locally, make sure you've followed\n[steps\nhere](https://github.com/inlab-geo/cofi-examples#run-the-examples-with-cofi-locally)\nto set up the environment. (This\n[environment.yml](https://github.com/inlab-geo/cofi-examples/blob/main/envs/environment.yml)\nfile specifies a list of packages required to run the notebooks)\n"
      ]
    },
    {
      "cell_type": "markdown",
      "metadata": {},
      "source": [
        "------------------------------------------------------------------------\n\n# What we do in this notebook\n\nHere we extend the example where CoFI has been used for the inversion of\nRayleigh wave phase velocities for a 1D layered earth to a joint\ninversion where we also account for receiver functions.\n\nIn this example, we extend from the synthetic data notebook and apply\nthe joint inversion on a field data presented in the Computer Programs\nin Seismology (see:\n<https://www.eas.slu.edu/eqc/eqc_cps/TUTORIAL/STRUCT/index.html>).\n\n**Learning outcomes**\n\n-   A demonstration of CoFI's ability to switch between parameter\n    estimation and ensemble methods.\n-   An application of CoFI for a joint inversion, here of Rayleigh wave\n    pahse velocity and receiver function data, to a field dataset\n"
      ]
    },
    {
      "cell_type": "markdown",
      "metadata": {},
      "source": [
        "# Utilities preparation\n\nIn this example, we look at a joint inversion problem of surface wave\nand receiver function.\n\nWe use `pysurf96` for computing the forward step of surface wave, and\nuse `espresso` for receiver function calculations.\n"
      ]
    },
    {
      "cell_type": "code",
      "execution_count": null,
      "metadata": {
        "collapsed": false
      },
      "outputs": [],
      "source": [
        "# -------------------------------------------------------- #\n#                                                          #\n#     Uncomment below to set up environment on \"colab\"     #\n#                                                          #\n# -------------------------------------------------------- #\n\n# !pip install -U cofi geo-espresso\n# !pip install git+https://github.com/miili/pysurf96.git\n# !git clone https://github.com/inlab-geo/cofi-examples.git\n# %cd cofi-examples/examples/sw_rf_joint"
      ]
    },
    {
      "cell_type": "code",
      "execution_count": null,
      "metadata": {
        "collapsed": false
      },
      "outputs": [],
      "source": [
        "import glob\nimport numpy as np\nimport scipy\nimport matplotlib.pyplot as plt\nimport matplotlib.gridspec as gridspec\nimport arviz as az\n\nimport pysurf96\nimport bayesbay\nimport cofi\nimport espresso"
      ]
    },
    {
      "cell_type": "code",
      "execution_count": null,
      "metadata": {
        "collapsed": false
      },
      "outputs": [],
      "source": [
        "np.seterr(all=\"ignore\");"
      ]
    },
    {
      "cell_type": "markdown",
      "metadata": {},
      "source": [
        "**Model vector**\n"
      ]
    },
    {
      "cell_type": "code",
      "execution_count": null,
      "metadata": {
        "collapsed": false
      },
      "outputs": [],
      "source": [
        "# display theory on the 1D model parameterisation\nfrom IPython.display import display, Markdown\n\nwith open(\"../../theory/misc_1d_model_parameterisation.md\", \"r\") as f:\n    content = f.read()\n\ndisplay(Markdown(content))"
      ]
    },
    {
      "cell_type": "code",
      "execution_count": null,
      "metadata": {
        "collapsed": false
      },
      "outputs": [],
      "source": [
        "# layercake model utilities\ndef form_layercake_model(thicknesses, vs):\n    model = np.zeros((len(vs)*2-1,))\n    model[1::2] = thicknesses\n    model[::2] = vs\n    return model\n\ndef split_layercake_model(model):\n    thicknesses = model[1::2]\n    vs = model[::2]\n    return thicknesses, vs"
      ]
    },
    {
      "cell_type": "code",
      "execution_count": null,
      "metadata": {
        "collapsed": false
      },
      "outputs": [],
      "source": [
        "# voronoi model utilities\ndef form_voronoi_model(voronoi_sites, vs):\n    return np.hstack((vs, voronoi_sites))\n\ndef split_voronoi_model(model):\n    voronoi_sites = model[len(model)//2:]\n    vs = model[:len(model)//2]\n    return voronoi_sites, vs"
      ]
    },
    {
      "cell_type": "code",
      "execution_count": null,
      "metadata": {
        "collapsed": false
      },
      "outputs": [],
      "source": [
        "def voronoi_to_layercake(voronoi_vector: np.ndarray) -> np.ndarray:\n    n_layers = len(voronoi_vector) // 2\n    velocities = voronoi_vector[:n_layers]\n    voronoi_sites = voronoi_vector[n_layers:]\n    depths = (voronoi_sites[:-1] + voronoi_sites[1:]) / 2\n    thicknesses = depths - np.insert(depths[:-1], 0, 0)\n    layercake_vector = np.zeros((2*n_layers-1,))\n    layercake_vector[::2] = velocities\n    layercake_vector[1::2] = thicknesses\n    return layercake_vector\n\ndef layercake_to_voronoi(layercake_vector: np.ndarray, first_voronoi_site: float = 0.0) -> np.ndarray:\n    n_layers = len(layercake_vector) // 2 + 1\n    thicknesses = layercake_vector[1::2]\n    velocities = layercake_vector[::2]\n    depths = np.cumsum(thicknesses)\n    voronoi_sites = np.zeros((n_layers,))\n    for i in range(1,len(voronoi_sites)):\n        voronoi_sites[i] = 2 * depths[i-1] - voronoi_sites[i-1]\n    voronoi_vector = np.hstack((velocities, voronoi_sites))\n    return voronoi_vector"
      ]
    },
    {
      "cell_type": "markdown",
      "metadata": {},
      "source": [
        "**Interfacing to pysurf96**\n"
      ]
    },
    {
      "cell_type": "code",
      "execution_count": null,
      "metadata": {
        "collapsed": false
      },
      "outputs": [],
      "source": [
        "# display theory on the using the forward solver\nwith open(\"../../theory/geo_surface_wave_dispersion2.md\", \"r\") as f:\n    content = f.read()\n\ndisplay(Markdown(content))"
      ]
    },
    {
      "cell_type": "code",
      "execution_count": null,
      "metadata": {
        "collapsed": false
      },
      "outputs": [],
      "source": [
        "VP_VS = 1.77\nRHO_VP_K = 0.32\nRHO_VP_B = 0.77"
      ]
    },
    {
      "cell_type": "code",
      "execution_count": null,
      "metadata": {
        "collapsed": false
      },
      "outputs": [],
      "source": [
        "# forward through pysurf96\ndef forward_sw(model, periods):\n    thicknesses, vs = split_layercake_model(model)\n    thicknesses = np.append(thicknesses, 10)\n    vp = vs * VP_VS\n    rho = RHO_VP_K * vp + RHO_VP_B\n    return pysurf96.surf96(\n        thicknesses,\n        vp,\n        vs,\n        rho,\n        periods,\n        wave=\"rayleigh\",\n        mode=1,\n        velocity=\"phase\",\n        flat_earth=False,\n    )"
      ]
    },
    {
      "cell_type": "code",
      "execution_count": null,
      "metadata": {
        "collapsed": false
      },
      "outputs": [],
      "source": [
        "def forward_sw_interp(model, periods):\n    pysurf_periods = np.logspace(\n        np.log(np.min(periods)), \n        np.log(np.max(periods+1)), \n        60,\n        base=np.e, \n    )\n    pysurf_dpred = forward_sw(model, pysurf_periods)\n    interp_func = scipy.interpolate.interp1d(pysurf_periods, \n                                             pysurf_dpred, \n                                             fill_value=\"extrapolate\")\n    dpred = interp_func(periods)\n    return dpred"
      ]
    },
    {
      "cell_type": "markdown",
      "metadata": {},
      "source": [
        "**Interfacing to Espresso**\n"
      ]
    },
    {
      "cell_type": "code",
      "execution_count": null,
      "metadata": {
        "collapsed": false
      },
      "outputs": [],
      "source": [
        "# obtain the receiver function library\nrf_lib = espresso.ReceiverFunctionInversionKnt().rf"
      ]
    },
    {
      "cell_type": "code",
      "execution_count": null,
      "metadata": {
        "collapsed": false
      },
      "outputs": [],
      "source": [
        "t_shift = 5\nt_duration = 25\nt_sampling_interval = 0.1\ngauss = 1\nray_param_s_km = 0.07"
      ]
    },
    {
      "cell_type": "code",
      "execution_count": null,
      "metadata": {
        "collapsed": false
      },
      "outputs": [],
      "source": [
        "# forward through rf in espresso\ndef forward_rf(\n    model, \n    t_shift=t_shift, \n    t_duration=t_duration, \n    t_sampling_interval=t_sampling_interval, \n    gauss=gauss, \n    ray_param_s_km=ray_param_s_km,\n    return_times=False\n):\n    h, vs = split_layercake_model(model)\n    data = rf_lib.rf_calc(ps=0, thik=h, beta=vs, kapa=np.ones((len(vs),))*VP_VS, p=ray_param_s_km, \n                      duration=t_duration, dt=t_sampling_interval, shft=t_shift, gauss=gauss)\n    if return_times:\n        times = np.arange(len(data)) * t_sampling_interval - t_shift\n        return data, times\n    else:\n        return data"
      ]
    },
    {
      "cell_type": "code",
      "execution_count": null,
      "metadata": {
        "collapsed": false
      },
      "outputs": [],
      "source": [
        "t_shift = 5\nt_duration = 70\nt_sampling_interval = 0.5\n\ndef forward_rf_interp(model, gauss, ray_param):\n    dpred, times = forward_rf(model, t_shift, t_duration, t_sampling_interval,\n                       gauss=gauss, ray_param_s_km=ray_param, return_times=True)\n    interp_func = scipy.interpolate.interp1d(times, dpred, fill_value=\"extrapolate\")\n    return interp_func(rf_field_times)"
      ]
    },
    {
      "cell_type": "markdown",
      "metadata": {},
      "source": [
        "**Numerical Jacobian**\n"
      ]
    },
    {
      "cell_type": "code",
      "execution_count": null,
      "metadata": {
        "collapsed": false
      },
      "outputs": [],
      "source": [
        "def jacobian(model, data_length, fwd, fwd_kwargs, relative_step=0.01):\n    jac = np.zeros((data_length, len(model)))\n    original_dpred = fwd(model, **fwd_kwargs)\n    for i in range(len(model)):\n        perturbed_model = model.copy()\n        step = relative_step * model[i]\n        perturbed_model[i] += step\n        perturbed_dpred = fwd(perturbed_model, **fwd_kwargs)\n        derivative = (perturbed_dpred - original_dpred) / step\n        jac[:, i] = derivative\n    return jac"
      ]
    },
    {
      "cell_type": "markdown",
      "metadata": {},
      "source": [
        "**Plotting**\n"
      ]
    },
    {
      "cell_type": "code",
      "execution_count": null,
      "metadata": {
        "collapsed": false
      },
      "outputs": [],
      "source": [
        "def plot_model(model, ax=None, title=\"model\", **kwargs):\n    # process data\n    thicknesses = np.append(model[1::2], max(model[1::2]))\n    velocities = model[::2]\n    y = np.insert(np.cumsum(thicknesses), 0, 0)\n    x = np.insert(velocities, 0, velocities[0])\n    \n    # plot depth profile\n    if ax is None:\n        _, ax = plt.subplots()\n    plotting_style = {\n        \"linewidth\": kwargs.pop(\"linewidth\", kwargs.pop(\"lw\", 0.5)),\n        \"alpha\": 0.2,\n        \"color\": kwargs.pop(\"color\", kwargs.pop(\"c\", \"blue\")),\n    }\n    plotting_style.update(kwargs)\n    ax.step(x, y, where=\"post\", **plotting_style)\n    if ax.get_ylim()[0] < ax.get_ylim()[1]:\n        ax.invert_yaxis()\n    ax.set_xlabel(\"Vs (km/s)\")\n    ax.set_ylabel(\"Depth (km)\")\n    ax.set_title(title)\n    return ax"
      ]
    },
    {
      "cell_type": "code",
      "execution_count": null,
      "metadata": {
        "collapsed": false
      },
      "outputs": [],
      "source": [
        "def plot_data(x, y, ax=None, scatter=False, xlabel=None, ylabel=None, \n              title=\"surface wave data\", **kwargs):\n    if ax is None:\n        _, ax = plt.subplots()\n    plotting_style = {\n        \"linewidth\": kwargs.pop(\"linewidth\", kwargs.pop(\"lw\", 1)),\n        \"alpha\": 1,\n        \"color\": kwargs.pop(\"color\", kwargs.pop(\"c\", \"blue\")),\n    }\n    plotting_style.update(**kwargs)\n    if scatter:\n        ax.scatter(x, y, **plotting_style)\n    else:\n        ax.plot(x, y, **plotting_style)\n    ax.set_xlabel(xlabel)\n    ax.set_ylabel(ylabel)\n    ax.set_title(title)\n    return ax"
      ]
    },
    {
      "cell_type": "code",
      "execution_count": null,
      "metadata": {
        "collapsed": false
      },
      "outputs": [],
      "source": [
        "def plot_sw_data(rayleigh_phase_velocities, periods, ax=None, scatter=False, \n                 title=\"surface wave data\", **kwargs):\n    return plot_data(x=periods, \n                     y=rayleigh_phase_velocities, \n                     ax=ax, \n                     scatter=scatter, \n                     title=title, \n                     xlabel=\"Periods (s)\", \n                     ylabel=\"Rayleigh phase velocities (km/s)\", \n                     **kwargs)\n\ndef plot_rf_data(rf_data, rf_times, ax=None, scatter=False,\n                 title=\"receiver function data\", **kwargs):\n    return plot_data(x=rf_times, \n                     y=rf_data, \n                     ax=ax, \n                     scatter=scatter, \n                     title=title, \n                     xlabel=\"Times (s)\", \n                     ylabel=\"Receiver function amplitudes\", \n                     **kwargs)"
      ]
    },
    {
      "cell_type": "markdown",
      "metadata": {},
      "source": [
        "# Read data\n"
      ]
    },
    {
      "cell_type": "markdown",
      "metadata": {},
      "source": [
        "**Rayleigh observations**\n"
      ]
    },
    {
      "cell_type": "code",
      "execution_count": null,
      "metadata": {
        "collapsed": false
      },
      "outputs": [],
      "source": [
        "file_surf_data = \"../../data/sw_rf_joint/data/SURF/nnall.dsp\"\n\nwith open(file_surf_data, \"r\") as file:\n    lines = file.readlines()\n    surf_data = []\n    for line in lines:\n        row = line.strip().split()\n        if \"C\" in row:\n            surf_data.append([float(e) for e in row[5:8]])\n\nfield_d = np.array(surf_data)\nfield_d_periods = field_d[:,0]\nrayleigh_field_d_obs = field_d[:,1]"
      ]
    },
    {
      "cell_type": "code",
      "execution_count": null,
      "metadata": {
        "collapsed": false
      },
      "outputs": [],
      "source": [
        "ax = plot_sw_data(rayleigh_field_d_obs, field_d_periods, color=\"brown\", s=5, scatter=True,\n             label=\"d_obs\")\nax.legend();"
      ]
    },
    {
      "cell_type": "markdown",
      "metadata": {},
      "source": [
        "**Receiver function observations**\n"
      ]
    },
    {
      "cell_type": "code",
      "execution_count": null,
      "metadata": {
        "collapsed": false
      },
      "outputs": [],
      "source": [
        "files_rftn_data = glob.glob(\"../../data/sw_rf_joint/data/RFTN/rf_*.txt\")\n\nall_gauss = []\nall_ray_params = []\nall_rf_field_dobs = []\nrf_field_times = None\n\nfor file in files_rftn_data:\n    gauss, ray_param_s_km = file.split(\"_\")[-2:]\n    all_gauss.append(float(gauss))\n    all_ray_params.append(float(ray_param_s_km[:-4]))\n    dataset = np.loadtxt(file)\n    if rf_field_times is None:\n        rf_field_times = dataset[:, 0]\n    all_rf_field_dobs.append(dataset[:, 1])"
      ]
    },
    {
      "cell_type": "code",
      "execution_count": null,
      "metadata": {
        "collapsed": false
      },
      "outputs": [],
      "source": [
        "def plot_rf_field_data(all_rf_data, all_gauss, all_ray_params, rf_field_times, \n                       axes=None, color=\"darkblue\", label=None, **kwargs):\n    if axes is None:\n        _, axes = plt.subplots(13, 3, figsize=(10, 12))\n    for i, ax in enumerate(axes.flat):\n        ax.set_xlim(-5, 20)\n        gauss = all_gauss[i]\n        ray_param = all_ray_params[i]\n        rf_dobs = all_rf_data[i]\n        title=f\"ray (s/km) = {ray_param}, gauss = {gauss}\"\n        plot_rf_data(rf_dobs, rf_field_times, ax=ax, color=color, \n                     title=title, label=label, **kwargs)\n        ax.set_ylabel(\"Amplitude\")\n\n    for ax in axes[:-1, :].flat:\n        ax.set_xlabel(\"\")\n        ax.tick_params(labelbottom=False)\n    for ax in axes[:, 1:].flat:\n        ax.set_ylabel(\"\")\n    plt.tight_layout()\n    return axes"
      ]
    },
    {
      "cell_type": "code",
      "execution_count": null,
      "metadata": {
        "collapsed": false
      },
      "outputs": [],
      "source": [
        "plot_rf_field_data(all_rf_field_dobs, all_gauss, all_ray_params, rf_field_times);"
      ]
    },
    {
      "cell_type": "code",
      "execution_count": null,
      "metadata": {
        "collapsed": false
      },
      "outputs": [],
      "source": [
        "# stacking the data into gauss=1.0 and gauss=2.5 groups\nall_rf_field_dobs_1_0 = []\nall_rf_field_dobs_2_5 = []\nray_params_1_0 = []\nray_params_2_5 = []\nfor gauss, ray_param, dobs in zip(all_gauss, all_ray_params, all_rf_field_dobs):\n    if gauss == 1:\n        all_rf_field_dobs_1_0.append(dobs)\n        ray_params_1_0.append(ray_param)\n    else:\n        all_rf_field_dobs_2_5.append(dobs)\n        ray_params_2_5.append(ray_param)\n\nrf_field_dobs_1_0 = np.mean(all_rf_field_dobs_1_0, axis=0)\nrf_field_dobs_2_5 = np.mean(all_rf_field_dobs_2_5, axis=0)\nray_param_1_0 = np.mean(ray_params_1_0)\nray_param_2_5 = np.mean(ray_params_2_5)"
      ]
    },
    {
      "cell_type": "code",
      "execution_count": null,
      "metadata": {
        "collapsed": false
      },
      "outputs": [],
      "source": [
        "_, axes = plt.subplots(2, 1, figsize=(5,4))\n\naxes[0].set_xlim(-5, 20)\naxes[1].set_xlim(-5, 20)\n\nplot_rf_data(\n    rf_field_dobs_1_0, \n    rf_field_times, \n    title=f\"ray (s/km) = {ray_param_1_0}, gauss = 1.0\", \n    ax=axes[0]\n)\naxes[0].set_ylabel(\"Amplitude\")\nplot_rf_data(\n    rf_field_dobs_2_5, \n    rf_field_times, \n    title=f\"ray (s/km) = {ray_param_2_5}, gauss = 2.5\",\n    ax=axes[1]\n)\naxes[1].set_ylabel(\"Amplitude\")\nplt.tight_layout()"
      ]
    },
    {
      "cell_type": "markdown",
      "metadata": {},
      "source": [
        "**Reference good model**\n"
      ]
    },
    {
      "cell_type": "code",
      "execution_count": null,
      "metadata": {
        "collapsed": false
      },
      "outputs": [],
      "source": [
        "file_end_mod = \"../../data/sw_rf_joint/data/JOINT/end.mod\"\n\nwith open(file_end_mod, \"r\") as file:\n    lines = file.readlines()\n    ref_good_model = []\n    for line in lines[12:]:\n        row = line.strip().split()\n        ref_good_model.append([float(row[0]), float(row[2])])\n\nref_good_model = np.array(ref_good_model)\nref_good_model = form_layercake_model(ref_good_model[:-1,0], ref_good_model[:,1])"
      ]
    },
    {
      "cell_type": "code",
      "execution_count": null,
      "metadata": {
        "collapsed": false
      },
      "outputs": [],
      "source": [
        "_, ax = plt.subplots(figsize=(4,6))\nplot_model(ref_good_model, ax=ax, alpha=1);"
      ]
    },
    {
      "cell_type": "markdown",
      "metadata": {},
      "source": [
        "# Optimisation\n"
      ]
    },
    {
      "cell_type": "code",
      "execution_count": null,
      "metadata": {
        "collapsed": false
      },
      "outputs": [],
      "source": [
        "n_dims = 29\n\ninit_thicknesses = np.ones((n_dims//2,)) * 10\ninit_vs = np.ones((n_dims//2+1,)) * 4.0\ninit_model = form_layercake_model(init_thicknesses, init_vs)"
      ]
    },
    {
      "cell_type": "code",
      "execution_count": null,
      "metadata": {
        "collapsed": false
      },
      "outputs": [],
      "source": [
        "my_reg = cofi.utils.QuadraticReg(\n    weighting_matrix=\"damping\", \n    model_shape=(n_dims,), \n    reference_model=init_model\n)"
      ]
    },
    {
      "cell_type": "code",
      "execution_count": null,
      "metadata": {
        "collapsed": false
      },
      "outputs": [],
      "source": [
        "def my_objective(model, fwd_funcs, d_obs_list, lamda=1.0):\n    data_misfit = 0\n    for (fwd, fwd_kwargs), d_obs in zip(fwd_funcs, d_obs_list):\n        d_pred = fwd(model, **fwd_kwargs)\n        data_misfit += np.sum((d_obs - d_pred) ** 2)\n    reg = my_reg(model)\n    return data_misfit + lamda * reg\n\ndef my_objective_gradient(model, fwd_funcs, d_obs_list, lamda=1.0):\n    data_misfit_grad = 0\n    for (fwd, fwd_kwargs), d_obs in zip(fwd_funcs, d_obs_list):\n        d_pred = fwd(model, **fwd_kwargs)\n        jac = jacobian(model, len(d_obs), fwd, fwd_kwargs)\n        data_misfit_grad += -2 * jac.T @ (d_obs - d_pred)\n    reg_grad = my_reg.gradient(model)\n    return data_misfit_grad + lamda * reg_grad\n\ndef my_objective_hessian(model, fwd_funcs, d_obs_list, lamda=1.0):\n    data_misfit_hess = 0\n    for (fwd, fwd_kwargs), d_obs in zip(fwd_funcs, d_obs_list):\n        jac = jacobian(model, len(d_obs), fwd, fwd_kwargs)\n        data_misfit_hess += 2 * jac.T @ jac\n    reg_hess = my_reg.hessian(model)\n    return data_misfit_hess + lamda * reg_hess"
      ]
    },
    {
      "cell_type": "code",
      "execution_count": null,
      "metadata": {
        "collapsed": false
      },
      "outputs": [],
      "source": [
        "fwd_funcs = [\n    (forward_sw_interp, {\"periods\": field_d_periods}), \n    (forward_rf_interp, {\"gauss\": 1, \"ray_param\": ray_param_1_0}), \n    (forward_rf_interp, {\"gauss\": 2.5, \"ray_param\": ray_param_2_5})\n]\n\nd_obs_list = [rayleigh_field_d_obs, rf_field_dobs_1_0, rf_field_dobs_2_5]"
      ]
    },
    {
      "cell_type": "markdown",
      "metadata": {},
      "source": [
        "# Optimisation with no damping\n"
      ]
    },
    {
      "cell_type": "code",
      "execution_count": null,
      "metadata": {
        "collapsed": false
      },
      "outputs": [],
      "source": [
        "lamda = 0\n\nkwargs = {\n    \"fwd_funcs\": fwd_funcs, \n    \"d_obs_list\": d_obs_list, \n    \"lamda\": lamda\n}\njoint_field_problem_no_reg = cofi.BaseProblem()\njoint_field_problem_no_reg.set_objective(my_objective, kwargs=kwargs)\njoint_field_problem_no_reg.set_gradient(my_objective_gradient, kwargs=kwargs)\njoint_field_problem_no_reg.set_hessian(my_objective_hessian, kwargs=kwargs)\njoint_field_problem_no_reg.set_initial_model(init_model)"
      ]
    },
    {
      "cell_type": "markdown",
      "metadata": {},
      "source": [
        "**Define \\`\\`InversionOptions\\`\\`**\n"
      ]
    },
    {
      "cell_type": "code",
      "execution_count": null,
      "metadata": {
        "collapsed": false
      },
      "outputs": [],
      "source": [
        "inv_options_optimiser = cofi.InversionOptions()\ninv_options_optimiser.set_tool(\"scipy.optimize.minimize\")\ninv_options_optimiser.set_params(method=\"trust-exact\")"
      ]
    },
    {
      "cell_type": "markdown",
      "metadata": {},
      "source": [
        "**Define \\`\\`Inversion\\`\\` and run**\n"
      ]
    },
    {
      "cell_type": "code",
      "execution_count": null,
      "metadata": {
        "collapsed": false
      },
      "outputs": [],
      "source": [
        "inv_optimiser_no_reg_field = cofi.Inversion(joint_field_problem_no_reg, inv_options_optimiser)\ninv_res_optimiser_field_no_reg = inv_optimiser_no_reg_field.run()"
      ]
    },
    {
      "cell_type": "markdown",
      "metadata": {},
      "source": [
        "**Plot results**\n"
      ]
    },
    {
      "cell_type": "code",
      "execution_count": null,
      "metadata": {
        "collapsed": false
      },
      "outputs": [],
      "source": [
        "_, (ax1, ax2) = plt.subplots(1, 2, figsize=(10, 4), gridspec_kw={'width_ratios': [1, 2.5]})\n\nax1.set_ylim(100)\n\nplot_model(inv_res_optimiser_field_no_reg.model, ax=ax1, color=\"green\", alpha=1, \n           label=\"model inverted from field data\")\nplot_model(ref_good_model, ax=ax1, color=\"red\", alpha=1, \n           label=\"reference good model\")\nplot_model(init_model, ax=ax1, alpha=1, lw=1.5, color=\"purple\", \n           label=\"initial model for damped solution\")\n\nfield_d_periods_logspace = np.logspace(\n    np.log(np.min(field_d_periods)), \n    np.log(np.max(field_d_periods+1)), \n    60, \n    base=np.e, \n)\n\nplot_sw_data(rayleigh_field_d_obs, field_d_periods, ax=ax2, color=\"orange\", s=5, scatter=True, \n             label=\"d_obs\")\nplot_sw_data(forward_sw_interp(inv_res_optimiser_field_no_reg.model, field_d_periods_logspace), \n             field_d_periods_logspace, ax=ax2, color=\"green\", \n             label=\"d_pred from inverted model\")\nplot_sw_data(forward_sw_interp(ref_good_model, field_d_periods_logspace), \n             field_d_periods_logspace, ax=ax2, color=\"red\", \n             label=\"d_pred from reference good model\")\nplot_sw_data(forward_sw_interp(init_model, field_d_periods_logspace), \n             field_d_periods_logspace, ax=ax2, \n             alpha=1, lw=1.5, linestyle=\"--\", color=\"purple\", \n             label=\"d_pred from initial model\")\n\nax1.legend(loc=\"lower center\", bbox_to_anchor=(0.5, -0.4))\nax2.legend(loc=\"lower center\", bbox_to_anchor=(0.5, -0.46));"
      ]
    },
    {
      "cell_type": "code",
      "execution_count": null,
      "metadata": {
        "collapsed": false
      },
      "outputs": [],
      "source": [
        "all_rf_dpred = []\nall_rf_dpred_init_m = []\n\nfor gauss, ray_param in zip(all_gauss, all_ray_params):\n    dpred = forward_rf_interp(inv_res_optimiser_field_no_reg.model, gauss, ray_param)\n    all_rf_dpred.append(dpred)\n    dpred_init_m = forward_rf_interp(init_model, gauss, ray_param)\n    all_rf_dpred_init_m.append(dpred_init_m)\n\naxes = plot_rf_field_data(all_rf_dpred, all_gauss, all_ray_params, rf_field_times,\n                          color=\"darkblue\", linestyle=\"dashed\", \n                          label=\"d_pred from inverted model\")\nplot_rf_field_data(all_rf_dpred_init_m, all_gauss, all_ray_params, rf_field_times,\n                   axes=axes, color=\"gray\",\n                   label=\"d_pred from starting model\")\nplot_rf_field_data(all_rf_field_dobs, all_gauss, all_ray_params, rf_field_times,\n                   axes=axes, color=\"brown\", linestyle=\"dashed\", \n                   label=\"d_obs\")\n\naxes[-1,-1].legend(loc=\"lower center\", bbox_to_anchor=(0.5, -2.5));"
      ]
    },
    {
      "cell_type": "markdown",
      "metadata": {},
      "source": [
        "# Optimal damping\n"
      ]
    },
    {
      "cell_type": "code",
      "execution_count": null,
      "metadata": {
        "collapsed": false
      },
      "outputs": [],
      "source": [
        "lambdas = np.logspace(-6, 6, 15)\n\nmy_lcurve_problems = []\nfor lamb in lambdas:\n    my_problem = cofi.BaseProblem()\n    kwargs = {\n        \"fwd_funcs\": fwd_funcs, \n        \"d_obs_list\": d_obs_list, \n        \"lamda\": lamb\n    }\n    my_problem.set_objective(my_objective, kwargs=kwargs)\n    my_problem.set_gradient(my_objective_gradient, kwargs=kwargs)\n    my_problem.set_hessian(my_objective_hessian, kwargs=kwargs)\n    my_problem.set_initial_model(init_model)\n    my_lcurve_problems.append(my_problem)\n\ndef my_callback(inv_result, i):\n    m = inv_result.model\n    res_norm = 0\n    for (fwd, fwd_kwargs), d_obs in zip(fwd_funcs, d_obs_list):\n        d_pred = fwd(m, **fwd_kwargs)\n        res_norm += np.sum((d_obs - d_pred) ** 2)\n    reg_norm = np.sqrt(my_reg(m))\n    print(f\"Finished inversion with lambda={lambdas[i]}: {res_norm}, {reg_norm}\")\n    return res_norm, reg_norm\n\nmy_inversion_pool = cofi.utils.InversionPool(\n    list_of_inv_problems=my_lcurve_problems,\n    list_of_inv_options=inv_options_optimiser,\n    callback=my_callback,\n    parallel=False\n)\nall_res, all_cb_returns = my_inversion_pool.run()\n\nl_curve_points = list(zip(*all_cb_returns))"
      ]
    },
    {
      "cell_type": "code",
      "execution_count": null,
      "metadata": {
        "collapsed": false
      },
      "outputs": [],
      "source": [
        "# print all the lambdas\nlambdas"
      ]
    },
    {
      "cell_type": "markdown",
      "metadata": {},
      "source": [
        "**Plot L-curve**\n"
      ]
    },
    {
      "cell_type": "code",
      "execution_count": null,
      "metadata": {
        "collapsed": false
      },
      "outputs": [],
      "source": [
        "# plot the L-curve\nres_norm, reg_norm = l_curve_points\nplt.plot(reg_norm, res_norm, '.-')\nplt.xlabel(r'Norm of regularization term $||Wm||_2$')\nplt.ylabel(r'Norm of residual $||g(m)-d||_2$')\nfor i in range(0, len(lambdas), 2):\n    plt.annotate(f'{lambdas[i]:.1e}', (reg_norm[i], res_norm[i]), fontsize=8)"
      ]
    },
    {
      "cell_type": "markdown",
      "metadata": {},
      "source": [
        "# Optimisation with damping\n"
      ]
    },
    {
      "cell_type": "code",
      "execution_count": null,
      "metadata": {
        "collapsed": false
      },
      "outputs": [],
      "source": [
        "lamda = 1\n\nkwargs = {\n    \"fwd_funcs\": fwd_funcs, \n    \"d_obs_list\": d_obs_list, \n    \"lamda\": lamda\n}\njoint_field_problem = cofi.BaseProblem()\njoint_field_problem.set_objective(my_objective, kwargs=kwargs)\njoint_field_problem.set_gradient(my_objective_gradient, kwargs=kwargs)\njoint_field_problem.set_hessian(my_objective_hessian, kwargs=kwargs)\njoint_field_problem.set_initial_model(init_model)"
      ]
    },
    {
      "cell_type": "markdown",
      "metadata": {},
      "source": [
        "**Define \\`\\`Inversion\\`\\` and run**\n"
      ]
    },
    {
      "cell_type": "code",
      "execution_count": null,
      "metadata": {
        "collapsed": false
      },
      "outputs": [],
      "source": [
        "inv_optimiser_field = cofi.Inversion(joint_field_problem, inv_options_optimiser)\ninv_res_optimiser_field = inv_optimiser_field.run()"
      ]
    },
    {
      "cell_type": "markdown",
      "metadata": {},
      "source": [
        "**Plot results**\n"
      ]
    },
    {
      "cell_type": "code",
      "execution_count": null,
      "metadata": {
        "collapsed": false
      },
      "outputs": [],
      "source": [
        "_, (ax1, ax2) = plt.subplots(1, 2, figsize=(10, 4), gridspec_kw={'width_ratios': [1, 2.5]})\n\nax1.set_ylim(100)\n\nplot_model(inv_res_optimiser_field.model, ax=ax1, color=\"green\", alpha=1, \n           label=\"model inverted from field data\")\nplot_model(ref_good_model, ax=ax1, color=\"red\", alpha=1, \n           label=\"reference good model\")\nplot_model(init_model, ax=ax1, alpha=1, lw=1.5, color=\"purple\", \n           label=\"initial model for damped solution\")\n\nfield_d_periods_logspace = np.logspace(\n    np.log(np.min(field_d_periods)), \n    np.log(np.max(field_d_periods+1)), \n    60, \n    base=np.e, \n)\n\nplot_sw_data(rayleigh_field_d_obs, field_d_periods, ax=ax2, color=\"orange\", s=5, scatter=True, \n             label=\"d_obs\")\nplot_sw_data(forward_sw_interp(inv_res_optimiser_field.model, field_d_periods_logspace), \n             field_d_periods_logspace, ax=ax2, color=\"green\", \n             label=\"d_pred from inverted model\")\nplot_sw_data(forward_sw_interp(ref_good_model, field_d_periods_logspace), \n             field_d_periods_logspace, ax=ax2, color=\"red\", \n             label=\"d_pred from reference good model\")\nplot_sw_data(forward_sw_interp(init_model, field_d_periods_logspace), \n             field_d_periods_logspace, ax=ax2, \n             alpha=1, lw=1.5, linestyle=\"--\", color=\"purple\", \n             label=\"d_pred from initial model\")\n\nax1.legend(loc=\"lower center\", bbox_to_anchor=(0.5, -0.4))\nax2.legend(loc=\"lower center\", bbox_to_anchor=(0.5, -0.46));"
      ]
    },
    {
      "cell_type": "code",
      "execution_count": null,
      "metadata": {
        "collapsed": false
      },
      "outputs": [],
      "source": [
        "all_rf_dpred = []\nall_rf_dpred_init_m = []\n\nfor gauss, ray_param in zip(all_gauss, all_ray_params):\n    dpred = forward_rf_interp(inv_res_optimiser_field.model, gauss, ray_param)\n    all_rf_dpred.append(dpred)\n    dpred_init_m = forward_rf_interp(init_model, gauss, ray_param)\n    all_rf_dpred_init_m.append(dpred_init_m)\n\naxes = plot_rf_field_data(all_rf_dpred, all_gauss, all_ray_params, rf_field_times,\n                          color=\"darkblue\", linestyle=\"dashed\", \n                          label=\"d_pred from inverted model\")\nplot_rf_field_data(all_rf_dpred_init_m, all_gauss, all_ray_params, rf_field_times,\n                   axes=axes, color=\"gray\",\n                   label=\"d_pred from starting model\")\nplot_rf_field_data(all_rf_field_dobs, all_gauss, all_ray_params, rf_field_times,\n                   axes=axes, color=\"brown\", linestyle=\"dashed\",\n                   label=\"d_obs\")\n\naxes[-1,-1].legend(loc=\"lower center\", bbox_to_anchor=(0.5, -2.5));"
      ]
    },
    {
      "cell_type": "markdown",
      "metadata": {},
      "source": [
        "# Fixed-dimensional sampling\n"
      ]
    },
    {
      "cell_type": "markdown",
      "metadata": {},
      "source": [
        "**Prepare \\`\\`BaseProblem\\`\\` for fixed-dimensional sampling**\n"
      ]
    },
    {
      "cell_type": "code",
      "execution_count": null,
      "metadata": {
        "collapsed": false
      },
      "outputs": [],
      "source": [
        "thick_min = 3\nthick_max = 10\nvs_min = 2\nvs_max = 5\n\ndef my_log_prior(model):\n    thicknesses, vs = split_layercake_model(model)\n    thicknesses_out_of_bounds = (thicknesses < thick_min) | (thicknesses > thick_max)\n    vs_out_of_bounds = (vs < vs_min) | (vs > vs_max)\n    if np.any(thicknesses_out_of_bounds) or np.any(vs_out_of_bounds):\n        return float(\"-inf\")\n    log_prior = - np.log(thick_max - thick_min) * len(thicknesses) \\\n                - np.log(vs_max - vs_min) * len(vs)\n    return log_prior"
      ]
    },
    {
      "cell_type": "code",
      "execution_count": null,
      "metadata": {
        "collapsed": false
      },
      "outputs": [],
      "source": [
        "# estimate the data noise\nrayleigh_dpred = forward_sw_interp(ref_good_model, field_d_periods)\nrayleigh_std = np.std(rayleigh_dpred - rayleigh_field_d_obs)\nrf_dpred_1_0 = forward_rf_interp(ref_good_model, 1, ray_param_1_0)\nrf_1_0_std = np.std(rf_dpred_1_0 - rf_field_dobs_1_0)\nrf_dpred_2_5 = forward_rf_interp(ref_good_model, 2.5, ray_param_2_5)\nrf_2_5_std = np.std(rf_dpred_2_5 - rf_field_dobs_2_5)"
      ]
    },
    {
      "cell_type": "code",
      "execution_count": null,
      "metadata": {
        "collapsed": false
      },
      "outputs": [],
      "source": [
        "# inverse data covariance matrix\nCdinv_rayleigh = np.eye(len(rayleigh_field_d_obs)) / (rayleigh_std**2)\nCdinv_rf_1_0 = np.eye(len(rf_field_dobs_1_0)) / (rf_1_0_std**2)\nCdinv_rf_2_5 = np.eye(len(rf_field_dobs_2_5)) / (rf_2_5_std**2)\n\nCdinv_list = [Cdinv_rayleigh, Cdinv_rf_1_0, Cdinv_rf_2_5]\n\ndef my_log_likelihood(\n    model, \n    fwd_funcs=fwd_funcs, \n    d_obs_list=d_obs_list, \n    Cdinv_list=Cdinv_list\n):\n    log_like_sum = 0\n    for (fwd, fwd_kwargs), d_obs, Cdinv in zip(fwd_funcs, d_obs_list, Cdinv_list):\n        try:\n            d_pred = fwd(model, **fwd_kwargs)\n        except:\n            return float(\"-inf\")\n        residual = d_obs - d_pred\n        log_like_sum += -0.5 * residual @ (Cdinv @ residual).T\n    return log_like_sum"
      ]
    },
    {
      "cell_type": "code",
      "execution_count": null,
      "metadata": {
        "collapsed": false
      },
      "outputs": [],
      "source": [
        "n_walkers = 60\n\nmy_walkers_start = np.ones((n_walkers, n_dims)) * inv_res_optimiser_field.model\nfor i in range(n_walkers):\n    my_walkers_start[i,:] += np.random.normal(0, 0.5, n_dims)"
      ]
    },
    {
      "cell_type": "code",
      "execution_count": null,
      "metadata": {
        "collapsed": false
      },
      "outputs": [],
      "source": [
        "joint_field_problem.set_log_prior(my_log_prior)\njoint_field_problem.set_log_likelihood(my_log_likelihood)"
      ]
    },
    {
      "cell_type": "markdown",
      "metadata": {},
      "source": [
        "**Define \\`\\`InversionOptions\\`\\`**\n"
      ]
    },
    {
      "cell_type": "code",
      "execution_count": null,
      "metadata": {
        "collapsed": false
      },
      "outputs": [],
      "source": [
        "inv_options_fixed_d_sampling = cofi.InversionOptions()\ninv_options_fixed_d_sampling.set_tool(\"emcee\")\ninv_options_fixed_d_sampling.set_params(\n    nwalkers=n_walkers,\n    nsteps=20_000,\n    initial_state=my_walkers_start,\n    skip_initial_state_check=True,\n    progress=True\n)"
      ]
    },
    {
      "cell_type": "markdown",
      "metadata": {},
      "source": [
        "**Define \\`\\`Inversion\\`\\` and run**\n"
      ]
    },
    {
      "cell_type": "code",
      "execution_count": null,
      "metadata": {
        "collapsed": false
      },
      "outputs": [],
      "source": [
        "inv_fixed_d_sampler_field = cofi.Inversion(joint_field_problem, inv_options_fixed_d_sampling)\ninv_res_fixed_d_sampler_field = inv_fixed_d_sampler_field.run()"
      ]
    },
    {
      "cell_type": "code",
      "execution_count": null,
      "metadata": {
        "collapsed": false
      },
      "outputs": [],
      "source": [
        "labels_v = [f\"v{i}\" for i in range(n_dims//2+1)]\nlabels_t = [f\"t{i}\" for i in range(n_dims//2)]\nlabels = [0] * n_dims\nlabels[::2] = labels_v\nlabels[1::2] = labels_t\n\nsampler = inv_res_fixed_d_sampler_field.sampler\naz_idata = az.from_emcee(sampler, var_names=labels)"
      ]
    },
    {
      "cell_type": "code",
      "execution_count": null,
      "metadata": {
        "collapsed": false
      },
      "outputs": [],
      "source": [
        "az_idata.get(\"posterior\")"
      ]
    },
    {
      "cell_type": "code",
      "execution_count": null,
      "metadata": {
        "collapsed": false
      },
      "outputs": [],
      "source": [
        "flat_samples = sampler.get_chain(discard=10_000, thin=500, flat=True)\nrand_indices = np.random.randint(len(flat_samples), size=100)\n\ngs = gridspec.GridSpec(2, 3, width_ratios=[1, 2, 2])\nfig = plt.figure(figsize=(12, 5))\nax1 = fig.add_subplot(gs[:, 0])\nax2 = fig.add_subplot(gs[:, 1])\nax3 = fig.add_subplot(gs[0, 2])\nax4 = fig.add_subplot(gs[1, 2])\n\nax1.set_ylim(100)\nax3.set_xlim(-5, 20)\nax3.set_ylim(-0.2, 0.6)\nax4.set_xlim(-5, 20)\nax4.set_ylim(-0.4, 1.2)\n\n# plot samples and data predictions from samples\nfor idx in rand_indices:\n    sample = flat_samples[idx]\n    plot_model(sample, ax=ax1, alpha=0.2, lw=0.5, color=\"gray\")\n    plot_sw_data(forward_sw_interp(sample, field_d_periods_logspace),\n                 field_d_periods_logspace, \n                 ax=ax2, alpha=0.2, lw=0.5, color=\"gray\")\n    plot_rf_data(forward_rf_interp(sample, 1, ray_param_1_0), rf_field_times,\n                 ax=ax3, alpha=0.2, lw=0.5, color=\"gray\")\n    plot_rf_data(forward_rf_interp(sample, 2.5, ray_param_2_5), rf_field_times,\n                 ax=ax4, alpha=0.2, lw=0.5, color=\"gray\")\n\n# add labels to samples\nsample_0 = flat_samples[rand_indices[0]]\nplot_model(sample_0, ax=ax1, alpha=0.5, lw=0.5, color=\"gray\", label=\"samples\")\nplot_sw_data(forward_sw_interp(sample_0, field_d_periods_logspace), \n             field_d_periods_logspace, ax=ax2, \n             alpha=0.5, lw=0.5, color=\"gray\", label=\"rayleigh_dpred from samples\")\nplot_rf_data(forward_rf_interp(sample_0, 1, ray_param_1_0), rf_field_times, ax=ax3, \n             alpha=0.5, lw=0.5, color=\"gray\", label=\"rf_dpred from samples\")\nplot_rf_data(forward_rf_interp(sample_0, 2.5, ray_param_2_5), rf_field_times, ax=ax4, \n             alpha=0.5, lw=0.5, color=\"gray\", label=\"rf_dpred from samples\")\n\n# plot reference good model and data observations\nplot_model(ref_good_model, ax=ax1, alpha=1, color=\"r\", label=\"reference good model\")\nplot_sw_data(rayleigh_field_d_obs, field_d_periods, ax=ax2, scatter=True, color=\"r\", s=4, \n          label=\"rayleigh_dobs\")\nplot_rf_data(rf_field_dobs_1_0, rf_field_times, ax=ax3, scatter=True, color=\"r\", s=2, \n          label=\"rf_dobs\")\nplot_rf_data(rf_field_dobs_2_5, rf_field_times, ax=ax4, scatter=True, color=\"r\", s=2, \n          label=\"rf_dobs\")\n\n# plot damped optimisation result\nplot_model(inv_res_optimiser_field.model, ax=ax1, alpha=1, color=\"green\", \n           label=\"damped solution\")\nplot_sw_data(forward_sw_interp(inv_res_optimiser_field.model, field_d_periods_logspace), \n             field_d_periods_logspace, ax=ax2, color=\"green\",\n             label=\"rayleigh_dpred from damped solution\")\nplot_rf_data(forward_rf_interp(inv_res_optimiser_field.model, 1, ray_param_1_0), \n             rf_field_times, ax=ax3, color=\"green\",\n             label=\"rf_dpred from damped solution\")\nplot_rf_data(forward_rf_interp(inv_res_optimiser_field.model, 2.5, ray_param_2_5), \n             rf_field_times, ax=ax4, color=\"green\",\n             label=\"rf_dpred from damped solution\")\n\n# plot initial model for dampied optimsiation\nplot_model(init_model, ax=ax1, alpha=1, color=\"purple\", \n           label=\"initial model for damped solution\")\nplot_sw_data(forward_sw_interp(init_model, field_d_periods_logspace), \n             field_d_periods_logspace, ax=ax2, color=\"purple\",\n             label=\"rayleigh_dpred from initial model for damped solution\")\nplot_rf_data(forward_rf_interp(init_model, 1, ray_param_1_0), rf_field_times, \n             ax=ax3, color=\"purple\",\n             label=\"rf_dpred from initial model for damped solution\")\nplot_rf_data(forward_rf_interp(init_model, 2.5, ray_param_2_5), rf_field_times, \n             ax=ax4, color=\"purple\",\n             label=\"rf_dpred from initial model for damped solution\")\n\nax1.legend(loc=\"upper center\", bbox_to_anchor=(0.5, -0.18))\nax2.legend(loc=\"upper center\", bbox_to_anchor=(0.5, -0.18))\nax4.legend(loc=\"upper center\", bbox_to_anchor=(0.5, -0.6))\nax1.grid()\nax2.grid()\nax3.grid()\nax4.grid()\nax3.set_title(\"receiver function data (ray=1.0)\")\nax4.set_title(\"receiver function data (ray=2.5)\")\n\nplt.tight_layout()"
      ]
    },
    {
      "cell_type": "markdown",
      "metadata": {},
      "source": [
        "# Trans-dimensional sampling\n"
      ]
    },
    {
      "cell_type": "markdown",
      "metadata": {},
      "source": [
        "**Prepare utilities for trans-d sampling**\n"
      ]
    },
    {
      "cell_type": "code",
      "execution_count": null,
      "metadata": {
        "collapsed": false
      },
      "outputs": [],
      "source": [
        "def fwd_for_bayesbay(state, fwd_func, **kwargs):\n    vs = state[\"voronoi\"][\"vs\"]\n    voronoi_sites = state[\"voronoi\"][\"discretization\"]\n    depths = (voronoi_sites[:-1] + voronoi_sites[1:]) / 2\n    thicknesses = depths - np.insert(depths[:-1], 0, 0)\n    model = form_layercake_model(thicknesses, vs)\n    return fwd_func(model, **kwargs)"
      ]
    },
    {
      "cell_type": "code",
      "execution_count": null,
      "metadata": {
        "collapsed": false
      },
      "outputs": [],
      "source": [
        "targets = [\n    bayesbay.Target(\"rayleigh\", rayleigh_field_d_obs, covariance_mat_inv=1/rayleigh_std**2),\n    bayesbay.Target(\"rf_1_0\", rf_field_dobs_1_0, covariance_mat_inv=1/rf_1_0_std**2), \n    bayesbay.Target(\"rf_2_5\", rf_field_dobs_2_5, covariance_mat_inv=1/rf_2_5_std**2)\n]\nforward_funcs = [\n    (fwd_for_bayesbay, {\"fwd_func\": forward_sw_interp, \"periods\": field_d_periods}), \n    (fwd_for_bayesbay, {\"fwd_func\": forward_rf_interp, \"gauss\": 1, \"ray_param\": ray_param_1_0}),\n    (fwd_for_bayesbay, {\"fwd_func\": forward_rf_interp, \"gauss\": 2.5, \"ray_param\": ray_param_2_5})\n]\n\nmy_log_likelihood = bayesbay.LogLikelihood(targets, forward_funcs)"
      ]
    },
    {
      "cell_type": "code",
      "execution_count": null,
      "metadata": {
        "collapsed": false
      },
      "outputs": [],
      "source": [
        "param_vs = bayesbay.prior.UniformPrior(\n    name=\"vs\", \n    vmin=[2.7, 3.2, 3.75], \n    vmax=[4, 4.75, 5], \n    position=[0, 40, 80], \n    perturb_std=0.15\n)\n\ndef param_vs_initialize(param, positions): \n    vmin, vmax = param.get_vmin_vmax(positions)\n    sorted_vals = np.sort(np.random.uniform(vmin, vmax, positions.size))\n    for i in range (len(sorted_vals)):\n        val = sorted_vals[i]\n        vmin_i = vmin if np.isscalar(vmin) else vmin[i]\n        vmax_i = vmax if np.isscalar(vmax) else vmax[i]\n        if val < vmin_i or val > vmax_i:\n            if val > vmax_i: sorted_vals[i] = vmax_i\n            if val < vmin_i: sorted_vals[i] = vmin_i\n    return sorted_vals\n\nparam_vs.set_custom_initialize(param_vs_initialize)"
      ]
    },
    {
      "cell_type": "code",
      "execution_count": null,
      "metadata": {
        "collapsed": false
      },
      "outputs": [],
      "source": [
        "parameterization = bayesbay.parameterization.Parameterization(\n    bayesbay.discretization.Voronoi1D(\n        name=\"voronoi\", \n        vmin=0, \n        vmax=150, \n        perturb_std=10, \n        n_dimensions=None, \n        n_dimensions_min=4, \n        n_dimensions_max=15, \n        parameters=[param_vs], \n    )\n)\nmy_perturbation_funcs = parameterization.perturbation_functions"
      ]
    },
    {
      "cell_type": "code",
      "execution_count": null,
      "metadata": {
        "collapsed": false
      },
      "outputs": [],
      "source": [
        "n_chains=12\nwalkers_start = []\nfor i in range(n_chains):\n    walkers_start.append(parameterization.initialize())"
      ]
    },
    {
      "cell_type": "markdown",
      "metadata": {},
      "source": [
        "**Define \\`\\`InversionOptions\\`\\`**\n"
      ]
    },
    {
      "cell_type": "code",
      "execution_count": null,
      "metadata": {
        "collapsed": false
      },
      "outputs": [],
      "source": [
        "inv_options_trans_d = cofi.InversionOptions()\ninv_options_trans_d.set_tool(\"bayesbay\")\ninv_options_trans_d.set_params(\n    walkers_starting_states=walkers_start,\n    perturbation_funcs=my_perturbation_funcs,\n    log_like_ratio_func=my_log_likelihood,\n    n_chains=n_chains, \n    n_iterations=2_000, \n    burnin_iterations=1_000,\n    verbose=False, \n    save_every=200, \n)"
      ]
    },
    {
      "cell_type": "markdown",
      "metadata": {},
      "source": [
        "**Define \\`\\`Inversion\\`\\` and run**\n"
      ]
    },
    {
      "cell_type": "code",
      "execution_count": null,
      "metadata": {
        "collapsed": false
      },
      "outputs": [],
      "source": [
        "inv_trans_d_sampler_field = cofi.Inversion(joint_field_problem, inv_options_trans_d)\ninv_res_trans_d_sampler_field = inv_trans_d_sampler_field.run()"
      ]
    },
    {
      "cell_type": "code",
      "execution_count": null,
      "metadata": {
        "collapsed": false
      },
      "outputs": [],
      "source": [
        "saved_states = inv_res_trans_d_sampler_field.models\nsamples_voronoi = saved_states[\"voronoi.discretization\"]\nsamples_vs = saved_states[\"voronoi.vs\"]\ninterp_depths = np.arange(150, dtype=float)"
      ]
    },
    {
      "cell_type": "code",
      "execution_count": null,
      "metadata": {
        "collapsed": false
      },
      "outputs": [],
      "source": [
        "rand_indices = np.random.randint(len(samples_voronoi), size=100)\n\ngs = gridspec.GridSpec(2, 3, width_ratios=[1, 2, 2])\nfig = plt.figure(figsize=(12, 5))\nax1 = fig.add_subplot(gs[:, 0])\nax2 = fig.add_subplot(gs[:, 1])\nax3 = fig.add_subplot(gs[0, 2])\nax4 = fig.add_subplot(gs[1, 2])\n\nax1.set_ylim(100)\nax3.set_xlim(-5, 20)\nax3.set_ylim(-0.2, 0.6)\nax4.set_xlim(-5, 20)\nax4.set_ylim(-0.4, 1.2)\n\n# plot samples and data predictions from samples\nfor idx in rand_indices:\n    sample_voronoi = form_voronoi_model(samples_voronoi[idx], samples_vs[idx])\n    sample = voronoi_to_layercake(sample_voronoi)\n    plot_model(sample, ax=ax1, alpha=0.2, lw=0.5, color=\"gray\")\n    plot_sw_data(forward_sw_interp(sample, field_d_periods_logspace),\n                 field_d_periods_logspace, \n                 ax=ax2, alpha=0.2, lw=0.5, color=\"gray\")\n    plot_rf_data(forward_rf_interp(sample, 1, ray_param_1_0), rf_field_times,\n                 ax=ax3, alpha=0.2, lw=0.5, color=\"gray\")\n    plot_rf_data(forward_rf_interp(sample, 2.5, ray_param_2_5), rf_field_times,\n                 ax=ax4, alpha=0.2, lw=0.5, color=\"gray\")\n\n# add labels to samples\nsample_0_voronoi = form_voronoi_model(samples_voronoi[0], samples_vs[0])\nsample_0 = voronoi_to_layercake(sample_0_voronoi)\nplot_model(sample_0, ax=ax1, alpha=0.5, lw=0.5, color=\"gray\", label=\"samples\")\nplot_sw_data(forward_sw_interp(sample_0, field_d_periods_logspace), \n             field_d_periods_logspace, ax=ax2, \n             alpha=0.5, lw=0.5, color=\"gray\", label=\"rayleigh_dpred from samples\")\nplot_rf_data(forward_rf_interp(sample_0, 1, ray_param_1_0), rf_field_times, ax=ax3, \n             alpha=0.5, lw=0.5, color=\"gray\", label=\"rf_dpred from samples\")\nplot_rf_data(forward_rf_interp(sample_0, 2.5, ray_param_2_5), rf_field_times, ax=ax4, \n             alpha=0.5, lw=0.5, color=\"gray\", label=\"rf_dpred from samples\")\n\n# plot reference good model and data observations\nplot_model(ref_good_model, ax=ax1, alpha=1, color=\"r\", label=\"reference good model\")\nplot_sw_data(rayleigh_field_d_obs, field_d_periods, ax=ax2, scatter=True, color=\"r\", s=4, \n          label=\"rayleigh_dobs\")\nplot_rf_data(rf_field_dobs_1_0, rf_field_times, ax=ax3, scatter=True, color=\"r\", s=2, \n          label=\"rf_dobs\")\nplot_rf_data(rf_field_dobs_2_5, rf_field_times, ax=ax4, scatter=True, color=\"r\", s=2, \n          label=\"rf_dobs\")\n\n# plot damped optimisation result\nplot_model(inv_res_optimiser_field.model, ax=ax1, alpha=1, color=\"green\", \n           label=\"damped solution\")\nplot_sw_data(forward_sw_interp(inv_res_optimiser_field.model, field_d_periods_logspace), \n             field_d_periods_logspace, ax=ax2, color=\"green\",\n             label=\"rayleigh_dpred from damped solution\")\nplot_rf_data(forward_rf_interp(inv_res_optimiser_field.model, 1, ray_param_1_0), \n             rf_field_times, ax=ax3, color=\"green\",\n             label=\"rf_dpred from damped solution\")\nplot_rf_data(forward_rf_interp(inv_res_optimiser_field.model, 2.5, ray_param_2_5), \n             rf_field_times, ax=ax4, color=\"green\",\n             label=\"rf_dpred from damped solution\")\n\n# plot initial model for dampied optimsiation\nplot_model(init_model, ax=ax1, alpha=1, color=\"purple\", \n           label=\"initial model for damped solution\")\nplot_sw_data(forward_sw_interp(init_model, field_d_periods_logspace), \n             field_d_periods_logspace, ax=ax2, color=\"purple\",\n             label=\"rayleigh_dpred from initial model for damped solution\")\nplot_rf_data(forward_rf_interp(init_model, 1, ray_param_1_0), rf_field_times, \n             ax=ax3, color=\"purple\",\n             label=\"rf_dpred from initial model for damped solution\")\nplot_rf_data(forward_rf_interp(init_model, 2.5, ray_param_2_5), rf_field_times, \n             ax=ax4, color=\"purple\",\n             label=\"rf_dpred from initial model for damped solution\")\n\nax1.legend(loc=\"upper center\", bbox_to_anchor=(0.5, -0.18))\nax2.legend(loc=\"upper center\", bbox_to_anchor=(0.5, -0.18))\nax4.legend(loc=\"upper center\", bbox_to_anchor=(0.5, -0.6))\nax1.grid()\nax2.grid()\nax3.grid()\nax4.grid()\nax3.set_title(\"receiver function data (ray=1.0)\")\nax4.set_title(\"receiver function data (ray=2.5)\")\n\nplt.tight_layout()"
      ]
    },
    {
      "cell_type": "markdown",
      "metadata": {},
      "source": [
        "------------------------------------------------------------------------\n\n# Watermark\n"
      ]
    },
    {
      "cell_type": "code",
      "execution_count": null,
      "metadata": {
        "collapsed": false
      },
      "outputs": [],
      "source": [
        "watermark_list = [\"cofi\", \"espresso\", \"numpy\", \"matplotlib\", \"scipy\", \"bayesbay\"]\nfor pkg in watermark_list:\n    pkg_var = __import__(pkg)\n    print(pkg, getattr(pkg_var, \"__version__\"))"
      ]
    },
    {
      "cell_type": "markdown",
      "metadata": {},
      "source": [
        "sphinx_gallery_thumbnail_number = -1\n"
      ]
    }
  ],
  "metadata": {
    "kernelspec": {
      "display_name": "Python 3",
      "language": "python",
      "name": "python3"
    },
    "language_info": {
      "codemirror_mode": {
        "name": "ipython",
        "version": 3
      },
      "file_extension": ".py",
      "mimetype": "text/x-python",
      "name": "python",
      "nbconvert_exporter": "python",
      "pygments_lexer": "ipython3",
      "version": "3.10.13"
    }
  },
  "nbformat": 4,
  "nbformat_minor": 0
}