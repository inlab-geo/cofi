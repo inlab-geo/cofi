{
  "cells": [
    {
      "cell_type": "markdown",
      "metadata": {},
      "source": [
        "# Receiver Function\n\n```{=html}\n<!-- Please leave the cell below as it is -->\n```\n"
      ]
    },
    {
      "cell_type": "markdown",
      "metadata": {},
      "source": [
        "[![Open In\nColab](https://img.shields.io/badge/open%20in-Colab-b5e2fa?logo=googlecolab&style=flat-square&color=ffd670)](https://colab.research.google.com/github/inlab-geo/cofi-examples/blob/main/examples/receiver_function/receiver_function.ipynb)\n"
      ]
    },
    {
      "cell_type": "markdown",
      "metadata": {},
      "source": [
        "```{=html}\n<!-- Again, please don't touch the markdown cell above. We'll generate badge \n     automatically from the above cell. -->\n```\n```{=html}\n<!-- This cell describes things related to environment setup, so please add more text \n     if something special (not listed below) is needed to run this notebook -->\n```\n> If you are running this notebook locally, make sure you've followed\n> [steps\n> here](https://github.com/inlab-geo/cofi-examples#run-the-examples-with-cofi-locally)\n> to set up the environment. (This\n> [environment.yml](https://github.com/inlab-geo/cofi-examples/blob/main/envs/environment.yml)\n> file specifies a list of packages required to run the notebooks)\n"
      ]
    },
    {
      "cell_type": "markdown",
      "metadata": {},
      "source": [
        "Receiver functions are a class of seismic data used to study\ndiscontinuities (layering) in the Earth's crust. At each discontinuity,\nP-to-S conversions occur, introducing complexity in the waveform. By\ndeconvolving horizontal- and vertical-channel waveforms from earthquakes\nat teleseismic distances, we can isolate information about these\nconversions, and hence learn about the crustal structure. This\ndeconvolved signal is the receiver function, and has a highly non-linear\ndependence on the local crustal properties.\n\nWe refer you to the paper below for description of the algorithms and\nthe forward kernel we use:\n\n*Genetic algorithm inversion for receiver functions with application to\ncrust and uppermost mantle structure beneath Eastern Australia*,\nShibutani, T., Kennett, B. and Sambridge, M., Geophys. Res. Lett., 23 ,\nNo.\u00a04, 1829-1832, 1996.\n\nIn this notebook, we run inversion on a toy model with optimisation and\nparallel sampling.\n"
      ]
    },
    {
      "cell_type": "markdown",
      "metadata": {},
      "source": [
        "# 0. Import modules\n"
      ]
    },
    {
      "cell_type": "code",
      "execution_count": null,
      "metadata": {
        "collapsed": false
      },
      "outputs": [],
      "source": [
        "# -------------------------------------------------------- #\n#                                                          #\n#     Uncomment below to set up environment on \"colab\"     #\n#                                                          #\n# -------------------------------------------------------- #\n\n# !pip install -U cofi geo-espresso"
      ]
    },
    {
      "cell_type": "code",
      "execution_count": null,
      "metadata": {
        "collapsed": false
      },
      "outputs": [],
      "source": [
        "import os\nimport math\nimport numpy as np\nimport matplotlib.pyplot as plt\nimport arviz\nimport emcee\nimport multiprocessing\n\nimport cofi\nimport espresso"
      ]
    },
    {
      "cell_type": "code",
      "execution_count": null,
      "metadata": {
        "collapsed": false
      },
      "outputs": [],
      "source": [
        "# randomness is used to initialise emcee walkers starting points\nnp.random.seed(42)"
      ]
    },
    {
      "cell_type": "markdown",
      "metadata": {},
      "source": [
        "We are going to use the receiver function kernel wrapped in\n`` `espresso ``\n\\<<https://geo-espresso.readthedocs.io/en/latest/user_guide/contrib/generated/_receiver_function/index.html>\\>\\`\\_\\_,\nwith calls to Fortran routines developed by Takuo Shibutani in the\nbackend.\n"
      ]
    },
    {
      "cell_type": "code",
      "execution_count": null,
      "metadata": {
        "collapsed": false
      },
      "outputs": [],
      "source": [
        "my_receiver_function = espresso.ReceiverFunctionInversionShibutani(example_number=4)"
      ]
    },
    {
      "cell_type": "markdown",
      "metadata": {},
      "source": [
        "Consider a model setup of `n` layers described with 3 parameters for\neach layer. `model` is a NumPy array of dimension `[nlayers,3]`. The\nvalues in `model[:,0]` give the depths of discontinuities in the model,\nwhile `model[:,1]` contains the S-wave speed above the interface.\n`model[:,2]` is the ratio of S-wave speed to P-wave speed. The maximum\ndepth of discontinuity that can be considered is 60km.\n\nIn this example, we fix the ratio of S-wave speed to P-wave speed, and\ntreat the interface depths and velocities of 5 layers as unknowns.\n\nIn order to better understand the complexity and non-linear nature of\nseismic receiver function inversion, we have included a few illustrative\nanimations. These animations highlight the substantial influence of\nvelocities and, more prominently, interface depths on the resulting\nreceiver functions.\n"
      ]
    },
    {
      "cell_type": "markdown",
      "metadata": {},
      "source": [
        "<figure>\n<img\nsrc=\"https://github.com/inlab-geo/cofi-examples/blob/main/examples/receiver_function/depth_layer3_anim4.gif?raw=true\"\nalt=\"https://github.com/inlab-geo/cofi-examples/blob/main/examples/receiver_function/depth_layer3_anim4.gif?raw=true\" />\n<figcaption>depth_layer3_anim4.gif</figcaption>\n</figure>\n"
      ]
    },
    {
      "cell_type": "markdown",
      "metadata": {},
      "source": [
        "<figure>\n<img\nsrc=\"https://github.com/inlab-geo/cofi-examples/blob/main/examples/receiver_function/vel_layer3_anim4_400f.gif?raw=true\"\nalt=\"https://github.com/inlab-geo/cofi-examples/blob/main/examples/receiver_function/vel_layer3_anim4_400f.gif?raw=true\" />\n<figcaption>vel_layer3_anim4_400f.gif</figcaption>\n</figure>\n"
      ]
    },
    {
      "cell_type": "markdown",
      "metadata": {},
      "source": [
        "This is a non-linear problem which can be highly sensitive to the\nstarting model.\n\n<figure>\n<img\nsrc=\"https://github.com/inlab-geo/cofi-examples/blob/main/examples/receiver_function/3Dsurf_x40y10_v55_l270_35.png?raw=true\"\nalt=\"https://github.com/inlab-geo/cofi-examples/blob/main/examples/receiver_function/3Dsurf_x40y10_v55_l270_35.png?raw=true\" />\n<figcaption>3Dsurf_x40y10_v55_l270_35</figcaption>\n</figure>\n\nHere we set a starting model that is reasonably close to the true model,\nso that the optimisation converges.\n"
      ]
    },
    {
      "cell_type": "code",
      "execution_count": null,
      "metadata": {
        "collapsed": false
      },
      "outputs": [],
      "source": [
        "null_model = my_receiver_function.starting_model \n\nprint(f\"Number of model parameters in this example: {null_model.size}\")\nmy_receiver_function._model_setup(null_model)"
      ]
    },
    {
      "cell_type": "markdown",
      "metadata": {},
      "source": [
        "Let's plot the starting Earth model.\n"
      ]
    },
    {
      "cell_type": "code",
      "execution_count": null,
      "metadata": {
        "collapsed": false
      },
      "outputs": [],
      "source": [
        "my_receiver_function.plot_model(null_model);"
      ]
    },
    {
      "cell_type": "markdown",
      "metadata": {},
      "source": [
        "Now we calculate the receiver function and plot it\n"
      ]
    },
    {
      "cell_type": "code",
      "execution_count": null,
      "metadata": {
        "collapsed": false
      },
      "outputs": [],
      "source": [
        "predicted_data = my_receiver_function.forward(null_model)\nobserved_data = my_receiver_function.data \nmy_receiver_function.plot_data(\n    data1=predicted_data, \n    data2=observed_data, \n    label=\"predicted_data\", \n    label2=\"observed_data\", \n)\nplt.legend();"
      ]
    },
    {
      "cell_type": "markdown",
      "metadata": {},
      "source": [
        "# 1. Solve with an optimiser\n"
      ]
    },
    {
      "cell_type": "markdown",
      "metadata": {},
      "source": [
        "# 1.1 Define BaseProblem\n"
      ]
    },
    {
      "cell_type": "code",
      "execution_count": null,
      "metadata": {
        "collapsed": false
      },
      "outputs": [],
      "source": [
        "my_problem = cofi.BaseProblem()"
      ]
    },
    {
      "cell_type": "markdown",
      "metadata": {},
      "source": [
        "In preparation for optimisation:\n"
      ]
    },
    {
      "cell_type": "code",
      "execution_count": null,
      "metadata": {
        "collapsed": false
      },
      "outputs": [],
      "source": [
        "def my_misfit(model, include_uncertainty=False):\n    predicted_data = my_receiver_function.forward(model)\n    misfit_val = my_receiver_function.misfit(predicted_data, observed_data)\n    if math.isnan(misfit_val):\n        return float(\"inf\")\n    return misfit_val\n\nmy_problem.set_objective(my_misfit)\nmy_problem.set_initial_model(null_model)\n\nmy_problem.summary()"
      ]
    },
    {
      "cell_type": "markdown",
      "metadata": {},
      "source": [
        "# 1.2 Define InversionOptions\n"
      ]
    },
    {
      "cell_type": "code",
      "execution_count": null,
      "metadata": {
        "collapsed": false
      },
      "outputs": [],
      "source": [
        "my_options_optimiser = cofi.InversionOptions()\nmy_options_optimiser.set_tool(\"scipy.optimize.minimize\")\nmy_options_optimiser.set_params(method=\"Nelder-Mead\")   # Nelder-Mead or COBYLA"
      ]
    },
    {
      "cell_type": "markdown",
      "metadata": {},
      "source": [
        "# 1.3 Define Inversion and run\n"
      ]
    },
    {
      "cell_type": "code",
      "execution_count": null,
      "metadata": {
        "collapsed": false
      },
      "outputs": [],
      "source": [
        "inv_optimiser = cofi.Inversion(my_problem, my_options_optimiser)\nmy_result_optimiser = inv_optimiser.run()\nmy_result_optimiser.summary()"
      ]
    },
    {
      "cell_type": "code",
      "execution_count": null,
      "metadata": {
        "collapsed": false
      },
      "outputs": [],
      "source": [
        "print(\"Inversion result:    \", my_result_optimiser.model)\nprint(\"Reference good model:\", my_receiver_function.good_model)"
      ]
    },
    {
      "cell_type": "markdown",
      "metadata": {},
      "source": [
        "# 1.4 Plotting\n"
      ]
    },
    {
      "cell_type": "code",
      "execution_count": null,
      "metadata": {
        "collapsed": false
      },
      "outputs": [],
      "source": [
        "predicted_data = my_receiver_function.forward(my_result_optimiser.model)\nmy_receiver_function.plot_data(\n    data1=predicted_data, \n    data2=observed_data, \n    label=\"predicted_data\", \n    label2=\"observed_data\", \n)\nplt.legend();"
      ]
    },
    {
      "cell_type": "markdown",
      "metadata": {},
      "source": [
        "# 2. Solve with a sampler\n\n## 2.1 Enrich BaseProblem\n"
      ]
    },
    {
      "cell_type": "markdown",
      "metadata": {},
      "source": [
        "In preparation for sampling:\n"
      ]
    },
    {
      "cell_type": "code",
      "execution_count": null,
      "metadata": {
        "collapsed": false
      },
      "outputs": [],
      "source": [
        "def my_log_likelihood(model):\n    data1 = my_receiver_function.data\n    data2 = my_receiver_function.forward(model)\n    log_likelihood = my_receiver_function.log_likelihood(data1, data2) / 20 # temper the likelihood\n    return log_likelihood\n\ndef my_log_prior(model):\n    log_prior = my_receiver_function.log_prior(model)\n    return log_prior\n\nndim = my_receiver_function.model_size\n\nmy_problem.set_model_shape(ndim)\nmy_problem.set_log_likelihood(my_log_likelihood)\nmy_problem.set_log_prior(my_log_prior)\n\nmy_problem.summary()"
      ]
    },
    {
      "cell_type": "code",
      "execution_count": null,
      "metadata": {
        "collapsed": false
      },
      "outputs": [],
      "source": [
        "nwalkers = 12\nnsteps = 25000\nwalkers_start = my_result_optimiser.model + 1e-1 * np.random.randn(nwalkers, ndim)"
      ]
    },
    {
      "cell_type": "markdown",
      "metadata": {},
      "source": [
        "We can run `emcee` in parallel. Some additional preparation:\n"
      ]
    },
    {
      "cell_type": "markdown",
      "metadata": {},
      "source": [
        "# 2.2 Define InversionOptions, Inversion and run\n"
      ]
    },
    {
      "cell_type": "code",
      "execution_count": null,
      "metadata": {
        "collapsed": false
      },
      "outputs": [],
      "source": [
        "import warnings\nwarnings.filterwarnings(\"ignore\")\n\nmy_options_sampler = cofi.InversionOptions()\nmy_options_sampler.set_tool(\"emcee\")\nmy_options_sampler.set_params(\n    nwalkers=nwalkers,\n    nsteps=nsteps,\n    initial_state=walkers_start,\n    progress=True,\n)\ninv_sampler = cofi.Inversion(my_problem, my_options_sampler)\ninv_result_sampler = inv_sampler.run()"
      ]
    },
    {
      "cell_type": "code",
      "execution_count": null,
      "metadata": {
        "collapsed": false
      },
      "outputs": [],
      "source": [
        "inv_result_sampler.summary()"
      ]
    },
    {
      "cell_type": "markdown",
      "metadata": {},
      "source": [
        "# 2.3 Plotting\n"
      ]
    },
    {
      "cell_type": "code",
      "execution_count": null,
      "metadata": {
        "collapsed": false
      },
      "outputs": [],
      "source": [
        "var_names = (\n    \"depth1 (km)\", \n    \"velocity1 (km/s)\", \n    \"depth2 (km)\", \n    \"velocity2 (km/s)\", \n    \"depth3 (km)\", \n    \"velocity3 (km/s)\", \n)\naz_inf_data = inv_result_sampler.to_arviz(var_names=var_names)\naz_inf_data"
      ]
    },
    {
      "cell_type": "code",
      "execution_count": null,
      "metadata": {
        "collapsed": false
      },
      "outputs": [],
      "source": [
        "arviz.plot_trace(az_inf_data);\nplt.tight_layout();"
      ]
    },
    {
      "cell_type": "markdown",
      "metadata": {},
      "source": [
        "The walkers start in small distributions around some chosen values and\nthen they quickly wander and start exploring the full posterior\ndistribution. In fact, after a relatively small number of steps, the\nsamples seem pretty well \"burnt-in\". That is a hard statement to make\nquantitatively, but we can look at an estimate of the integrated\nautocorrelation time (see Emcee's package the -[Autocorrelation analysis\n& convergence\ntutorial](https://emcee.readthedocs.io/en/stable/tutorials/autocorr/)\nfor more details):\n"
      ]
    },
    {
      "cell_type": "code",
      "execution_count": null,
      "metadata": {
        "collapsed": false
      },
      "outputs": [],
      "source": [
        "tau = inv_result_sampler.sampler.get_autocorr_time()\nprint(f\"autocorrelation time: {tau}\")"
      ]
    },
    {
      "cell_type": "markdown",
      "metadata": {},
      "source": [
        "Let's discard the initial 300 steps and make a corner plot:\n"
      ]
    },
    {
      "cell_type": "code",
      "execution_count": null,
      "metadata": {
        "collapsed": false
      },
      "outputs": [],
      "source": [
        "az_inf_data_after_300 = az_inf_data.sel(draw=slice(300,None))\n\narviz.plot_pair(\n    az_inf_data_after_300, \n    marginals=True, \n)\n\nprint(\"Reference good model:\", my_receiver_function.good_model)"
      ]
    },
    {
      "cell_type": "code",
      "execution_count": null,
      "metadata": {
        "collapsed": false
      },
      "outputs": [],
      "source": [
        "true_model = my_receiver_function.good_model\nmean_sample = np.array(az_inf_data[\"posterior\"].mean().to_array())\nmedian_sample = np.array(az_inf_data[\"posterior\"].median().to_array())\n\nprint(\"Mean of samples:     \", mean_sample)\nprint(\"Reference good model:\", true_model)\n\nmy_receiver_function.plot_model(true_model, mean_sample, \"true_model\", \"mean_sample\")\nplt.legend();"
      ]
    },
    {
      "cell_type": "code",
      "execution_count": null,
      "metadata": {
        "collapsed": false
      },
      "outputs": [],
      "source": [
        "mean_sample_predicted_data = my_receiver_function.forward(mean_sample)\nmy_receiver_function.plot_data(\n    observed_data, \n    mean_sample_predicted_data,\n    \"observed_data\",\n    \"mean_sample_predicted_data\",\n);\nplt.legend();"
      ]
    },
    {
      "cell_type": "markdown",
      "metadata": {},
      "source": [
        "------------------------------------------------------------------------\n\n# Watermark\n\n```{=html}\n<!-- Feel free to add more modules in the watermark_list below, if more packages are used -->\n```\n```{=html}\n<!-- Otherwise please leave the below code cell unchanged -->\n```\n"
      ]
    },
    {
      "cell_type": "code",
      "execution_count": null,
      "metadata": {
        "collapsed": false
      },
      "outputs": [],
      "source": [
        "watermark_list = [\"cofi\", \"espresso\", \"numpy\", \"matplotlib\", \"emcee\", \"arviz\"]\nfor pkg in watermark_list:\n    pkg_var = __import__(pkg)\n    print(pkg, getattr(pkg_var, \"__version__\"))"
      ]
    },
    {
      "cell_type": "markdown",
      "metadata": {},
      "source": [
        "sphinx_gallery_thumbnail_number = -1\n"
      ]
    }
  ],
  "metadata": {
    "kernelspec": {
      "display_name": "Python 3",
      "language": "python",
      "name": "python3"
    },
    "language_info": {
      "codemirror_mode": {
        "name": "ipython",
        "version": 3
      },
      "file_extension": ".py",
      "mimetype": "text/x-python",
      "name": "python",
      "nbconvert_exporter": "python",
      "pygments_lexer": "ipython3",
      "version": "3.10.13"
    }
  },
  "nbformat": 4,
  "nbformat_minor": 0
}