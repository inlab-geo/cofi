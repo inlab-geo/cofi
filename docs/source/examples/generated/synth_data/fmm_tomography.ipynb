{
  "cells": [
    {
      "cell_type": "code",
      "execution_count": null,
      "metadata": {
        "collapsed": false
      },
      "outputs": [],
      "source": [
        "%matplotlib inline"
      ]
    },
    {
      "cell_type": "markdown",
      "metadata": {},
      "source": [
        "# Seismic Wave Tomography via Fast Marching\n"
      ]
    },
    {
      "cell_type": "markdown",
      "metadata": {},
      "source": [
        "[![Open In\nColab](https://img.shields.io/badge/open%20in-Colab-b5e2fa?logo=googlecolab&style=flat-square&color=ffd670)](https://colab.research.google.com/github/inlab-geo/cofi-examples/blob/main/examples/fmm_tomography/fmm_tomography.ipynb)\n"
      ]
    },
    {
      "cell_type": "markdown",
      "metadata": {},
      "source": [
        "```{=html}\n<!-- Again, please don't touch the markdown cell above. We'll generate badge \n     automatically from the above cell. -->\n```\n```{=html}\n<!-- This cell describes things related to environment setup, so please add more text \n     if something special (not listed below) is needed to run this notebook -->\n```\n> If you are running this notebook locally, make sure you've followed\n> [steps\n> here](https://github.com/inlab-geo/cofi-examples#run-the-examples-with-cofi-locally)\n> to set up the environment. (This\n> [environment.yml](https://github.com/inlab-geo/cofi-examples/blob/main/envs/environment.yml)\n> file specifies a list of packages required to run the notebooks)\n"
      ]
    },
    {
      "cell_type": "markdown",
      "metadata": {},
      "source": [
        "```{=html}\n<!-- TODO - background introduction for this problem. -->\n```\nIn this notebook, we use `cofi` to run a seismic wave tomography\nexample, in which the forward calculation is based on the Fast Marching\nFortran code by Nick Rawlinson. The Fast Marching code is wrapped in\npackage `espresso`.\n\n# Theoretical background\n\nThe goal in travel-time tomography is to infer details about the\nvelocity structure of a medium, given measurements of the minimum time\ntaken for a wave to propagate from source to receiver. For seismic\ntravel times, as we change our model, the route of the fastest path from\nsource to receiver also changes. This makes the problem nonlinear, as\nraypaths also depend on the sought after velocity or slowness model.\n\nProvided the 'true' velocity structure is not *too* dissimilar from our\ninitial guess, travel-time tomography can be treated as a weakly\nnon-linear problem. In this notebook we optionally treat the ray paths\nas fixed, and so it becomes a linear problem, or calculate rays in the\nvelociuty model.\n\nThe travel-time of an individual ray can be computed as\n\n$$t = \\int_\\mathrm{path} \\frac{1}{v(\\mathbf{x})}\\,\\mathrm{d}\\mathbf{x}$$\n\nThis points to an additional complication: even for a fixed path, the\nrelationship between velocities and observations is not linear. However,\nif we define the 'slowness' to be the inverse of velocity,\n$s(\\mathbf{x}) = v^{-1}(\\mathbf{x})$, we can write\n\n$$t = \\int_\\mathrm{path} {s(\\mathbf{x})}\\,\\mathrm{d}\\mathbf{x}$$\n\nwhich *is* linear.\n\nWe will assume that the object we are interested in is 2-dimensional\nslowness field. If we discretize this model, with $N_x$ cells in the\n$x$-direction and $N_y$ cells in the $y$-direction, we can express\n$s(\\mathbf{x})$ as an $N_x \\times N_y$ vector $\\boldsymbol{s}$.\n\n**For the linear case**, this is related to the data by\n\n$$d_i = A_{ij}s_j$$\n\nwhere $d_i$ is the travel time of the ith path, and where $A_{ij}$\nrepresents the path length in cell $j$ of the discretized model.\n\n**For the nonlinear case**, this is related to the data by\n\n$$\\delta d_i = A_{ij}\\delta s_j$$\n\nwhere $\\delta d_i$ is the difference in travel time, of the ith path,\nbetween the observed time and the travel time in the reference model.\nHere $A_{ij}$ represents the path length in cell $j$ of the discretized\nmodel. The parameters $\\delta s_j$ are slowness perturbations to the\nreference model.\n\nIn this notebook we form and solve a travel time tomography problem\nusing model damping and 2nd derivative smoothing. For forward modelling,\na fast marching wave front tracker is used, utilizing the Fast Marching\nFortran code within the package `` `FMTOMO ``\n\\<<http://iearth.edu.au/codes/FMTOMO/>\\>\\`\\_\\_ by Nick Rawlinson.\n"
      ]
    },
    {
      "cell_type": "markdown",
      "metadata": {},
      "source": [
        "# 0. Import modules\n"
      ]
    },
    {
      "cell_type": "code",
      "execution_count": null,
      "metadata": {
        "collapsed": false
      },
      "outputs": [],
      "source": [
        "# -------------------------------------------------------- #\n#                                                          #\n#     Uncomment below to set up environment on \"colab\"     #\n#                                                          #\n# -------------------------------------------------------- #\n\n# !pip install -U cofi geo-espresso"
      ]
    },
    {
      "cell_type": "code",
      "execution_count": null,
      "metadata": {
        "collapsed": false
      },
      "outputs": [],
      "source": [
        "import numpy as np\nimport matplotlib.pyplot as plt\nimport pprint\n\nimport cofi\nimport espresso"
      ]
    },
    {
      "cell_type": "markdown",
      "metadata": {},
      "source": [
        "# Problem setup\n\nBefore we starting working with `cofi`, let's get familiar with the\nproblem itself.\n\nBelow is a plot of the true model and the paths generated from this\nmodel. As you can see, there are two anomalies, one with lower velocity\n(red, top left) and the other with higher velocity (blue, bottom right).\n"
      ]
    },
    {
      "cell_type": "code",
      "execution_count": null,
      "metadata": {
        "collapsed": false
      },
      "outputs": [],
      "source": [
        "fmm = espresso.FmmTomography()\n\nfmm.plot_model(fmm.good_model, with_paths=True);"
      ]
    },
    {
      "cell_type": "code",
      "execution_count": null,
      "metadata": {
        "collapsed": false
      },
      "outputs": [],
      "source": [
        "pprint.pprint(fmm.metadata)"
      ]
    },
    {
      "cell_type": "markdown",
      "metadata": {},
      "source": [
        "# 1. Define the problem\n"
      ]
    },
    {
      "cell_type": "code",
      "execution_count": null,
      "metadata": {
        "collapsed": false
      },
      "outputs": [],
      "source": [
        "# get problem information from  espresso FmmTomography\nmodel_size = fmm.model_size         # number of model parameters\nmodel_shape = fmm.model_shape       # 2D spatial grids\ndata_size = fmm.data_size           # number of data points\nref_start_slowness = fmm.starting_model"
      ]
    },
    {
      "cell_type": "code",
      "execution_count": null,
      "metadata": {
        "collapsed": false
      },
      "outputs": [],
      "source": [
        "# define CoFI BaseProblem\nfmm_problem = cofi.BaseProblem()\nfmm_problem.set_initial_model(ref_start_slowness)"
      ]
    },
    {
      "cell_type": "code",
      "execution_count": null,
      "metadata": {
        "collapsed": false
      },
      "outputs": [],
      "source": [
        "# add regularization: damping + smoothing\ndamping_factor = 50\nsmoothing_factor = 5e3\nreg_damping = cofi.utils.QuadraticReg(damping_factor, model_size, \"damping\", ref_start_slowness)\nreg_smoothing = cofi.utils.QuadraticReg(smoothing_factor, model_shape, \"smoothing\")\nreg = reg_damping + reg_smoothing"
      ]
    },
    {
      "cell_type": "code",
      "execution_count": null,
      "metadata": {
        "collapsed": false
      },
      "outputs": [],
      "source": [
        "def objective_func(slowness, reg, sigma, reduce_data=None):  # reduce_data=(idx_from, idx_to)\n    if reduce_data is None: idx_from, idx_to = (0, fmm.data_size)\n    else: idx_from, idx_to = reduce_data\n    ttimes = fmm.forward(slowness)\n    residual = fmm.data[idx_from:idx_to] - ttimes[idx_from:idx_to]\n    data_misfit = residual.T @ residual / sigma**2\n    model_reg = reg(slowness)\n    return  data_misfit + model_reg\ndef gradient(slowness, reg, sigma, reduce_data=None):       # reduce_data=(idx_from, idx_to)\n    if reduce_data is None: idx_from, idx_to = (0, fmm.data_size)\n    else: idx_from, idx_to = reduce_data\n    ttimes, A = fmm.forward(slowness, with_jacobian=True)\n    ttimes = ttimes[idx_from:idx_to]\n    A = A[idx_from:idx_to]\n    data_misfit_grad = -2 * A.T @ (fmm.data[idx_from:idx_to] - ttimes) / sigma**2\n    model_reg_grad = reg.gradient(slowness)\n    return  data_misfit_grad + model_reg_grad\ndef hessian(slowness, reg, sigma, reduce_data=None):        # reduce_data=(idx_from, idx_to)\n    if reduce_data is None: idx_from, idx_to = (0, fmm.data_size)\n    else: idx_from, idx_to = reduce_data\n    A = fmm.jacobian(slowness)[idx_from:idx_to]\n    data_misfit_hess = 2 * A.T @ A / sigma**2 \n    model_reg_hess = reg.hessian(slowness)\n    return data_misfit_hess + model_reg_hess"
      ]
    },
    {
      "cell_type": "code",
      "execution_count": null,
      "metadata": {
        "collapsed": false
      },
      "outputs": [],
      "source": [
        "sigma =  0.00001                   # Noise is 1.0E-4 is ~5% of standard deviation of initial travel time residuals\n\nfmm_problem.set_objective(objective_func, args=[reg, sigma, None])\nfmm_problem.set_gradient(gradient, args=[reg, sigma, None])\nfmm_problem.set_hessian(hessian, args=[reg, sigma, None])"
      ]
    },
    {
      "cell_type": "markdown",
      "metadata": {},
      "source": [
        "Review what information is included in the `BaseProblem` object:\n"
      ]
    },
    {
      "cell_type": "code",
      "execution_count": null,
      "metadata": {
        "collapsed": false
      },
      "outputs": [],
      "source": [
        "fmm_problem.summary()"
      ]
    },
    {
      "cell_type": "markdown",
      "metadata": {},
      "source": [
        "# 2. Define the inversion options\n"
      ]
    },
    {
      "cell_type": "code",
      "execution_count": null,
      "metadata": {
        "collapsed": false
      },
      "outputs": [],
      "source": [
        "my_options = cofi.InversionOptions()\n\n# cofi's own simple newton's matrix-based optimization solver\nmy_options.set_tool(\"cofi.simple_newton\")\nmy_options.set_params(num_iterations=6, step_length=1, verbose=True)"
      ]
    },
    {
      "cell_type": "markdown",
      "metadata": {},
      "source": [
        "Review what's been defined for the inversion we are about to run:\n"
      ]
    },
    {
      "cell_type": "code",
      "execution_count": null,
      "metadata": {
        "collapsed": false
      },
      "outputs": [],
      "source": [
        "my_options.summary()"
      ]
    },
    {
      "cell_type": "markdown",
      "metadata": {},
      "source": [
        "# 3. Start an inversion\n"
      ]
    },
    {
      "cell_type": "code",
      "execution_count": null,
      "metadata": {
        "collapsed": false
      },
      "outputs": [],
      "source": [
        "inv = cofi.Inversion(fmm_problem, my_options)\ninv_result = inv.run()\ninv_result.summary()"
      ]
    },
    {
      "cell_type": "markdown",
      "metadata": {},
      "source": [
        "# 4. Plotting\n"
      ]
    },
    {
      "cell_type": "code",
      "execution_count": null,
      "metadata": {
        "collapsed": false
      },
      "outputs": [],
      "source": [
        "fmm.plot_model(inv_result.model);            # inverted model\nfmm.plot_model(fmm.good_model);       # true model"
      ]
    },
    {
      "cell_type": "markdown",
      "metadata": {},
      "source": [
        "------------------------------------------------------------------------\n\n# Watermark\n\n```{=html}\n<!-- Feel free to add more modules in the watermark_list below, if more packages are used -->\n```\n```{=html}\n<!-- Otherwise please leave the below code cell unchanged -->\n```\n"
      ]
    },
    {
      "cell_type": "code",
      "execution_count": null,
      "metadata": {
        "collapsed": false
      },
      "outputs": [],
      "source": [
        "watermark_list = [\"cofi\", \"espresso\", \"numpy\", \"matplotlib\"]\nfor pkg in watermark_list:\n    pkg_var = __import__(pkg)\n    print(pkg, getattr(pkg_var, \"__version__\"))"
      ]
    },
    {
      "cell_type": "markdown",
      "metadata": {},
      "source": [
        "sphinx_gallery_thumbnail_number = -1\n"
      ]
    }
  ],
  "metadata": {
    "kernelspec": {
      "display_name": "Python 3",
      "language": "python",
      "name": "python3"
    },
    "language_info": {
      "codemirror_mode": {
        "name": "ipython",
        "version": 3
      },
      "file_extension": ".py",
      "mimetype": "text/x-python",
      "name": "python",
      "nbconvert_exporter": "python",
      "pygments_lexer": "ipython3",
      "version": "3.10.6"
    }
  },
  "nbformat": 4,
  "nbformat_minor": 0
}