{
  "cells": [
    {
      "cell_type": "markdown",
      "metadata": {},
      "source": [
        "# Modified Himmelblau function\n"
      ]
    },
    {
      "cell_type": "markdown",
      "metadata": {},
      "source": [
        "[![Open In\nColab](https://img.shields.io/badge/open%20in-Colab-b5e2fa?logo=googlecolab&style=flat-square&color=ffd670)](https://colab.research.google.com/github/inlab-geo/cofi-examples/blob/main/examples/test_functions_for_optimization/modified_himmelblau.ipynb)\n"
      ]
    },
    {
      "cell_type": "markdown",
      "metadata": {},
      "source": [
        "If you are running this notebook locally, make sure you've followed\n[steps\nhere](https://github.com/inlab-geo/cofi-examples#run-the-examples-with-cofi-locally)\nto set up the environment. (This\n[environment.yml](https://github.com/inlab-geo/cofi-examples/blob/main/envs/environment.yml)\nfile specifies a list of packages required to run the notebooks)\n"
      ]
    },
    {
      "cell_type": "markdown",
      "metadata": {},
      "source": [
        "The Himmelblau function $(x^{2}+y-11)^{2}+(x+y^{2}-7)^{2}$ is a multi\nmodal objective function with four minima. Here we modify it so that\n$(3,2)$ is the global minimum, while the other three global minima\nbecome local minima. Our modified Himmelblau function is then given as:\n\n$(x^{2}+y-11)^{2}+(x+y^{2}-7)^{2} + (x-3)^2+(y-2)^2$\n\nThus, depending on the starting model an optimiser can get stuck in one\nof the three local minima and not reach the global minimum. In\ncomparison global search methods such as Border Collie Optimisation can\npotentially find the global minimum.\n\n# Further reading\n\n-   T. Dutta, S. Bhattacharyya, S. Dey and J. Platos, \"Border Collie\n    Optimization,\" in IEEE Access, vol.\u00a08, pp.\u00a0109177-109197, 2020, doi:\n    10.1109/ACCESS.2020.2999540\n"
      ]
    },
    {
      "cell_type": "markdown",
      "metadata": {},
      "source": [
        "# Analytical solution\n\nWe first use sympy <https://www.sympy.org/> to find the minimum of our\nmodfified Himmelblau function.\n"
      ]
    },
    {
      "cell_type": "code",
      "execution_count": null,
      "metadata": {
        "collapsed": false
      },
      "outputs": [],
      "source": [
        "import sympy\n\nx,y =sympy.symbols(\"x y\")\nf=(x**2+y-11.0)**2+(x+y**2-7.0)**2+(x-3.0)**2+(y-2.0)**2\ngradient = sympy.derive_by_array(f, (x,y))\nstationary_points = sympy.solve(gradient, (x,y))\nprint(stationary_points)"
      ]
    },
    {
      "cell_type": "markdown",
      "metadata": {},
      "source": [
        "# Objective function\n\nWe begin by loading all the required modules and then plot the obejctive\nfunction\n"
      ]
    },
    {
      "cell_type": "code",
      "execution_count": null,
      "metadata": {
        "collapsed": false
      },
      "outputs": [],
      "source": [
        "import numpy as np\nimport matplotlib.pyplot as plt\nimport matplotlib.colors as colors\nfrom matplotlib.animation import FuncAnimation\n\nimport arviz as az\n\nfrom cofi import BaseProblem, InversionOptions, Inversion\nfrom cofi.utils import QuadraticReg\n\nnp.random.seed(42)"
      ]
    },
    {
      "cell_type": "code",
      "execution_count": null,
      "metadata": {
        "collapsed": false
      },
      "outputs": [],
      "source": [
        "def modified_himmelblau(x): \n    return (x[0]**2+x[1]-11)**2+(x[0]+x[1]**2-7)**2+((x[0]-3)**2+(x[1]-2)**2)"
      ]
    },
    {
      "cell_type": "code",
      "execution_count": null,
      "metadata": {
        "collapsed": false
      },
      "outputs": [],
      "source": [
        "# Initialize figure \nfig = plt.figure(figsize=(6, 5))\nax = fig.gca()\n\n# Evaluate function\nX = np.arange(-6, 6, 0.1)\nY = np.arange(-6, 6, 0.1)\nX, Y = np.meshgrid(X, Y)\nZ = modified_himmelblau([X,Y])\nim = ax.pcolor(X,Y,Z, norm=colors.LogNorm(vmin=10**-2, vmax=Z.max()))\nim = ax.scatter(3,2,color='red',label=\"Global minimum\", marker='.')\nax.legend(loc='upper left')\nfig.colorbar(im)"
      ]
    },
    {
      "cell_type": "markdown",
      "metadata": {},
      "source": [
        "# BFGS\n\nUse BFGS and $(-1,-1)$ as the intial model which will result in a local\nminimum being found.\n"
      ]
    },
    {
      "cell_type": "code",
      "execution_count": null,
      "metadata": {
        "collapsed": false
      },
      "outputs": [],
      "source": [
        "# Define the Base Problem\ninv_problem = BaseProblem()\ninv_problem.name = \"Modfified Himmelblau Function\"\ninv_problem.set_objective(modified_himmelblau)\ninv_problem.set_model_shape((2))\ninv_problem.set_initial_model([-1,-1])"
      ]
    },
    {
      "cell_type": "code",
      "execution_count": null,
      "metadata": {
        "collapsed": false
      },
      "outputs": [],
      "source": [
        "# Define the inverse options\ninv_options = InversionOptions()\ninv_options.set_tool(\"scipy.optimize.minimize\")\n\n# Run the inversion\ninv = Inversion(inv_problem, inv_options)\ninv_result = inv.run()\ninv_result.summary()"
      ]
    },
    {
      "cell_type": "markdown",
      "metadata": {},
      "source": [
        "# Border collie optimisation\n\nUse CofI's implementation of Border Collie optimisation which gets us\ninto the vicinity of the global minimum.\n"
      ]
    },
    {
      "cell_type": "code",
      "execution_count": null,
      "metadata": {
        "collapsed": false
      },
      "outputs": [],
      "source": [
        "inv_problem = BaseProblem()\ninv_problem.name = \"Modified Himmelblau Function\"\ninv_problem.set_objective(modified_himmelblau)\ninv_problem.set_model_shape((2))"
      ]
    },
    {
      "cell_type": "code",
      "execution_count": null,
      "metadata": {
        "collapsed": false
      },
      "outputs": [],
      "source": [
        "# Define the inverse options\nbounds= ((-6.0,6.0),(-6.0,6.0))\n\ninv_problem.set_bounds(bounds)\n\ninv_options = InversionOptions()\ninv_options.set_params(number_of_iterations=100)\ninv_options.set_tool(\"cofi.border_collie_optimization\")\n\n# Run the inversion\ninv = Inversion(inv_problem, inv_options)\ninv_result = inv.run()"
      ]
    },
    {
      "cell_type": "code",
      "execution_count": null,
      "metadata": {
        "collapsed": false
      },
      "outputs": [],
      "source": [
        "inv_result.model"
      ]
    },
    {
      "cell_type": "markdown",
      "metadata": {},
      "source": [
        "Next we plot the states of the flock of sheep and the pack of dogs. We\ncan observe how the lead dog goes to a minimum (i.e.\u00a0the farm) and once\nit has arrived there it runs away to gather more sheep. Similarly the\nsheep get herded towards the global minimum.\n"
      ]
    },
    {
      "cell_type": "code",
      "execution_count": null,
      "metadata": {
        "collapsed": false
      },
      "outputs": [],
      "source": [
        "n=len(inv_result.pack_position_history)\nfig, ax = plt.subplots(n//2, 2)\nfig.set_size_inches(10,5*n//2)\ndmarkers=[\"v\",\"o\",\"s\"]\ndlabels=[\"lead dog\",\"left dog\",\"right dog\"]\nfor i in range(n):\n    ax[i//2,i%2].pcolor(X,Y,Z,norm=colors.LogNorm(vmin=10**-2, vmax=Z.max()))\n    # Plot that point using the x and y coordinates\n    pack=inv_result.pack_position_history[i]\n    flock=inv_result.flock_position_history[i]\n    dmarkers\n    for j,dog in enumerate(pack):\n        ax[i//2,i%2].scatter(dog[0],dog[1], color='red', label=dlabels[j], marker=dmarkers[j])\n    for j,sheep in enumerate(flock):\n        if j==0:\n            ax[i//2,i%2].scatter(sheep[0],sheep[1], label=\"sheep\",color='black', marker='.')\n        else:\n            ax[i//2,i%2].scatter(sheep[0],sheep[1], color='black', marker='.')\n\n    # Set the x and y axis to display a fixed range.\n    ax[i//2,i%2].set_xlim([-6, 6])\n    ax[i//2,i%2].set_ylim([-6, 6])\n    ax[i//2,i%2].legend(loc='upper left')"
      ]
    },
    {
      "cell_type": "markdown",
      "metadata": {},
      "source": [
        "------------------------------------------------------------------------\n\n# Watermark\n"
      ]
    },
    {
      "cell_type": "code",
      "execution_count": null,
      "metadata": {
        "collapsed": false
      },
      "outputs": [],
      "source": [
        "watermark_list = [\"cofi\", \"numpy\", \"scipy\", \"matplotlib\"]\nfor pkg in watermark_list:\n    pkg_var = __import__(pkg)\n    print(pkg, getattr(pkg_var, \"__version__\"))"
      ]
    },
    {
      "cell_type": "markdown",
      "metadata": {},
      "source": [
        "sphinx_gallery_thumbnail_number = -1\n"
      ]
    }
  ],
  "metadata": {
    "kernelspec": {
      "display_name": "Python 3",
      "language": "python",
      "name": "python3"
    },
    "language_info": {
      "codemirror_mode": {
        "name": "ipython",
        "version": 3
      },
      "file_extension": ".py",
      "mimetype": "text/x-python",
      "name": "python",
      "nbconvert_exporter": "python",
      "pygments_lexer": "ipython3",
      "version": "3.9.16"
    }
  },
  "nbformat": 4,
  "nbformat_minor": 0
}