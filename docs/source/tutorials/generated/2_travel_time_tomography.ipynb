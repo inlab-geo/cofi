{
  "cells": [
    {
      "cell_type": "code",
      "execution_count": null,
      "metadata": {
        "collapsed": false
      },
      "outputs": [],
      "source": [
        "%matplotlib inline"
      ]
    },
    {
      "cell_type": "markdown",
      "metadata": {},
      "source": [
        "# 2 - linear & non-linear travel time tomography\n"
      ]
    },
    {
      "cell_type": "markdown",
      "metadata": {},
      "source": [
        "[![Open In\nColab](https://img.shields.io/badge/open%20in-Colab-b5e2fa?logo=googlecolab&style=flat-square&color=ffd670)](https://colab.research.google.com/github/inlab-geo/cofi-examples/blob/main/tutorials/2_travel_time_tomography.ipynb)\n"
      ]
    },
    {
      "cell_type": "markdown",
      "metadata": {},
      "source": [
        "------------------------------------------------------------------------\n\n# What we do in this notebook\n\nHere we apply CoFI to two geophysical examples:\n\n-   a **linear seismic travel time tomography** problem\n-   a **nonlinear travel time tomography** cross borehole problem\n\n------------------------------------------------------------------------\n"
      ]
    },
    {
      "cell_type": "markdown",
      "metadata": {},
      "source": [
        "# Learning outcomes\n\n-   A demonstration of running CoFI for a regularized linear parameter\n    estimation problem. Can be used as an example of a CoFI\n    **template**.\n-   A demonstration of how a (3rd party) nonlinear forward model can be\n    imported from geo-espresso and used. Fast Marching algorithm for\n    first arriving raypaths.\n-   See how nonlinear iterative matrix solvers can be accessed in CoFI.\n"
      ]
    },
    {
      "cell_type": "code",
      "execution_count": null,
      "metadata": {
        "collapsed": false
      },
      "outputs": [],
      "source": [
        "# Environment setup (uncomment code below)\n\n# !pip install -U cofi geo-espresso"
      ]
    },
    {
      "cell_type": "markdown",
      "metadata": {},
      "source": [
        "# Problem description\n\nThe goal in **travel-time tomography** is to infer details about the\nvelocity structure of a medium, given measurements of the minimum time\ntaken for a wave to propagate from source to receiver.\n\nAt first glance, this may seem rather similar to the X-ray tomography\nproblem. However, there is an added complication: as we change our\nmodel, the route of the fastest path from source to receiver also\nchanges. Thus, every update we apply to the model will inevitably be (in\nsome sense) based on incorrect assumptions.\n\nProvided the 'true' velocity structure is not *too* dissimilar from our\ninitial guess, travel-time tomography can be treated as a weakly\nnon-linear problem.\n\nIn this notebook, we illustrate both linear and one non-linear\ntomography.\n\nIn the first example the straight ray paths are fixed and independent of\nthe medium through which they pass. This would be the case for X-ray\ntomography, where the data represent amplitude changes across the\nmedium, or seismic tomography under the fixed ray assumption, where the\ndata represent travel times across the medium.\n\nIn the second example we iteratively update seismic travel times and ray\npaths as the seismic velocity model changes, which creates a nonlinear\ntomographic problem.\n\nIn the seismic case, the travel-time of an individual ray can be\ncomputed as\n\n$$t = \\int_\\mathrm{path} \\frac{1}{v(\\mathbf{x})}\\,\\mathrm{d}\\mathbf{x}$$\n\nThis points to an additional complication: even for a fixed path, the\nrelationship between velocities and observations is not linear. However,\nif we define the 'slowness' to be the inverse of velocity,\n$s(\\mathbf{x}) = v^{-1}(\\mathbf{x})$, we can write\n\n$$t = \\int_\\mathrm{path} {s(\\mathbf{x})}\\,\\mathrm{d}\\mathbf{x}$$\n\nwhich *is* linear.\n\nWe will assume that the object we are interested in is 2-dimensional\nslowness field. If we discretize this model, with $N_x$ cells in the\n$x$-direction and $N_y$ cells in the $y$-direction, we can express\n$s(\\mathbf{x})$ as an $N_x \\times N_y$ vector $\\boldsymbol{s}$.\n\n**For the linear case**, this is related to the data by\n\n$$d_i = A_{ij}s_j$$\n\nwhere $d_i$ is the travel time of the $i$ th path, and where $A_{ij}$\nrepresents the path length of raypath $i$ in cell $j$ of the discretized\nmodel.\n\n**For the nonlinear case**, this is related to the data by\n\n$$\\delta d_i = A_{ij}\\delta s_j$$\n\nwhere $\\delta d_i$ is the difference in travel time, of the $i$ th path,\nbetween the observed time and the travel time in the reference model,\nand the parameters $\\delta s_j$ are slowness perturbations to the\nreference model.\n"
      ]
    },
    {
      "cell_type": "code",
      "execution_count": null,
      "metadata": {
        "collapsed": false
      },
      "outputs": [],
      "source": [
        "import numpy as np\nimport matplotlib.pyplot as plt\n\nimport cofi\nimport espresso"
      ]
    },
    {
      "cell_type": "markdown",
      "metadata": {},
      "source": [
        "# 1. Linear Travel Time Tomography\n"
      ]
    },
    {
      "cell_type": "markdown",
      "metadata": {},
      "source": [
        "To illustrate the setting we plot a reference model supplied through the\n*espresso* Xray example, together with 100 raypaths in the dataset.\n"
      ]
    },
    {
      "cell_type": "code",
      "execution_count": null,
      "metadata": {
        "collapsed": false
      },
      "outputs": [],
      "source": [
        "linear_tomo_example = espresso.XrayTomography()"
      ]
    },
    {
      "cell_type": "code",
      "execution_count": null,
      "metadata": {
        "collapsed": false
      },
      "outputs": [],
      "source": [
        "# linear_tomo_example.plot_model(linear_tomo_example.good_model, paths=True);\n# linear_tomo_example.plot_model(linear_tomo_example.good_model);\nplt.plot(0.5, 0.5, marker=\"$?$\", markersize=130)\nfor p in linear_tomo_example._paths[:100]:\n     plt.plot([p[0],p[2]],[p[1],p[3]],'y',linewidth=0.5)\nprint(' Data set contains ',len(linear_tomo_example._paths),' ray paths')"
      ]
    },
    {
      "cell_type": "markdown",
      "metadata": {},
      "source": [
        "# Step 1. Define CoFI `BaseProblem`\n"
      ]
    },
    {
      "cell_type": "markdown",
      "metadata": {},
      "source": [
        "Now we: - set up the BaseProblem in CoFI, - supply it the data vector\nfrom espresso example, (i.e.\u00a0the $\\mathbf{d}$ vector) - supply it the\nJacobian of the linear system (i.e.\u00a0the $A$ matrix)\n"
      ]
    },
    {
      "cell_type": "code",
      "execution_count": null,
      "metadata": {
        "collapsed": false
      },
      "outputs": [],
      "source": [
        "linear_tomo_problem = cofi.BaseProblem()\nlinear_tomo_problem.set_data(linear_tomo_example.data)\nlinear_tomo_problem.set_jacobian(linear_tomo_example.jacobian(linear_tomo_example.starting_model)) # supply matrix A\nsigma = 0.1 # set noise level of data\ndata_cov_inv = np.identity(linear_tomo_example.data_size) * (1/sigma**2)\nlinear_tomo_problem.set_data_covariance_inv(data_cov_inv)"
      ]
    },
    {
      "cell_type": "markdown",
      "metadata": {},
      "source": [
        "Since $\\mathbf{d}$ and $G$ have been defined then this implies a linear\nsystem. Now we choose to regularize the linear system and solve the\nproblem\n\n$$\\min_{\\mathbf s} \\phi({\\mathbf d},{\\mathbf s}) = ({\\mathbf d} - A {\\mathbf s})^T C_d^{-1} ({\\mathbf d} - A {\\mathbf s})~ + ~ \\lambda ~{\\mathbf s}D^TD{\\mathbf s}$$\n\nThe matrix system we are solving is\n\n$$(\\mathbf{A}^T \\textbf{C}_d^{-1} \\textbf{A} + \\lambda \\mathbf D^T\\mathbf D) \\textbf{s} = \\textbf{A}^T \\mathbf C_d^{-1} \\textbf{d}$$\n"
      ]
    },
    {
      "cell_type": "code",
      "execution_count": null,
      "metadata": {
        "collapsed": false
      },
      "outputs": [],
      "source": [
        "# set up regularization\nlamda = 0.5 # choose regularization constant\ndata_cov_inv = np.identity(linear_tomo_example.data_size) * (1/sigma**2)\nreg_matrix = np.identity(linear_tomo_example.model_size)\nlinear_tomo_problem.set_regularization(2, lamda, reg_matrix) # choose a regularization (see help(linear_problem.set_regularization) for more details)\nprint('Number of slowness parameters to be solved for = ',linear_tomo_example.model_size)"
      ]
    },
    {
      "cell_type": "markdown",
      "metadata": {},
      "source": [
        "and lets print a summary of the set up.\n"
      ]
    },
    {
      "cell_type": "code",
      "execution_count": null,
      "metadata": {
        "collapsed": false
      },
      "outputs": [],
      "source": [
        "linear_tomo_problem.summary()"
      ]
    },
    {
      "cell_type": "markdown",
      "metadata": {},
      "source": [
        "# Step 2. Define CoFI `InversionOptions`\n"
      ]
    },
    {
      "cell_type": "markdown",
      "metadata": {},
      "source": [
        "Here we choose the backend tool for solving the tomographic system,\nwhich is scipy's least squares solver.\n"
      ]
    },
    {
      "cell_type": "code",
      "execution_count": null,
      "metadata": {
        "collapsed": false
      },
      "outputs": [],
      "source": [
        "tomo_options = cofi.InversionOptions()\ntomo_options.set_tool(\"scipy.linalg.lstsq\")"
      ]
    },
    {
      "cell_type": "markdown",
      "metadata": {},
      "source": [
        "# Step 3. Define CoFI `Inversion` and run\n"
      ]
    },
    {
      "cell_type": "code",
      "execution_count": null,
      "metadata": {
        "collapsed": false
      },
      "outputs": [],
      "source": [
        "tomo_inv = cofi.Inversion(linear_tomo_problem, tomo_options)\ntomo_inv_result = tomo_inv.run()\ntomo_inv_result.summary()"
      ]
    },
    {
      "cell_type": "markdown",
      "metadata": {},
      "source": [
        "Lets plot the image to see what we got.\n"
      ]
    },
    {
      "cell_type": "code",
      "execution_count": null,
      "metadata": {
        "collapsed": false
      },
      "outputs": [],
      "source": [
        "ax = linear_tomo_example.plot_model(tomo_inv_result.model);"
      ]
    },
    {
      "cell_type": "markdown",
      "metadata": {},
      "source": [
        "# Challenge: Fewer ray paths for linear travel time\n\nTry and construct a tomographic solution with **fewer ray paths**.\n\nHere we use 10416 ray paths with indices 0,10415. Try a different range\nand see what you get.\n\nHow many ray paths do you need before the image becomes recognizable?\n\n[![Upload to Jamboard\n1](https://img.shields.io/badge/Click%20&%20upload%20your%20results%20to-Jamboard-lightgrey?logo=jamboard&style=for-the-badge&color=fcbf49&labelColor=edede9)](https://jamboard.google.com/d/15UiYLe84zlkgLmi_ssbGuxRKyU-s4XuHSHsL8VppKJs/edit?usp=sharing)\n\nStart from the code template below:\n\n    # data range\n    idx_from, idx_to = (<CHANGE ME>, <CHANGE ME>)\n\n    # basic settings\n    d = linear_tomo_example.data\n    G = linear_tomo_example.jacobian(linear_tomo_example.starting_model)\n\n    # now attach all the info to a BaseProblem object\n    mytomo = cofi.BaseProblem()\n    mytomo.set_data(d[idx_from:idx_to])\n    mytomo.set_jacobian(G[idx_from:idx_to,:])\n\n    # run your problem (with the same InversionOptions) again\n    mytomo_inv = cofi.Inversion(mytomo, tomo_options)\n    mytomo_result = mytomo_inv.run()\n\n    # check result\n    fig = linear_tomo_example.plot_model(mytomo_result.model)\n    plt.title(f'Recovered model from range ({idx_from}, {idx_to})')\n    plt.figure()\n    plt.title(' Raypaths')\n    for p in linear_tomo_example._paths[idx_from:idx_to]:\n        plt.plot([p[0],p[2]],[p[1],p[3]],'y',linewidth=0.05)\n"
      ]
    },
    {
      "cell_type": "code",
      "execution_count": null,
      "metadata": {
        "collapsed": false
      },
      "outputs": [],
      "source": [
        "# Copy the template above, Replace <CHANGE ME> with your answer"
      ]
    },
    {
      "cell_type": "code",
      "execution_count": null,
      "metadata": {
        "collapsed": false
      },
      "outputs": [],
      "source": [
        "#@title Solution\n\n# data range\nidx_from, idx_to = (0, 3000)                    # TODO try a different range\n\n# basic settings\nd = linear_tomo_example.data\nG = linear_tomo_example.jacobian(linear_tomo_example.starting_model)\n\n# now attach all the info to a BaseProblem object\nmytomo = cofi.BaseProblem()\nmytomo.set_data(d[idx_from:idx_to])\nmytomo.set_jacobian(G[idx_from:idx_to,:])\n\n# run your problem (with the same InversionOptions) again\nmytomo_inv = cofi.Inversion(mytomo, tomo_options)\nmytomo_result = mytomo_inv.run()\n\n# check result\nfig = linear_tomo_example.plot_model(mytomo_result.model)\nplt.title(f'Recovered model from range ({idx_from}, {idx_to})')\nplt.figure()\nplt.title(' Raypaths')\nfor p in linear_tomo_example._paths[idx_from:idx_to]:\n    plt.plot([p[0],p[2]],[p[1],p[3]],'y',linewidth=0.05)"
      ]
    },
    {
      "cell_type": "markdown",
      "metadata": {},
      "source": [
        "------------------------------------------------------------------------\n"
      ]
    },
    {
      "cell_type": "markdown",
      "metadata": {},
      "source": [
        "# 2. Non-linear Travel Time Tomography\n"
      ]
    },
    {
      "cell_type": "markdown",
      "metadata": {},
      "source": [
        "Now we demonstrate CoFI on a nonlinear iterative tomographic problem in\na cross borehole setting.\n\nWe use a different tomographic example from espresso. Here we import the\nexample module and plot the reference seismic model.\n"
      ]
    },
    {
      "cell_type": "code",
      "execution_count": null,
      "metadata": {
        "collapsed": false
      },
      "outputs": [],
      "source": [
        "nonlinear_tomo_example = espresso.FmmTomography()\n\nnonlinear_tomo_example.plot_model(nonlinear_tomo_example.good_model, with_paths=True,lw=0.5);"
      ]
    },
    {
      "cell_type": "markdown",
      "metadata": {},
      "source": [
        "# Solving the tomographic system with optimization\n"
      ]
    },
    {
      "cell_type": "markdown",
      "metadata": {},
      "source": [
        "Now we solve the tomographic system of equations using either CoFI's\noptimization method interface, or its iterative matrix-solver interface.\n\n**For the optimization interface:**\n\nWe choose an objective function of the form.\n\n$$\\phi(\\mathbf{d},\\mathbf{s}) = \\frac{1}{\\sigma^2}|| \\mathbf{d} - \\mathbf{g}(\\mathbf{s})||_2^2 + \\lambda_1 ||\\mathbf{s}- \\mathbf{s}_{0}||_2^2  + \\lambda_2 ||D~\\mathbf{s}||_2^2$$\n\nwhere $\\mathbf{g}(\\mathbf{s})$ represents the predicted travel times in\nthe slowness model $\\mathbf{s}$, $\\sigma^2$ is the noise variance on the\ntravel times, $(\\lambda_1,\\lambda_2)$ are weights of damping and\nsmoothing regularization terms respectively, $\\mathbf{s}_{0}$ is the\nreference slowness model provided by the espresso example, and $D$ is a\nsecond derivative finite difference stencil for the slowness model with\nshape `model_shape`.\n\nIn the set up below this objective function is defined outside of CoFI\nin the function `objective_func` together with its gradient and Hessian,\n`gradient` and `hessian` with respect to slowness parameters. For\nconvenience the regularization terms are constructed with CoFI utility\nroutine `QuadraticReg`.\n\nFor the optimization case CoFI passes `objective_func` and optionally\nthe `gradient` and `Hessian` functions to a thrid party optimization\nbackend tool such as `scipy.minimize` to produce a solution.\n\n**For the iterative matrix solver interface:**\n\nFor convenience, CoFI also has its own Gauss-Newton Solver for\noptimization of a general objective function of the form.\n\n$$\\phi(\\mathbf{d},\\mathbf{s}) = \\psi((\\mathbf{d},\\mathbf{s}) + \\sum_{r=1}^R \\lambda_r \\chi_r(\\mathbf{s}),$$\n\nwhere $\\psi$ represents a data misfit term, and $\\chi_r$ one or more\nregularization terms, with weights $\\lambda_r$. The objective function\nabove is a special case of this. In general an iterative Gauss-Newton\nsolver takes the form\n\n$$\\mathbf{s}_{k+1} = \\mathbf{s}_{k} - \\cal{H}^{-1}(\\mathbf{s}_k) \\nabla \\phi(\\mathbf{s}_k), \\quad {(k=0,1,\\dots)},$$\n\nwhere $\\cal{H}(\\mathbf{s}_k)$ is the Hessian of the objective function,\nand $\\nabla \\phi(\\mathbf{s}_k)$ its gradient evaluated at the model\n$\\mathbf{s}_k$.\n\nFor the objective function above this becomes the simple iterative\nmatrix solver\n\n$$\\mathbf{s}_{k+1} = \\mathbf{s}_k + (A^T C_d^{-1}A + \\lambda_2\\mathbf{I} +\\lambda_2D^TD )^{-1} [A^T C_d^{-1} (\\mathbf{d} - g(\\mathbf{s}_k)) -  \\lambda_2 (\\mathbf{s - s}_{0}) - \\lambda_2 D^TD \\mathbf{s}], \\quad (k=0,1,\\dots)$$\n\nwith $C_d^{-1} = \\sigma^{-2} I$.\n"
      ]
    },
    {
      "cell_type": "markdown",
      "metadata": {},
      "source": [
        "# Step 1. Define CoFI `BaseProblem`\n"
      ]
    },
    {
      "cell_type": "code",
      "execution_count": null,
      "metadata": {
        "collapsed": false
      },
      "outputs": [],
      "source": [
        "# get problem information from  espresso FmmTomography\nmodel_size = nonlinear_tomo_example.model_size               # number of model parameters\nmodel_shape = nonlinear_tomo_example.model_shape             # 2D spatial grid shape\ndata_size = nonlinear_tomo_example.data_size                 # number of data points\nref_start_slowness = nonlinear_tomo_example.starting_model   # use the starting guess supplied by the espresso example"
      ]
    },
    {
      "cell_type": "markdown",
      "metadata": {},
      "source": [
        "Here we define the baseproblem object and a starting velocity model\nguess.\n"
      ]
    },
    {
      "cell_type": "code",
      "execution_count": null,
      "metadata": {
        "collapsed": false
      },
      "outputs": [],
      "source": [
        "# define CoFI BaseProblem\nnonlinear_problem = cofi.BaseProblem()\nnonlinear_problem.set_initial_model(ref_start_slowness)"
      ]
    },
    {
      "cell_type": "markdown",
      "metadata": {},
      "source": [
        "Here we define regularization of the tomographic system.\n"
      ]
    },
    {
      "cell_type": "code",
      "execution_count": null,
      "metadata": {
        "collapsed": false
      },
      "outputs": [],
      "source": [
        "# add regularization: damping / flattening / smoothing\ndamping_factor = 50\nsmoothing_factor = 5e3\nreg_damping = cofi.utils.QuadraticReg(damping_factor, model_size, \"damping\", ref_start_slowness)\nreg_smoothing = cofi.utils.QuadraticReg(smoothing_factor, model_shape, \"smoothing\")\nreg = reg_damping + reg_smoothing"
      ]
    },
    {
      "cell_type": "code",
      "execution_count": null,
      "metadata": {
        "collapsed": false
      },
      "outputs": [],
      "source": [
        "def objective_func(slowness, reg, sigma, data_subset=None):\n    if data_subset is None: \n        data_subset = np.arange(0, nonlinear_tomo_example.data_size)\n    ttimes = nonlinear_tomo_example.forward(slowness)\n    residual = nonlinear_tomo_example.data[data_subset] - ttimes[data_subset]\n    data_misfit = residual.T @ residual / sigma**2\n    model_reg = reg(slowness)\n    return  data_misfit + model_reg\n\ndef gradient(slowness, reg, sigma, data_subset=None):\n    if data_subset is None: \n        data_subset = np.arange(0, nonlinear_tomo_example.data_size)\n    ttimes, A = nonlinear_tomo_example.forward(slowness, with_jacobian=True)\n    ttimes = ttimes[data_subset]\n    A = A[data_subset]\n    data_misfit_grad = -2 * A.T @ (nonlinear_tomo_example.data[data_subset] - ttimes) / sigma**2\n    model_reg_grad = reg.gradient(slowness)\n    return  data_misfit_grad + model_reg_grad\n\ndef hessian(slowness, reg, sigma, data_subset=None):\n    if data_subset is None: \n        data_subset = np.arange(0, nonlinear_tomo_example.data_size)\n    A = nonlinear_tomo_example.jacobian(slowness)[data_subset]\n    data_misfit_hess = 2 * A.T @ A / sigma**2 \n    model_reg_hess = reg.hessian(slowness)\n    return data_misfit_hess + model_reg_hess"
      ]
    },
    {
      "cell_type": "code",
      "execution_count": null,
      "metadata": {
        "collapsed": false
      },
      "outputs": [],
      "source": [
        "sigma = 0.00001                   # Noise is 1.0E-4 is ~5% of standard deviation of initial travel time residuals\n\nnonlinear_problem.set_objective(objective_func, args=[reg, sigma, None])\nnonlinear_problem.set_gradient(gradient, args=[reg, sigma, None])\nnonlinear_problem.set_hessian(hessian, args=[reg, sigma, None])"
      ]
    },
    {
      "cell_type": "markdown",
      "metadata": {},
      "source": [
        "# Step 2. Define CoFI `InversionOptions`\n"
      ]
    },
    {
      "cell_type": "code",
      "execution_count": null,
      "metadata": {
        "collapsed": false
      },
      "outputs": [],
      "source": [
        "nonlinear_options = cofi.InversionOptions()\n\n# cofi's own simple newton's matrix-based optimization solver\nnonlinear_options.set_tool(\"cofi.simple_newton\")\nnonlinear_options.set_params(num_iterations=5, step_length=1, verbose=True)\n\n# scipy's Newton-CG solver (alternative approach with similar results)\n# nonlinear_options.set_tool(\"scipy.optimize.minimize\")\n# nonlinear_options.set_params(method=\"Newton-CG\", options={\"xtol\":1e-16})"
      ]
    },
    {
      "cell_type": "code",
      "execution_count": null,
      "metadata": {
        "collapsed": false
      },
      "outputs": [],
      "source": [
        "nonlinear_options.summary()"
      ]
    },
    {
      "cell_type": "markdown",
      "metadata": {},
      "source": [
        "# Step 3. Define CoFI `Inversion` and run\n"
      ]
    },
    {
      "cell_type": "code",
      "execution_count": null,
      "metadata": {
        "collapsed": false
      },
      "outputs": [],
      "source": [
        "nonlinear_inv = cofi.Inversion(nonlinear_problem, nonlinear_options)\nnonlinear_inv_result = nonlinear_inv.run()\nnonlinear_tomo_example.plot_model(nonlinear_inv_result.model);"
      ]
    },
    {
      "cell_type": "markdown",
      "metadata": {},
      "source": [
        "Now lets plot the true model for comparison.\n"
      ]
    },
    {
      "cell_type": "code",
      "execution_count": null,
      "metadata": {
        "collapsed": false
      },
      "outputs": [],
      "source": [
        "nonlinear_tomo_example.plot_model(nonlinear_tomo_example.good_model);"
      ]
    },
    {
      "cell_type": "markdown",
      "metadata": {},
      "source": [
        "# Challenge: Change the number of tomographic data\n\nFirst try and repeat this tomographic reconstruction with fewer data and\nsee what the model looks like.\n\nThere are 100 raypaths in the full dataset and you can tell CoFI to\nselect a subset by passing an additional array of indices to the\nfunctions that calculate objective, gradient and hessian.\n\n[![Upload to Jamboard\n2](https://img.shields.io/badge/Click%20&%20upload%20your%20results%20to-Jamboard-lightgrey?logo=jamboard&style=for-the-badge&color=fcbf49&labelColor=edede9)](https://jamboard.google.com/d/1TlHvC6_vHLDaZzWT3cG2hV3KCrh3M6aoxDVAJ2RGJBw/edit?usp=sharing)\n\nStart from the code template below:\n\n    # Set a subset of raypaths here\n    data_subset = np.arange(<CHANGE ME>)\n\n    # select BaseProblem\n    my_own_nonlinear_problem = cofi.BaseProblem()\n    my_own_nonlinear_problem.set_objective(objective_func, args=[reg, sigma, data_subset])\n    my_own_nonlinear_problem.set_gradient(gradient, args=[reg, sigma, data_subset])\n    my_own_nonlinear_problem.set_hessian(hessian, args=[reg, sigma, data_subset])\n    my_own_nonlinear_problem.set_initial_model(ref_start_slowness)\n\n    # run inversion with same options as previously\n    my_own_inversion = cofi.Inversion(my_own_nonlinear_problem, nonlinear_options)\n    my_own_result = my_own_inversion.run()\n\n    # check results\n    my_own_result.summary()\n\n    # plot inverted model\n    fig, paths = nonlinear_tomo_example.plot_model(my_own_result.model, return_paths=True)\n    print(f\"Number of paths used: {len(data_subset)}\")\n\n    # plot paths used\n    for p in np.array(paths, dtype=object)[data_subset]:\n        fig.axes[0].plot(p[:,0], p[:,1], \"g\", alpha=0.5,lw=0.5)\n"
      ]
    },
    {
      "cell_type": "code",
      "execution_count": null,
      "metadata": {
        "collapsed": false
      },
      "outputs": [],
      "source": [
        "# Copy the template above, Replace <CHANGE ME> with your answer"
      ]
    },
    {
      "cell_type": "code",
      "execution_count": null,
      "metadata": {
        "collapsed": false
      },
      "outputs": [],
      "source": [
        "#@title Solution\n\n# Set a subset of raypaths here\ndata_subset = np.arange(30, 60)\n\n# select BaseProblem\nmy_own_nonlinear_problem = cofi.BaseProblem()\nmy_own_nonlinear_problem.set_objective(objective_func, args=[reg, sigma, data_subset])\nmy_own_nonlinear_problem.set_gradient(gradient, args=[reg, sigma, data_subset])\nmy_own_nonlinear_problem.set_hessian(hessian, args=[reg, sigma, data_subset])\nmy_own_nonlinear_problem.set_initial_model(ref_start_slowness)\n\n# run inversion with same options as previously\nmy_own_inversion = cofi.Inversion(my_own_nonlinear_problem, nonlinear_options)\nmy_own_result = my_own_inversion.run()\n\n# check results\nmy_own_result.summary()\n\n# plot inverted model\nfig, paths = nonlinear_tomo_example.plot_model(my_own_result.model, return_paths=True)\nprint(f\"Number of paths used: {len(data_subset)}\")\n\n# plot paths used\nfor p in np.array(paths, dtype=object)[data_subset]:\n    fig.axes[0].plot(p[:,0], p[:,1], \"g\", alpha=0.5,lw=0.5)"
      ]
    },
    {
      "cell_type": "markdown",
      "metadata": {},
      "source": [
        "# Challenge: Change regularization settings\n\nIn the solution above we used `damping_factor = 50`, and\n`smoothing_factor = 5.0E-3` and `flattening_factor = 0`.\n\nExperiment with these choices, e.g increasing all of them to say 100 and\nrepeat the tomographic solution to see how the model changes.\n\nTry to turn off smoothing all together but retain damping and flattening\nand see what happens.\n\nWith some choices you can force an under-determined problem which is not\nsolvable.\n\n(Note that here we revert back to using all of the data by removing the\n`data_subset` argument to the objective function.)\n\nTo repeat this solver with other settings for smoothing and damping\nstrength. See the documentation for\n[cofi.utils.QuadraticReg](https://cofi.readthedocs.io/en/latest/api/generated/cofi.utils.QuadraticReg.html).\n\n[![Upload to Jamboard\n3](https://img.shields.io/badge/Click%20&%20upload%20your%20results%20to-Jamboard-lightgrey?logo=jamboard&style=for-the-badge&color=fcbf49&labelColor=edede9)](https://jamboard.google.com/d/15FrdSczK_TK_COOLxfSJZ5CWMzH3qMoQKySJTAp5n-4/edit?usp=sharing)\n\nYou can start from the template below:\n\n    # change the combination of damping, flattening and smoothing regularizations\n    damping_factor = <CHANGE ME>                # select damping factor here to force solution toward reference slowness model \n    flattening_factor = <CHANGE ME>             # increase flattening factor here to force small first derivatives in slowness solution\n    smoothing_factor = <CHANGE ME>              # increase smoothing factor here to force small second derivatives in slowness solution\n\n    reg_damping = cofi.utils.QuadraticReg(damping_factor, model_size, \"damping\", ref_start_slowness)\n    reg_flattening = cofi.utils.QuadraticReg(flattening_factor, model_shape, \"flattening\")\n    reg_smoothing = cofi.utils.QuadraticReg(smoothing_factor, model_shape, \"smoothing\")\n    my_own_reg = reg_damping + reg_flattening + reg_smoothing\n\n    # set Baseproblem\n    my_own_nonlinear_problem = cofi.BaseProblem()\n    my_own_nonlinear_problem.set_objective(objective_func, args=[my_own_reg, sigma, None])\n    my_own_nonlinear_problem.set_gradient(gradient, args=[my_own_reg, sigma, None])\n    my_own_nonlinear_problem.set_hessian(hessian, args=[my_own_reg, sigma, None])\n    my_own_nonlinear_problem.set_initial_model(ref_start_slowness.copy())\n\n    # run inversion with same options as previously\n    my_own_inversion = cofi.Inversion(my_own_nonlinear_problem, nonlinear_options)\n    my_own_result = my_own_inversion.run()\n\n    # check results\n    fig = nonlinear_tomo_example.plot_model(my_own_result.model)\n    fig.suptitle(f\"Damping {damping_factor}, Flattening {flattening_factor}, Smoothing {smoothing_factor}\");\n"
      ]
    },
    {
      "cell_type": "code",
      "execution_count": null,
      "metadata": {
        "collapsed": false
      },
      "outputs": [],
      "source": [
        "# Copy the template above, Replace <CHANGE ME> with your answer"
      ]
    },
    {
      "cell_type": "code",
      "execution_count": null,
      "metadata": {
        "collapsed": false
      },
      "outputs": [],
      "source": [
        "#@title Reference Solution\n\n# change the combination of damping, flattening and smoothing regularizations\ndamping_factor = 100                # select damping factor here to force solution toward reference slowness model \nflattening_factor = 100             # increase flattening factor here to force small first derivatives in slowness solution\nsmoothing_factor = 0                # increase smoothing factor here to force small second derivatives in slowness solution\n\nreg_damping = cofi.utils.QuadraticReg(damping_factor, model_size, \"damping\", ref_start_slowness)\nreg_flattening = cofi.utils.QuadraticReg(flattening_factor, model_shape, \"flattening\")\nreg_smoothing = cofi.utils.QuadraticReg(smoothing_factor, model_shape, \"smoothing\")\nmy_own_reg = reg_damping + reg_flattening + reg_smoothing\n\n# set Baseproblem\nmy_own_nonlinear_problem = cofi.BaseProblem()\nmy_own_nonlinear_problem.set_objective(objective_func, args=[my_own_reg, sigma, None])\nmy_own_nonlinear_problem.set_gradient(gradient, args=[my_own_reg, sigma, None])\nmy_own_nonlinear_problem.set_hessian(hessian, args=[my_own_reg, sigma, None])\nmy_own_nonlinear_problem.set_initial_model(ref_start_slowness.copy())\n\n# run inversion with same options as previously\nmy_own_inversion = cofi.Inversion(my_own_nonlinear_problem, nonlinear_options)\nmy_own_result = my_own_inversion.run()\n\n# check results\nfig = nonlinear_tomo_example.plot_model(my_own_result.model)\nfig.suptitle(f\"Damping {damping_factor}, Flattening {flattening_factor}, Smoothing {smoothing_factor}\");"
      ]
    },
    {
      "cell_type": "markdown",
      "metadata": {},
      "source": [
        "------------------------------------------------------------------------\n\n# Watermark\n"
      ]
    },
    {
      "cell_type": "code",
      "execution_count": null,
      "metadata": {
        "collapsed": false
      },
      "outputs": [],
      "source": [
        "watermark_list = [\"cofi\", \"espresso\", \"numpy\", \"scipy\", \"matplotlib\"]\nfor pkg in watermark_list:\n    pkg_var = __import__(pkg)\n    print(pkg, getattr(pkg_var, \"__version__\"))"
      ]
    },
    {
      "cell_type": "markdown",
      "metadata": {},
      "source": [
        "sphinx_gallery_thumbnail_number = -1\n"
      ]
    }
  ],
  "metadata": {
    "kernelspec": {
      "display_name": "Python 3",
      "language": "python",
      "name": "python3"
    },
    "language_info": {
      "codemirror_mode": {
        "name": "ipython",
        "version": 3
      },
      "file_extension": ".py",
      "mimetype": "text/x-python",
      "name": "python",
      "nbconvert_exporter": "python",
      "pygments_lexer": "ipython3",
      "version": "3.10.6"
    }
  },
  "nbformat": 4,
  "nbformat_minor": 0
}