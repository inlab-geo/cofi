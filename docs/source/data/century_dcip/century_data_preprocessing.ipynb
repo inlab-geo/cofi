{
 "cells": [
  {
   "cell_type": "markdown",
   "id": "ec292475-dd13-458b-8e39-0c0925cb921a",
   "metadata": {
    "papermill": {
     "duration": 0.006594,
     "end_time": "2024-03-19T00:27:13.795053",
     "exception": false,
     "start_time": "2024-03-19T00:27:13.788459",
     "status": "completed"
    },
    "tags": []
   },
   "source": [
    "# Pre-processing Century Deposit Data\n",
    "\n",
    "Note: The preprocessing code is adapted from a SimPEG example authored by Lindsey Heagy and presented at Transform 2020. [Original Materials](https://curvenote.com/@simpeg/transform-2020-simpeg-tutorial/!6DDumb03Le6D8N8xuJNs)\n",
    "\n",
    "This notebook cpatures the preprocessing of the dataset being used in [Century Data DCIP example](pygimli_century_dcip.ipynb). More specifically, the DC and IP data on line `46800E` are organized and stored into file `century_dcip_data.txt` with the following attributes:\n",
    "- a_location\n",
    "- b_location\n",
    "- m_location\n",
    "- n_location\n",
    "- apparent resistivity\n",
    "- apparent resistivity standard deviation\n",
    "- apparent chargeability\n",
    "- apparent chargeability standard deviation\n",
    "- geometric_factor"
   ]
  },
  {
   "cell_type": "markdown",
   "id": "14998473-5eb8-45b3-9f2f-a962da575758",
   "metadata": {
    "papermill": {
     "duration": 0.018142,
     "end_time": "2024-03-19T00:27:13.818771",
     "exception": false,
     "start_time": "2024-03-19T00:27:13.800629",
     "status": "completed"
    },
    "tags": []
   },
   "source": [
    "## 1. Load the dataset\n",
    "\n",
    "### 1.1. Download dataset and import modules"
   ]
  },
  {
   "cell_type": "code",
   "execution_count": 1,
   "id": "7970f6d3-56b8-4b7e-8aaf-bc7444cc2ca5",
   "metadata": {
    "execution": {
     "iopub.execute_input": "2024-03-19T00:27:13.830042Z",
     "iopub.status.busy": "2024-03-19T00:27:13.829841Z",
     "iopub.status.idle": "2024-03-19T00:27:15.428606Z",
     "shell.execute_reply": "2024-03-19T00:27:15.428166Z"
    },
    "papermill": {
     "duration": 1.605592,
     "end_time": "2024-03-19T00:27:15.429565",
     "exception": false,
     "start_time": "2024-03-19T00:27:13.823973",
     "status": "completed"
    },
    "tags": []
   },
   "outputs": [
    {
     "name": "stdout",
     "output_type": "stream",
     "text": [
      "Cloning into 'transform-2020-simpeg'...\r\n"
     ]
    },
    {
     "name": "stdout",
     "output_type": "stream",
     "text": [
      "remote: Enumerating objects: 361, done.\u001b[K\r\n",
      "remote: Counting objects:   2% (1/44)\u001b[K\r",
      "remote: Counting objects:   4% (2/44)\u001b[K\r",
      "remote: Counting objects:   6% (3/44)\u001b[K\r",
      "remote: Counting objects:   9% (4/44)\u001b[K\r",
      "remote: Counting objects:  11% (5/44)\u001b[K\r",
      "remote: Counting objects:  13% (6/44)\u001b[K\r",
      "remote: Counting objects:  15% (7/44)\u001b[K\r",
      "remote: Counting objects:  18% (8/44)\u001b[K\r",
      "remote: Counting objects:  20% (9/44)\u001b[K\r",
      "remote: Counting objects:  22% (10/44)\u001b[K\r",
      "remote: Counting objects:  25% (11/44)\u001b[K\r",
      "remote: Counting objects:  27% (12/44)\u001b[K\r",
      "remote: Counting objects:  29% (13/44)\u001b[K\r",
      "remote: Counting objects:  31% (14/44)\u001b[K\r",
      "remote: Counting objects:  34% (15/44)\u001b[K\r",
      "remote: Counting objects:  36% (16/44)\u001b[K\r",
      "remote: Counting objects:  38% (17/44)\u001b[K\r",
      "remote: Counting objects:  40% (18/44)\u001b[K\r",
      "remote: Counting objects:  43% (19/44)\u001b[K\r",
      "remote: Counting objects:  45% (20/44)\u001b[K\r",
      "remote: Counting objects:  47% (21/44)\u001b[K\r",
      "remote: Counting objects:  50% (22/44)\u001b[K\r",
      "remote: Counting objects:  52% (23/44)\u001b[K\r",
      "remote: Counting objects:  54% (24/44)\u001b[K\r",
      "remote: Counting objects:  56% (25/44)\u001b[K\r",
      "remote: Counting objects:  59% (26/44)\u001b[K\r",
      "remote: Counting objects:  61% (27/44)\u001b[K\r",
      "remote: Counting objects:  63% (28/44)\u001b[K\r",
      "remote: Counting objects:  65% (29/44)\u001b[K\r",
      "remote: Counting objects:  68% (30/44)\u001b[K\r",
      "remote: Counting objects:  70% (31/44)\u001b[K\r",
      "remote: Counting objects:  72% (32/44)\u001b[K\r",
      "remote: Counting objects:  75% (33/44)\u001b[K\r",
      "remote: Counting objects:  77% (34/44)\u001b[K\r",
      "remote: Counting objects:  79% (35/44)\u001b[K\r",
      "remote: Counting objects:  81% (36/44)\u001b[K\r",
      "remote: Counting objects:  84% (37/44)\u001b[K\r",
      "remote: Counting objects:  86% (38/44)\u001b[K\r",
      "remote: Counting objects:  88% (39/44)\u001b[K\r",
      "remote: Counting objects:  90% (40/44)\u001b[K\r",
      "remote: Counting objects:  93% (41/44)\u001b[K\r",
      "remote: Counting objects:  95% (42/44)\u001b[K\r",
      "remote: Counting objects:  97% (43/44)\u001b[K\r",
      "remote: Counting objects: 100% (44/44)\u001b[K\r",
      "remote: Counting objects: 100% (44/44), done.\u001b[K\r\n",
      "remote: Compressing objects:   3% (1/33)\u001b[K\r",
      "remote: Compressing objects:   6% (2/33)\u001b[K\r",
      "remote: Compressing objects:   9% (3/33)\u001b[K\r",
      "remote: Compressing objects:  12% (4/33)\u001b[K\r",
      "remote: Compressing objects:  15% (5/33)\u001b[K\r",
      "remote: Compressing objects:  18% (6/33)\u001b[K\r",
      "remote: Compressing objects:  21% (7/33)\u001b[K\r",
      "remote: Compressing objects:  24% (8/33)\u001b[K\r",
      "remote: Compressing objects:  27% (9/33)\u001b[K\r",
      "remote: Compressing objects:  30% (10/33)\u001b[K\r",
      "remote: Compressing objects:  33% (11/33)\u001b[K\r",
      "remote: Compressing objects:  36% (12/33)\u001b[K\r",
      "remote: Compressing objects:  39% (13/33)\u001b[K\r",
      "remote: Compressing objects:  42% (14/33)\u001b[K\r",
      "remote: Compressing objects:  45% (15/33)\u001b[K\r",
      "remote: Compressing objects:  48% (16/33)\u001b[K\r",
      "remote: Compressing objects:  51% (17/33)\u001b[K\r",
      "remote: Compressing objects:  54% (18/33)\u001b[K\r",
      "remote: Compressing objects:  57% (19/33)\u001b[K\r",
      "remote: Compressing objects:  60% (20/33)\u001b[K\r",
      "remote: Compressing objects:  63% (21/33)\u001b[K\r",
      "remote: Compressing objects:  66% (22/33)\u001b[K\r",
      "remote: Compressing objects:  69% (23/33)\u001b[K\r",
      "remote: Compressing objects:  72% (24/33)\u001b[K\r",
      "remote: Compressing objects:  75% (25/33)\u001b[K\r",
      "remote: Compressing objects:  78% (26/33)\u001b[K\r",
      "remote: Compressing objects:  81% (27/33)\u001b[K\r",
      "remote: Compressing objects:  84% (28/33)\u001b[K\r",
      "remote: Compressing objects:  87% (29/33)\u001b[K\r",
      "remote: Compressing objects:  90% (30/33)\u001b[K\r",
      "remote: Compressing objects:  93% (31/33)\u001b[K\r",
      "remote: Compressing objects:  96% (32/33)\u001b[K\r",
      "remote: Compressing objects: 100% (33/33)\u001b[K\r",
      "remote: Compressing objects: 100% (33/33), done.\u001b[K\r\n",
      "Receiving objects:   0% (1/361)\r",
      "Receiving objects:   1% (4/361)\r",
      "Receiving objects:   2% (8/361)\r",
      "Receiving objects:   3% (11/361)\r",
      "Receiving objects:   4% (15/361)\r",
      "Receiving objects:   5% (19/361)\r",
      "Receiving objects:   6% (22/361)\r",
      "Receiving objects:   7% (26/361)\r",
      "Receiving objects:   8% (29/361)\r",
      "Receiving objects:   9% (33/361)\r",
      "Receiving objects:  10% (37/361)\r",
      "Receiving objects:  11% (40/361)\r",
      "Receiving objects:  12% (44/361)\r",
      "Receiving objects:  13% (47/361)\r",
      "Receiving objects:  14% (51/361)\r",
      "Receiving objects:  15% (55/361)\r",
      "Receiving objects:  16% (58/361)\r",
      "Receiving objects:  17% (62/361)\r",
      "Receiving objects:  18% (65/361)\r",
      "Receiving objects:  19% (69/361)\r",
      "Receiving objects:  20% (73/361)\r",
      "Receiving objects:  21% (76/361)\r"
     ]
    },
    {
     "name": "stdout",
     "output_type": "stream",
     "text": [
      "Receiving objects:  22% (80/361)\r",
      "Receiving objects:  23% (84/361)\r",
      "Receiving objects:  24% (87/361)\r",
      "Receiving objects:  25% (91/361)\r",
      "Receiving objects:  26% (94/361)\r",
      "Receiving objects:  27% (98/361)\r",
      "Receiving objects:  28% (102/361)\r",
      "Receiving objects:  29% (105/361)\r",
      "Receiving objects:  30% (109/361)\r",
      "Receiving objects:  31% (112/361)\r",
      "Receiving objects:  32% (116/361)\r",
      "Receiving objects:  33% (120/361)\r",
      "Receiving objects:  34% (123/361)\r",
      "Receiving objects:  35% (127/361)\r",
      "Receiving objects:  36% (130/361)\r",
      "Receiving objects:  37% (134/361)\r",
      "Receiving objects:  38% (138/361)\r",
      "Receiving objects:  39% (141/361)\r",
      "Receiving objects:  40% (145/361)\r",
      "Receiving objects:  41% (149/361)\r",
      "Receiving objects:  42% (152/361)\r",
      "Receiving objects:  43% (156/361)\r"
     ]
    },
    {
     "name": "stdout",
     "output_type": "stream",
     "text": [
      "Receiving objects:  44% (159/361)\r",
      "Receiving objects:  45% (163/361)\r",
      "Receiving objects:  46% (167/361)\r"
     ]
    },
    {
     "name": "stdout",
     "output_type": "stream",
     "text": [
      "Receiving objects:  47% (170/361)\r",
      "Receiving objects:  48% (174/361)\r",
      "Receiving objects:  49% (177/361)\r",
      "Receiving objects:  50% (181/361)\r",
      "Receiving objects:  51% (185/361)\r",
      "Receiving objects:  52% (188/361)\r",
      "Receiving objects:  53% (192/361)\r",
      "Receiving objects:  54% (195/361)\r",
      "Receiving objects:  55% (199/361)\r",
      "Receiving objects:  56% (203/361)\r",
      "Receiving objects:  57% (206/361)\r",
      "Receiving objects:  58% (210/361)\r",
      "Receiving objects:  59% (213/361)\r",
      "Receiving objects:  60% (217/361)\r",
      "Receiving objects:  61% (221/361)\r",
      "Receiving objects:  62% (224/361)\r",
      "Receiving objects:  63% (228/361)\r",
      "Receiving objects:  64% (232/361)\r",
      "Receiving objects:  65% (235/361)\r",
      "Receiving objects:  66% (239/361)\r",
      "Receiving objects:  67% (242/361)\r",
      "Receiving objects:  68% (246/361)\r",
      "Receiving objects:  69% (250/361)\r",
      "Receiving objects:  70% (253/361)\r",
      "Receiving objects:  71% (257/361)\r",
      "Receiving objects:  72% (260/361)\r",
      "Receiving objects:  73% (264/361)\r"
     ]
    },
    {
     "name": "stdout",
     "output_type": "stream",
     "text": [
      "Receiving objects:  74% (268/361)\r",
      "Receiving objects:  75% (271/361)\r",
      "Receiving objects:  76% (275/361)\r",
      "Receiving objects:  77% (278/361)\r",
      "Receiving objects:  78% (282/361)\r",
      "Receiving objects:  79% (286/361)\r",
      "Receiving objects:  80% (289/361)\r",
      "Receiving objects:  81% (293/361)\r",
      "Receiving objects:  82% (297/361)\r",
      "Receiving objects:  83% (300/361)\r",
      "remote: Total 361 (delta 18), reused 19 (delta 5), pack-reused 317\u001b[K\r\n",
      "Receiving objects:  84% (304/361)\r",
      "Receiving objects:  85% (307/361)\r",
      "Receiving objects:  86% (311/361)\r",
      "Receiving objects:  87% (315/361)\r",
      "Receiving objects:  88% (318/361)\r",
      "Receiving objects:  89% (322/361)\r",
      "Receiving objects:  90% (325/361)\r",
      "Receiving objects:  91% (329/361)\r",
      "Receiving objects:  92% (333/361)\r",
      "Receiving objects:  93% (336/361)\r",
      "Receiving objects:  94% (340/361)\r",
      "Receiving objects:  95% (343/361)\r",
      "Receiving objects:  96% (347/361)\r",
      "Receiving objects:  97% (351/361)\r",
      "Receiving objects:  98% (354/361)\r",
      "Receiving objects:  99% (358/361)\r",
      "Receiving objects: 100% (361/361)\r",
      "Receiving objects: 100% (361/361), 5.34 MiB | 13.46 MiB/s, done.\r\n",
      "Resolving deltas:   0% (0/175)\r",
      "Resolving deltas:   1% (2/175)\r",
      "Resolving deltas:   2% (4/175)\r",
      "Resolving deltas:   3% (6/175)\r",
      "Resolving deltas:   4% (7/175)\r",
      "Resolving deltas:   5% (9/175)\r",
      "Resolving deltas:   6% (12/175)\r",
      "Resolving deltas:   7% (13/175)\r",
      "Resolving deltas:   8% (14/175)\r",
      "Resolving deltas:   9% (17/175)\r",
      "Resolving deltas:  10% (18/175)\r",
      "Resolving deltas:  11% (20/175)\r",
      "Resolving deltas:  12% (21/175)\r",
      "Resolving deltas:  13% (23/175)\r",
      "Resolving deltas:  14% (26/175)\r",
      "Resolving deltas:  15% (27/175)\r",
      "Resolving deltas:  16% (28/175)\r",
      "Resolving deltas:  17% (30/175)\r",
      "Resolving deltas:  18% (33/175)\r",
      "Resolving deltas:  21% (37/175)\r",
      "Resolving deltas:  22% (39/175)\r",
      "Resolving deltas:  23% (41/175)\r",
      "Resolving deltas:  24% (42/175)\r",
      "Resolving deltas:  26% (47/175)\r",
      "Resolving deltas:  27% (48/175)\r",
      "Resolving deltas:  29% (52/175)\r",
      "Resolving deltas:  30% (54/175)\r",
      "Resolving deltas:  31% (55/175)\r",
      "Resolving deltas:  32% (56/175)\r",
      "Resolving deltas:  34% (60/175)\r",
      "Resolving deltas:  35% (62/175)\r",
      "Resolving deltas:  36% (63/175)\r",
      "Resolving deltas:  37% (65/175)\r",
      "Resolving deltas:  38% (67/175)\r",
      "Resolving deltas:  39% (69/175)\r",
      "Resolving deltas:  40% (71/175)\r",
      "Resolving deltas:  41% (72/175)\r",
      "Resolving deltas:  42% (74/175)\r",
      "Resolving deltas:  43% (76/175)\r",
      "Resolving deltas:  44% (77/175)\r",
      "Resolving deltas:  45% (79/175)\r",
      "Resolving deltas:  46% (81/175)\r",
      "Resolving deltas:  48% (85/175)\r",
      "Resolving deltas:  49% (86/175)\r",
      "Resolving deltas:  50% (88/175)\r",
      "Resolving deltas:  51% (90/175)\r",
      "Resolving deltas:  53% (94/175)\r",
      "Resolving deltas:  56% (98/175)\r",
      "Resolving deltas:  58% (102/175)\r",
      "Resolving deltas:  59% (104/175)\r",
      "Resolving deltas:  62% (109/175)\r",
      "Resolving deltas:  63% (111/175)\r",
      "Resolving deltas:  64% (112/175)\r"
     ]
    },
    {
     "name": "stdout",
     "output_type": "stream",
     "text": [
      "Resolving deltas:  65% (115/175)\r",
      "Resolving deltas:  67% (118/175)\r",
      "Resolving deltas:  68% (119/175)\r",
      "Resolving deltas:  69% (121/175)\r",
      "Resolving deltas:  70% (123/175)\r",
      "Resolving deltas:  71% (125/175)\r",
      "Resolving deltas:  72% (127/175)\r",
      "Resolving deltas:  73% (128/175)\r",
      "Resolving deltas:  74% (130/175)\r",
      "Resolving deltas:  75% (132/175)\r",
      "Resolving deltas:  76% (133/175)\r",
      "Resolving deltas:  77% (136/175)\r",
      "Resolving deltas:  78% (137/175)\r",
      "Resolving deltas:  79% (139/175)\r",
      "Resolving deltas:  80% (140/175)\r",
      "Resolving deltas:  82% (145/175)\r",
      "Resolving deltas:  86% (151/175)\r",
      "Resolving deltas:  87% (153/175)\r",
      "Resolving deltas:  88% (154/175)\r",
      "Resolving deltas:  89% (156/175)\r",
      "Resolving deltas:  90% (158/175)\r",
      "Resolving deltas:  95% (167/175)\r",
      "Resolving deltas:  96% (168/175)\r",
      "Resolving deltas:  97% (170/175)\r",
      "Resolving deltas:  98% (172/175)\r",
      "Resolving deltas:  99% (174/175)\r",
      "Resolving deltas: 100% (175/175)\r",
      "Resolving deltas: 100% (175/175), done.\r\n"
     ]
    },
    {
     "name": "stdout",
     "output_type": "stream",
     "text": [
      "/home/jiawen/test/cofi-examples/examples/pygimli_dcip/transform-2020-simpeg\n"
     ]
    }
   ],
   "source": [
    "# download the dataset\n",
    "\n",
    "!git clone https://github.com/simpeg/transform-2020-simpeg.git\n",
    "%cd transform-2020-simpeg/"
   ]
  },
  {
   "cell_type": "code",
   "execution_count": 2,
   "id": "66ef9bcf-e635-4b2f-8231-5c6e559023a7",
   "metadata": {
    "execution": {
     "iopub.execute_input": "2024-03-19T00:27:15.454030Z",
     "iopub.status.busy": "2024-03-19T00:27:15.453800Z",
     "iopub.status.idle": "2024-03-19T00:27:15.515277Z",
     "shell.execute_reply": "2024-03-19T00:27:15.514672Z"
    },
    "papermill": {
     "duration": 0.081224,
     "end_time": "2024-03-19T00:27:15.516753",
     "exception": false,
     "start_time": "2024-03-19T00:27:15.435529",
     "status": "completed"
    },
    "tags": []
   },
   "outputs": [],
   "source": [
    "import os\n",
    "import shutil\n",
    "import numpy as np"
   ]
  },
  {
   "cell_type": "markdown",
   "id": "cae4272b-c528-4f03-b965-adbf5bf22ab7",
   "metadata": {
    "papermill": {
     "duration": 0.01859,
     "end_time": "2024-03-19T00:27:15.547554",
     "exception": false,
     "start_time": "2024-03-19T00:27:15.528964",
     "status": "completed"
    },
    "tags": []
   },
   "source": [
    "### 1.2. See what's in the data folder"
   ]
  },
  {
   "cell_type": "code",
   "execution_count": 3,
   "id": "400f951f-b08e-4860-a689-3ebf9083508b",
   "metadata": {
    "execution": {
     "iopub.execute_input": "2024-03-19T00:27:15.573963Z",
     "iopub.status.busy": "2024-03-19T00:27:15.573639Z",
     "iopub.status.idle": "2024-03-19T00:27:15.582993Z",
     "shell.execute_reply": "2024-03-19T00:27:15.582352Z"
    },
    "papermill": {
     "duration": 0.02423,
     "end_time": "2024-03-19T00:27:15.584797",
     "exception": false,
     "start_time": "2024-03-19T00:27:15.560567",
     "status": "completed"
    },
    "tags": []
   },
   "outputs": [
    {
     "data": {
      "text/plain": [
       "['27750N',\n",
       " '46800E',\n",
       " '46200E',\n",
       " 'gmt',\n",
       " '47200E',\n",
       " '47000E',\n",
       " '47700E',\n",
       " 'geologic_section.csv',\n",
       " 'Data_in_3D_format']"
      ]
     },
     "execution_count": 3,
     "metadata": {},
     "output_type": "execute_result"
    }
   ],
   "source": [
    "# overview of dataset files/folders\n",
    "os.listdir('century')"
   ]
  },
  {
   "cell_type": "code",
   "execution_count": 4,
   "id": "f28b1be8-7a20-470a-bcea-eabd3b5bca12",
   "metadata": {
    "execution": {
     "iopub.execute_input": "2024-03-19T00:27:15.606821Z",
     "iopub.status.busy": "2024-03-19T00:27:15.606611Z",
     "iopub.status.idle": "2024-03-19T00:27:15.609754Z",
     "shell.execute_reply": "2024-03-19T00:27:15.609409Z"
    },
    "papermill": {
     "duration": 0.018224,
     "end_time": "2024-03-19T00:27:15.610655",
     "exception": false,
     "start_time": "2024-03-19T00:27:15.592431",
     "status": "completed"
    },
    "tags": []
   },
   "outputs": [
    {
     "data": {
      "text/plain": [
       "['46800IP.OBS',\n",
       " 'IPMODA.CHG',\n",
       " '468MESH.DAT',\n",
       " '46800POT.OBS',\n",
       " 'DCMODA.CON',\n",
       " 'IPMODA.PRE',\n",
       " 'DCMODA.PRE']"
      ]
     },
     "execution_count": 4,
     "metadata": {},
     "output_type": "execute_result"
    }
   ],
   "source": [
    "# data files for the chosen line\n",
    "line = \"46800E\"\n",
    "os.listdir(os.path.join('century',line))"
   ]
  },
  {
   "cell_type": "code",
   "execution_count": 5,
   "id": "cbf0e194-9163-40de-809c-453220755235",
   "metadata": {
    "execution": {
     "iopub.execute_input": "2024-03-19T00:27:15.658793Z",
     "iopub.status.busy": "2024-03-19T00:27:15.658460Z",
     "iopub.status.idle": "2024-03-19T00:27:15.661514Z",
     "shell.execute_reply": "2024-03-19T00:27:15.661197Z"
    },
    "papermill": {
     "duration": 0.010281,
     "end_time": "2024-03-19T00:27:15.662321",
     "exception": false,
     "start_time": "2024-03-19T00:27:15.652040",
     "status": "completed"
    },
    "tags": []
   },
   "outputs": [
    {
     "data": {
      "text/plain": [
       "('./century/46800E/46800POT.OBS', './century/46800E/46800IP.OBS')"
      ]
     },
     "execution_count": 5,
     "metadata": {},
     "output_type": "execute_result"
    }
   ],
   "source": [
    "# files we are going to load\n",
    "dc_data_file = f\"./century/{line}/{line[:-1]}POT.OBS\"\n",
    "ip_data_file = f\"./century/{line}/{line[:-1]}IP.OBS\"\n",
    "\n",
    "dc_data_file, ip_data_file"
   ]
  },
  {
   "cell_type": "code",
   "execution_count": 6,
   "id": "cfa431fe-12f3-41dd-ab2d-3deab56d9566",
   "metadata": {
    "execution": {
     "iopub.execute_input": "2024-03-19T00:27:15.692425Z",
     "iopub.status.busy": "2024-03-19T00:27:15.692087Z",
     "iopub.status.idle": "2024-03-19T00:27:15.695088Z",
     "shell.execute_reply": "2024-03-19T00:27:15.694759Z"
    },
    "papermill": {
     "duration": 0.010211,
     "end_time": "2024-03-19T00:27:15.695953",
     "exception": false,
     "start_time": "2024-03-19T00:27:15.685742",
     "status": "completed"
    },
    "tags": []
   },
   "outputs": [
    {
     "data": {
      "text/plain": [
       "'../century_geologic_section.csv'"
      ]
     },
     "execution_count": 6,
     "metadata": {},
     "output_type": "execute_result"
    }
   ],
   "source": [
    "# copy geologic section data\n",
    "shutil.copy(\"century/geologic_section.csv\", \"../century_geologic_section.csv\")"
   ]
  },
  {
   "cell_type": "code",
   "execution_count": 7,
   "id": "2afff44a-0072-45b4-a84e-a97ad3652489",
   "metadata": {
    "execution": {
     "iopub.execute_input": "2024-03-19T00:27:15.711006Z",
     "iopub.status.busy": "2024-03-19T00:27:15.710875Z",
     "iopub.status.idle": "2024-03-19T00:27:15.714094Z",
     "shell.execute_reply": "2024-03-19T00:27:15.713762Z"
    },
    "papermill": {
     "duration": 0.012826,
     "end_time": "2024-03-19T00:27:15.714973",
     "exception": false,
     "start_time": "2024-03-19T00:27:15.702147",
     "status": "completed"
    },
    "tags": []
   },
   "outputs": [
    {
     "data": {
      "text/plain": [
       "'../Mutton-Figure2-1.png'"
      ]
     },
     "execution_count": 7,
     "metadata": {},
     "output_type": "execute_result"
    }
   ],
   "source": [
    "# copy reference images\n",
    "shutil.copy(\"images/Mutton-Figure1-1.png\", \"../Mutton-Figure1-1.png\")\n",
    "shutil.copy(\"images/Mutton-Figure2-1.png\", \"../Mutton-Figure2-1.png\")"
   ]
  },
  {
   "cell_type": "markdown",
   "id": "e52f8220-b38a-4f7c-aeff-912844f3aaac",
   "metadata": {
    "papermill": {
     "duration": 0.005949,
     "end_time": "2024-03-19T00:27:15.727113",
     "exception": false,
     "start_time": "2024-03-19T00:27:15.721164",
     "status": "completed"
    },
    "tags": []
   },
   "source": [
    "### 1.3. Define utility loader function"
   ]
  },
  {
   "cell_type": "code",
   "execution_count": 8,
   "id": "8b89fe63-e074-4ba7-82a4-896cc194d818",
   "metadata": {
    "execution": {
     "iopub.execute_input": "2024-03-19T00:27:15.741100Z",
     "iopub.status.busy": "2024-03-19T00:27:15.740757Z",
     "iopub.status.idle": "2024-03-19T00:27:15.747673Z",
     "shell.execute_reply": "2024-03-19T00:27:15.747272Z"
    },
    "papermill": {
     "duration": 0.015583,
     "end_time": "2024-03-19T00:27:15.748551",
     "exception": false,
     "start_time": "2024-03-19T00:27:15.732968",
     "status": "completed"
    },
    "tags": []
   },
   "outputs": [],
   "source": [
    "# Utility load function - to be used for both DC and IP data files\n",
    "\n",
    "def read_dcip_data(filename, verbose=True):\n",
    "    \"\"\"\n",
    "    Read in a .OBS file from the Century data set into a python dictionary. \n",
    "    The format is the old UBC-GIF DCIP format.\n",
    "    \n",
    "    Parameters\n",
    "    ----------\n",
    "    filename : str\n",
    "        Path to the file to be parsed\n",
    "    \n",
    "    verbose: bool\n",
    "        Print some things? \n",
    "    \n",
    "    \n",
    "    Returns\n",
    "    -------\n",
    "    dict\n",
    "        A dictionary with the locations of\n",
    "        - a_locations: the positive source electrode locations (numpy array) \n",
    "        - b_locations: the negative source electrode locations (numpy array) \n",
    "        - m_locations: the receiver locations (list of numpy arrays)\n",
    "        - n_locations: the receiver locations (list of numpy arrays)\n",
    "        - observed_data: observed data (list of numpy arrays)\n",
    "        - standard_deviations: assigned standard deviations (list of numpy arrays)\n",
    "        - n_sources: number of sources (int)\n",
    "    \n",
    "    \"\"\"\n",
    "    \n",
    "    # read in the text file as a numpy array of strings (each row is an entry)\n",
    "    contents = np.genfromtxt(filename, delimiter=' \\n', dtype=str)\n",
    "    \n",
    "    # the second line has the number of sources, current, and data type (voltages if 1)\n",
    "    n_sources = int(contents[1].split()[0])\n",
    "    \n",
    "    if verbose is True: \n",
    "        print(f\"number of sources: {n_sources}\")\n",
    "    \n",
    "    # initialize storage for the electrode locations and data\n",
    "    a_locations = np.zeros(n_sources)\n",
    "    b_locations = np.zeros(n_sources)\n",
    "    m_locations = []\n",
    "    n_locations = []\n",
    "    observed_data = []\n",
    "    standard_deviations = []\n",
    "    \n",
    "    # index to track where we have read in content \n",
    "    content_index = 1 \n",
    "    \n",
    "    # loop over sources \n",
    "    for i in range(n_sources):\n",
    "        # start by reading in the source info \n",
    "        content_index = content_index + 1  # read the next line\n",
    "        a_location, b_location, nrx = contents[content_index].split()  # this is a string\n",
    "        \n",
    "        # convert the strings to a float for locations and an int for the number of receivers\n",
    "        a_locations[i] = float(a_location)\n",
    "        b_locations[i] = float(b_location)\n",
    "        nrx = int(nrx)\n",
    "\n",
    "        if verbose is True: \n",
    "            print(f\"Source {i}: A-loc: {a_location}, B-loc: {b_location}, N receivers: {nrx}\")\n",
    "\n",
    "        # initialize space for receiver locations, observed data associated with this source\n",
    "        m_locations_i, n_locations_i = np.zeros(nrx), np.zeros(nrx)\n",
    "        observed_data_i, standard_deviations_i = np.zeros(nrx), np.zeros(nrx)\n",
    "\n",
    "        # read in the receiver info \n",
    "        for j in range(nrx):\n",
    "            content_index = content_index + 1  # read the next line\n",
    "            m_location, n_location, datum, std = contents[content_index].split()\n",
    "\n",
    "            # convert the locations and data to floats, and store them\n",
    "            m_locations_i[j] = float(m_location)\n",
    "            n_locations_i[j] = float(n_location)\n",
    "            observed_data_i[j] = float(datum)\n",
    "            standard_deviations_i[j] = float(std)\n",
    "\n",
    "        # append the receiver info to the lists\n",
    "        m_locations.append(m_locations_i)\n",
    "        n_locations.append(n_locations_i)\n",
    "        observed_data.append(observed_data_i)\n",
    "        standard_deviations.append(standard_deviations_i)\n",
    "    \n",
    "    return {\n",
    "        \"a_locations\": a_locations,\n",
    "        \"b_locations\": b_locations, \n",
    "        \"m_locations\": m_locations,\n",
    "        \"n_locations\": n_locations,\n",
    "        \"observed_data\": observed_data, \n",
    "        \"standard_deviations\": standard_deviations,\n",
    "        \"n_sources\": n_sources, \n",
    "    }"
   ]
  },
  {
   "cell_type": "markdown",
   "id": "17bb0a1e",
   "metadata": {
    "papermill": {
     "duration": 0.005808,
     "end_time": "2024-03-19T00:27:15.760379",
     "exception": false,
     "start_time": "2024-03-19T00:27:15.754571",
     "status": "completed"
    },
    "tags": []
   },
   "source": [
    "## 2. Apparent Resistivity\n",
    "\n",
    "### 2.1. Load voltage data"
   ]
  },
  {
   "cell_type": "code",
   "execution_count": 9,
   "id": "8e475f80-7fa0-441c-a0cf-03987ac82e6a",
   "metadata": {
    "execution": {
     "iopub.execute_input": "2024-03-19T00:27:15.772787Z",
     "iopub.status.busy": "2024-03-19T00:27:15.772595Z",
     "iopub.status.idle": "2024-03-19T00:27:15.775974Z",
     "shell.execute_reply": "2024-03-19T00:27:15.775629Z"
    },
    "papermill": {
     "duration": 0.010562,
     "end_time": "2024-03-19T00:27:15.776775",
     "exception": false,
     "start_time": "2024-03-19T00:27:15.766213",
     "status": "completed"
    },
    "tags": []
   },
   "outputs": [
    {
     "name": "stdout",
     "output_type": "stream",
     "text": [
      "number of sources: 27\n",
      "Source 0: A-loc: 26000.000000, B-loc: 26100.000000, N receivers: 2\n",
      "Source 1: A-loc: 26100.000000, B-loc: 26200.000000, N receivers: 3\n",
      "Source 2: A-loc: 26200.000000, B-loc: 26300.000000, N receivers: 4\n",
      "Source 3: A-loc: 26300.000000, B-loc: 26400.000000, N receivers: 5\n",
      "Source 4: A-loc: 26400.000000, B-loc: 26500.000000, N receivers: 6\n",
      "Source 5: A-loc: 26500.000000, B-loc: 26600.000000, N receivers: 7\n",
      "Source 6: A-loc: 26600.000000, B-loc: 26700.000000, N receivers: 7\n",
      "Source 7: A-loc: 26700.000000, B-loc: 26800.000000, N receivers: 6\n",
      "Source 8: A-loc: 26800.000000, B-loc: 26900.000000, N receivers: 6\n",
      "Source 9: A-loc: 26900.000000, B-loc: 27000.000000, N receivers: 6\n",
      "Source 10: A-loc: 27000.000000, B-loc: 27100.000000, N receivers: 6\n",
      "Source 11: A-loc: 27100.000000, B-loc: 27200.000000, N receivers: 6\n",
      "Source 12: A-loc: 27200.000000, B-loc: 27300.000000, N receivers: 6\n",
      "Source 13: A-loc: 27300.000000, B-loc: 27400.000000, N receivers: 6\n",
      "Source 14: A-loc: 27400.000000, B-loc: 27500.000000, N receivers: 6\n",
      "Source 15: A-loc: 27500.000000, B-loc: 27600.000000, N receivers: 6\n",
      "Source 16: A-loc: 27600.000000, B-loc: 27700.000000, N receivers: 6\n",
      "Source 17: A-loc: 27700.000000, B-loc: 27800.000000, N receivers: 6\n",
      "Source 18: A-loc: 27800.000000, B-loc: 27900.000000, N receivers: 6\n",
      "Source 19: A-loc: 27900.000000, B-loc: 28000.000000, N receivers: 6\n",
      "Source 20: A-loc: 28000.000000, B-loc: 28100.000000, N receivers: 6\n",
      "Source 21: A-loc: 28100.000000, B-loc: 28200.000000, N receivers: 6\n",
      "Source 22: A-loc: 28200.000000, B-loc: 28300.000000, N receivers: 6\n",
      "Source 23: A-loc: 28300.000000, B-loc: 28400.000000, N receivers: 6\n",
      "Source 24: A-loc: 28400.000000, B-loc: 28500.000000, N receivers: 6\n",
      "Source 25: A-loc: 28500.000000, B-loc: 28600.000000, N receivers: 5\n",
      "Source 26: A-loc: 28600.000000, B-loc: 28700.000000, N receivers: 4\n"
     ]
    }
   ],
   "source": [
    "dc_data_dict = read_dcip_data(dc_data_file)"
   ]
  },
  {
   "cell_type": "markdown",
   "id": "09c1a770-ba16-4f14-9a74-19030eab7a6c",
   "metadata": {
    "papermill": {
     "duration": 0.006448,
     "end_time": "2024-03-19T00:27:15.789466",
     "exception": false,
     "start_time": "2024-03-19T00:27:15.783018",
     "status": "completed"
    },
    "tags": []
   },
   "source": [
    "### 2.2. See what's in voltage data"
   ]
  },
  {
   "cell_type": "code",
   "execution_count": 10,
   "id": "4c5ee29f-6e8f-44eb-a486-93807f7c6c9e",
   "metadata": {
    "execution": {
     "iopub.execute_input": "2024-03-19T00:27:15.811841Z",
     "iopub.status.busy": "2024-03-19T00:27:15.811593Z",
     "iopub.status.idle": "2024-03-19T00:27:15.814096Z",
     "shell.execute_reply": "2024-03-19T00:27:15.813737Z"
    },
    "papermill": {
     "duration": 0.019416,
     "end_time": "2024-03-19T00:27:15.814939",
     "exception": false,
     "start_time": "2024-03-19T00:27:15.795523",
     "status": "completed"
    },
    "tags": []
   },
   "outputs": [
    {
     "name": "stdout",
     "output_type": "stream",
     "text": [
      "a_locations         : <class 'numpy.ndarray'>\n",
      "b_locations         : <class 'numpy.ndarray'>\n",
      "m_locations         : <class 'list'>\n",
      "n_locations         : <class 'list'>\n",
      "observed_data       : <class 'list'>\n",
      "standard_deviations : <class 'list'>\n",
      "n_sources           : <class 'int'>\n"
     ]
    }
   ],
   "source": [
    "for key, value in dc_data_dict.items():\n",
    "    print(f\"{key:<20}: {type(value)}\")"
   ]
  },
  {
   "cell_type": "code",
   "execution_count": 11,
   "id": "7bf57a8a-a84a-4641-a6a8-94e7a1618847",
   "metadata": {
    "execution": {
     "iopub.execute_input": "2024-03-19T00:27:15.828111Z",
     "iopub.status.busy": "2024-03-19T00:27:15.827875Z",
     "iopub.status.idle": "2024-03-19T00:27:15.830964Z",
     "shell.execute_reply": "2024-03-19T00:27:15.830597Z"
    },
    "papermill": {
     "duration": 0.010625,
     "end_time": "2024-03-19T00:27:15.831870",
     "exception": false,
     "start_time": "2024-03-19T00:27:15.821245",
     "status": "completed"
    },
    "tags": []
   },
   "outputs": [
    {
     "data": {
      "text/plain": [
       "array([26000., 26100., 26200., 26300., 26400., 26500., 26600., 26700.,\n",
       "       26800., 26900., 27000., 27100., 27200., 27300., 27400., 27500.,\n",
       "       27600., 27700., 27800., 27900., 28000., 28100., 28200., 28300.,\n",
       "       28400., 28500., 28600.])"
      ]
     },
     "execution_count": 11,
     "metadata": {},
     "output_type": "execute_result"
    }
   ],
   "source": [
    "dc_data_dict[\"a_locations\"]"
   ]
  },
  {
   "cell_type": "code",
   "execution_count": 12,
   "id": "92900bcb-3b57-43e3-abef-25263a1788ac",
   "metadata": {
    "execution": {
     "iopub.execute_input": "2024-03-19T00:27:15.869120Z",
     "iopub.status.busy": "2024-03-19T00:27:15.868844Z",
     "iopub.status.idle": "2024-03-19T00:27:15.872165Z",
     "shell.execute_reply": "2024-03-19T00:27:15.871828Z"
    },
    "papermill": {
     "duration": 0.021455,
     "end_time": "2024-03-19T00:27:15.873067",
     "exception": false,
     "start_time": "2024-03-19T00:27:15.851612",
     "status": "completed"
    },
    "tags": []
   },
   "outputs": [
    {
     "data": {
      "text/plain": [
       "(-5.633802816901409, -4.49438202247191)"
      ]
     },
     "execution_count": 12,
     "metadata": {},
     "output_type": "execute_result"
    }
   ],
   "source": [
    "# error of voltages in percentage\n",
    "err = np.hstack(dc_data_dict[\"standard_deviations\"]) / np.hstack(dc_data_dict[\"observed_data\"])\n",
    "err *= 100\n",
    "np.min(err), np.max(err)"
   ]
  },
  {
   "cell_type": "code",
   "execution_count": 13,
   "id": "8c344465-f140-4e66-a143-55b10e2fbd9f",
   "metadata": {
    "execution": {
     "iopub.execute_input": "2024-03-19T00:27:15.886550Z",
     "iopub.status.busy": "2024-03-19T00:27:15.886347Z",
     "iopub.status.idle": "2024-03-19T00:27:15.891895Z",
     "shell.execute_reply": "2024-03-19T00:27:15.891558Z"
    },
    "papermill": {
     "duration": 0.013215,
     "end_time": "2024-03-19T00:27:15.892734",
     "exception": false,
     "start_time": "2024-03-19T00:27:15.879519",
     "status": "completed"
    },
    "tags": []
   },
   "outputs": [
    {
     "data": {
      "text/plain": [
       "[array([6.e-05, 4.e-05]),\n",
       " array([8.e-05, 5.e-05, 3.e-05]),\n",
       " array([1.3e-04, 7.0e-05, 4.0e-05, 6.0e-05]),\n",
       " array([2.5e-04, 1.3e-04, 7.0e-05, 1.0e-04, 5.0e-05]),\n",
       " array([5.2e-04, 2.4e-04, 1.2e-04, 1.5e-04, 7.0e-05, 6.0e-05]),\n",
       " array([1.03e-03, 3.40e-04, 1.60e-04, 1.70e-04, 8.00e-05, 6.00e-05,\n",
       "        4.00e-05]),\n",
       " array([1.72e-03, 5.40e-04, 4.70e-04, 1.70e-04, 1.20e-04, 7.00e-05,\n",
       "        4.00e-05]),\n",
       " array([2.73e-03, 1.47e-03, 3.80e-04, 2.20e-04, 1.20e-04, 6.00e-05]),\n",
       " array([4.59e-03, 7.20e-04, 3.40e-04, 1.70e-04, 8.00e-05, 3.00e-05]),\n",
       " array([1.83e-03, 5.70e-04, 2.60e-04, 1.10e-04, 4.00e-05, 2.00e-05]),\n",
       " array([3.42e-03, 1.30e-03, 4.90e-04, 1.30e-04, 7.00e-05, 5.00e-05]),\n",
       " array([2.44e-03, 8.30e-04, 1.80e-04, 8.00e-05, 5.00e-05, 4.00e-05]),\n",
       " array([1.18e-02, 1.03e-03, 2.60e-04, 1.30e-04, 9.00e-05, 7.00e-05]),\n",
       " array([0.00708, 0.00078, 0.00025, 0.00015, 0.0001 , 0.0001 ]),\n",
       " array([5.23e-03, 6.00e-04, 2.50e-04, 1.50e-04, 1.30e-04, 7.00e-05]),\n",
       " array([3.24e-03, 7.30e-04, 2.70e-04, 2.00e-04, 9.00e-05, 7.00e-05]),\n",
       " array([5.09e-03, 9.30e-04, 4.90e-04, 1.70e-04, 1.10e-04, 7.00e-05]),\n",
       " array([3.26e-03, 1.17e-03, 3.20e-04, 1.80e-04, 1.00e-04, 6.00e-05]),\n",
       " array([5.07e-03, 8.00e-04, 3.60e-04, 1.80e-04, 9.00e-05, 4.00e-05]),\n",
       " array([0.00459, 0.00133, 0.00051, 0.00021, 0.0001 , 0.0001 ]),\n",
       " array([0.00897, 0.00237, 0.00077, 0.0003 , 0.00028, 0.00012]),\n",
       " array([0.00714, 0.00166, 0.00058, 0.0005 , 0.00019, 0.00012]),\n",
       " array([0.00454, 0.00126, 0.00103, 0.00037, 0.00022, 0.00019]),\n",
       " array([0.00347, 0.00221, 0.00071, 0.00039, 0.00033, 0.00021]),\n",
       " array([0.00456, 0.00113, 0.00056, 0.00046, 0.00027, 0.00023]),\n",
       " array([0.00223, 0.00084, 0.00061, 0.00035, 0.00029]),\n",
       " array([0.00374, 0.00201, 0.00102, 0.00079])]"
      ]
     },
     "execution_count": 13,
     "metadata": {},
     "output_type": "execute_result"
    }
   ],
   "source": [
    "dc_data_dict[\"standard_deviations\"]"
   ]
  },
  {
   "cell_type": "markdown",
   "id": "b655d604-76de-4700-91cb-cbe27182763d",
   "metadata": {
    "papermill": {
     "duration": 0.008542,
     "end_time": "2024-03-19T00:27:15.907988",
     "exception": false,
     "start_time": "2024-03-19T00:27:15.899446",
     "status": "completed"
    },
    "tags": []
   },
   "source": [
    "### 2.3. Create SimPEG Data and Survey"
   ]
  },
  {
   "cell_type": "code",
   "execution_count": 14,
   "id": "6e73fa13-ea6d-433c-ac4e-d2db9118caf6",
   "metadata": {
    "execution": {
     "iopub.execute_input": "2024-03-19T00:27:15.921257Z",
     "iopub.status.busy": "2024-03-19T00:27:15.920950Z",
     "iopub.status.idle": "2024-03-19T00:27:18.398731Z",
     "shell.execute_reply": "2024-03-19T00:27:18.398292Z"
    },
    "papermill": {
     "duration": 2.485875,
     "end_time": "2024-03-19T00:27:18.400032",
     "exception": false,
     "start_time": "2024-03-19T00:27:15.914157",
     "status": "completed"
    },
    "tags": []
   },
   "outputs": [],
   "source": [
    "import matplotlib.pyplot as plt\n",
    "import ipywidgets\n",
    "\n",
    "from SimPEG import (\n",
    "    Data, maps,\n",
    "    data_misfit, regularization, optimization, inverse_problem, \n",
    "    inversion, directives\n",
    ") \n",
    "from SimPEG.electromagnetics import resistivity as dc\n",
    "from SimPEG.electromagnetics import induced_polarization as ip"
   ]
  },
  {
   "cell_type": "code",
   "execution_count": 15,
   "id": "30961e76-6e37-4a48-9335-a14f12d65090",
   "metadata": {
    "execution": {
     "iopub.execute_input": "2024-03-19T00:27:18.439472Z",
     "iopub.status.busy": "2024-03-19T00:27:18.439167Z",
     "iopub.status.idle": "2024-03-19T00:27:18.446263Z",
     "shell.execute_reply": "2024-03-19T00:27:18.445892Z"
    },
    "papermill": {
     "duration": 0.04005,
     "end_time": "2024-03-19T00:27:18.447129",
     "exception": false,
     "start_time": "2024-03-19T00:27:18.407079",
     "status": "completed"
    },
    "tags": []
   },
   "outputs": [],
   "source": [
    "# initialize an empty list for each \n",
    "source_list = []\n",
    "\n",
    "for i in range(dc_data_dict[\"n_sources\"]):\n",
    "    \n",
    "    # receiver electrode locations in 2D \n",
    "    m_locs = np.vstack([\n",
    "        dc_data_dict[\"m_locations\"][i], \n",
    "        np.zeros_like(dc_data_dict[\"m_locations\"][i])\n",
    "    ]).T\n",
    "    n_locs = np.vstack([\n",
    "        dc_data_dict[\"n_locations\"][i],\n",
    "        np.zeros_like(dc_data_dict[\"n_locations\"][i])\n",
    "    ]).T\n",
    "    \n",
    "    # construct the receiver object \n",
    "    receivers = dc.receivers.Dipole(locations_m=m_locs, locations_n=n_locs)\n",
    "    \n",
    "    # construct the source \n",
    "    source = dc.sources.Dipole(\n",
    "        location_a=np.r_[dc_data_dict[\"a_locations\"][i], 0.],\n",
    "        location_b=np.r_[dc_data_dict[\"b_locations\"][i], 0.],\n",
    "        receiver_list=[receivers]\n",
    "    )\n",
    "    \n",
    "    # append the new source to the source list\n",
    "    source_list.append(source)\n"
   ]
  },
  {
   "cell_type": "code",
   "execution_count": 16,
   "id": "5d2bb202-fccc-4da5-b6b7-54b9795313c3",
   "metadata": {
    "execution": {
     "iopub.execute_input": "2024-03-19T00:27:18.460691Z",
     "iopub.status.busy": "2024-03-19T00:27:18.460490Z",
     "iopub.status.idle": "2024-03-19T00:27:18.462756Z",
     "shell.execute_reply": "2024-03-19T00:27:18.462414Z"
    },
    "papermill": {
     "duration": 0.009906,
     "end_time": "2024-03-19T00:27:18.463582",
     "exception": false,
     "start_time": "2024-03-19T00:27:18.453676",
     "status": "completed"
    },
    "tags": []
   },
   "outputs": [],
   "source": [
    "dc_survey = dc.Survey(source_list=source_list)"
   ]
  },
  {
   "cell_type": "code",
   "execution_count": 17,
   "id": "4c63bae7-8385-4315-9dc4-13d1dcbbe938",
   "metadata": {
    "execution": {
     "iopub.execute_input": "2024-03-19T00:27:18.477768Z",
     "iopub.status.busy": "2024-03-19T00:27:18.477579Z",
     "iopub.status.idle": "2024-03-19T00:27:18.480183Z",
     "shell.execute_reply": "2024-03-19T00:27:18.479851Z"
    },
    "papermill": {
     "duration": 0.010198,
     "end_time": "2024-03-19T00:27:18.481048",
     "exception": false,
     "start_time": "2024-03-19T00:27:18.470850",
     "status": "completed"
    },
    "tags": []
   },
   "outputs": [],
   "source": [
    "dc_data = Data(\n",
    "    survey=dc_survey, \n",
    "    dobs=np.hstack(dc_data_dict[\"observed_data\"]),\n",
    "    standard_deviation=np.hstack(dc_data_dict[\"standard_deviations\"])\n",
    ")"
   ]
  },
  {
   "cell_type": "code",
   "execution_count": 18,
   "id": "b26f0806-3f81-45d9-8669-f99347bfffc7",
   "metadata": {
    "execution": {
     "iopub.execute_input": "2024-03-19T00:27:18.497633Z",
     "iopub.status.busy": "2024-03-19T00:27:18.497448Z",
     "iopub.status.idle": "2024-03-19T00:27:18.710373Z",
     "shell.execute_reply": "2024-03-19T00:27:18.710007Z"
    },
    "papermill": {
     "duration": 0.223677,
     "end_time": "2024-03-19T00:27:18.711271",
     "exception": false,
     "start_time": "2024-03-19T00:27:18.487594",
     "status": "completed"
    },
    "tags": []
   },
   "outputs": [
    {
     "data": {
      "image/png": "[encoded data removed]",
      "text/plain": [
       "<Figure size 1200x400 with 2 Axes>"
      ]
     },
     "metadata": {},
     "output_type": "display_data"
    }
   ],
   "source": [
    "fig, ax = plt.subplots(1, 1, figsize=(12, 4))\n",
    "dc.utils.plot_pseudosection(\n",
    "    dc_data, data_type=\"potential\",\n",
    "    plot_type=\"contourf\", data_locations=True, ax=ax,\n",
    ")\n",
    "ax.set_aspect(1.5)"
   ]
  },
  {
   "cell_type": "markdown",
   "id": "b4330ba9-32dc-44e2-8a41-75d9d59774e7",
   "metadata": {
    "papermill": {
     "duration": 0.018161,
     "end_time": "2024-03-19T00:27:18.736254",
     "exception": false,
     "start_time": "2024-03-19T00:27:18.718093",
     "status": "completed"
    },
    "tags": []
   },
   "source": [
    "### 2.4. Process into apparent resistivity\n",
    "\n",
    "We've loaded measurements data in units of volts above. Now we translate them into apparent resistivity.\n",
    "\n",
    "See [this SimPEG notebook](https://github.com/simpeg/transform-2020-simpeg/blob/main/1-century-dcip-inversion.ipynb) for more details."
   ]
  },
  {
   "cell_type": "code",
   "execution_count": 19,
   "id": "9dc5ee00-d48c-4c70-9dcf-74de2d573879",
   "metadata": {
    "execution": {
     "iopub.execute_input": "2024-03-19T00:27:18.761066Z",
     "iopub.status.busy": "2024-03-19T00:27:18.760835Z",
     "iopub.status.idle": "2024-03-19T00:27:19.009714Z",
     "shell.execute_reply": "2024-03-19T00:27:19.009353Z"
    },
    "papermill": {
     "duration": 0.258494,
     "end_time": "2024-03-19T00:27:19.010621",
     "exception": false,
     "start_time": "2024-03-19T00:27:18.752127",
     "status": "completed"
    },
    "tags": []
   },
   "outputs": [
    {
     "data": {
      "image/png": "[encoded data removed]",
      "text/plain": [
       "<Figure size 1200x400 with 2 Axes>"
      ]
     },
     "metadata": {},
     "output_type": "display_data"
    }
   ],
   "source": [
    "# plot psuedosection\n",
    "fig, ax = plt.subplots(1, 1, figsize=(12, 4))\n",
    "dc.utils.plot_pseudosection(\n",
    "    dc_data, data_type=\"apparent resistivity\", \n",
    "    plot_type=\"contourf\", data_locations=True, ax=ax, cbar_opts={\"pad\":0.25}\n",
    ")\n",
    "ax.set_aspect(1.5)  # some vertical exxageration\n",
    "ax.set_title(f\"DC: {line} Pseudosection\")\n",
    "ax.set_xlabel(\"Northing (m)\");"
   ]
  },
  {
   "cell_type": "code",
   "execution_count": 20,
   "id": "bf34cf6a-b2f2-4727-94ab-04b643f59dea",
   "metadata": {
    "execution": {
     "iopub.execute_input": "2024-03-19T00:27:19.025826Z",
     "iopub.status.busy": "2024-03-19T00:27:19.025599Z",
     "iopub.status.idle": "2024-03-19T00:27:19.032208Z",
     "shell.execute_reply": "2024-03-19T00:27:19.031800Z"
    },
    "papermill": {
     "duration": 0.015255,
     "end_time": "2024-03-19T00:27:19.033142",
     "exception": false,
     "start_time": "2024-03-19T00:27:19.017887",
     "status": "completed"
    },
    "tags": []
   },
   "outputs": [],
   "source": [
    "apparent_resistivity = dc.utils.apparent_resistivity_from_voltage(dc_survey, dc_data.dobs)\n",
    "apparent_resistivity_err = dc.utils.apparent_resistivity_from_voltage(dc_survey, dc_data.standard_deviation)\n",
    "# apparent_resistivity_err = dc_data.standard_deviation\n",
    "geometric_factor = dc.utils.geometric_factor(dc_survey)"
   ]
  },
  {
   "cell_type": "code",
   "execution_count": 21,
   "id": "d8b1355b-affb-4a6d-945f-8bbaefd035df",
   "metadata": {
    "execution": {
     "iopub.execute_input": "2024-03-19T00:27:19.054748Z",
     "iopub.status.busy": "2024-03-19T00:27:19.054448Z",
     "iopub.status.idle": "2024-03-19T00:27:19.058053Z",
     "shell.execute_reply": "2024-03-19T00:27:19.057732Z"
    },
    "papermill": {
     "duration": 0.017926,
     "end_time": "2024-03-19T00:27:19.058871",
     "exception": false,
     "start_time": "2024-03-19T00:27:19.040945",
     "status": "completed"
    },
    "tags": []
   },
   "outputs": [
    {
     "data": {
      "text/plain": [
       "array([ 6.33351764,  6.33355107,  5.27791048,  5.27793137,  4.7501633 ,\n",
       "        4.90090302,  4.61817167,  4.2223451 ,  9.50032661,  4.71239786,\n",
       "        4.90090302,  4.61817167, 10.55586274,  7.91693884,  3.92071059,\n",
       "        4.52390195,  4.52391048,  9.89608215,  7.38910392,  9.50032661,\n",
       "        1.94150463,  2.56354154,  3.01593463,  6.40887317,  5.27791048,\n",
       "        6.33351764,  6.33355107,  3.24212423,  4.07150715,  8.85930798,\n",
       "        6.40887317,  7.91686572,  7.38910392,  6.33355107,  5.14592974,\n",
       "       11.08354724,  7.16284475,  8.29383587,  7.91686572,  6.33351764,\n",
       "        8.6519478 ,  5.4286762 ,  6.40886109,  6.40887317,  5.27791048,\n",
       "        3.16675882,  3.44946938,  4.29770199,  4.90089378,  4.14691794,\n",
       "        2.63895524,  2.11117255,  6.44654934,  9.80177647,  9.23629981,\n",
       "        4.90090302,  4.61817167,  5.27793137,  4.59929251,  6.25805728,\n",
       "        3.39292646,  3.01594032,  3.29869405,  4.2223451 , 22.24248018,\n",
       "        7.7660229 ,  4.90089378,  4.90090302,  5.93764929,  7.38910392,\n",
       "       13.34548811,  5.88106588,  4.71239786,  5.65488809,  6.5973881 ,\n",
       "       10.55586274,  9.85831961,  4.52389683,  4.71239786,  5.65488809,\n",
       "        8.57660453,  7.38910392,  6.10725727,  5.50407448,  5.08938969,\n",
       "        7.53985079,  5.93764929,  7.38910392,  9.59442577,  7.01204009,\n",
       "        9.23629981,  6.40887317,  7.25712691,  7.38910392,  6.14495639,\n",
       "        8.82159882,  6.03186926,  6.78586571,  6.5973881 ,  6.33351764,\n",
       "        9.55672665,  6.03186244,  6.78585292,  6.78586571,  5.93764929,\n",
       "        4.2223451 ,  8.6519478 , 10.02797131,  9.61329164,  7.91684333,\n",
       "        6.5973881 , 10.55586274, 16.90805485, 17.86939249, 14.51418542,\n",
       "       11.30977619, 18.47268667, 12.66703529, 13.45858546, 12.51611457,\n",
       "       10.93276304, 18.84962698, 12.53503739, 12.66703529,  8.5577    ,\n",
       "        9.50018335, 19.4150792 , 13.94872397, 14.51425382, 20.05613921,\n",
       "        6.54079714, 16.66302   , 13.38320993, 14.70270905, 21.77138072,\n",
       "       22.16731176,  8.59539912,  8.5200057 , 10.55577121, 17.34165682,\n",
       "       17.81294786, 24.2784843 ,  4.20345176,  6.33345556, 11.49825079,\n",
       "       13.19473889, 19.13242548,  7.04973524, 15.15505439, 19.22658328,\n",
       "       29.78241063])"
      ]
     },
     "execution_count": 21,
     "metadata": {},
     "output_type": "execute_result"
    }
   ],
   "source": [
    "apparent_resistivity_err"
   ]
  },
  {
   "cell_type": "code",
   "execution_count": 22,
   "id": "9b1fed78-5c2e-4e3e-804d-489ba8c3af1e",
   "metadata": {
    "execution": {
     "iopub.execute_input": "2024-03-19T00:27:19.076940Z",
     "iopub.status.busy": "2024-03-19T00:27:19.076728Z",
     "iopub.status.idle": "2024-03-19T00:27:19.282247Z",
     "shell.execute_reply": "2024-03-19T00:27:19.281901Z"
    },
    "papermill": {
     "duration": 0.218975,
     "end_time": "2024-03-19T00:27:19.284879",
     "exception": false,
     "start_time": "2024-03-19T00:27:19.065904",
     "status": "completed"
    },
    "tags": []
   },
   "outputs": [
    {
     "data": {
      "image/png": "[encoded data removed]",
      "text/plain": [
       "<Figure size 640x480 with 1 Axes>"
      ]
     },
     "metadata": {},
     "output_type": "display_data"
    }
   ],
   "source": [
    "fig, ax = plt.subplots(1, 1)\n",
    "out = ax.hist(np.log10(apparent_resistivity), bins=30)\n",
    "ax.set_xlabel(\"log$_{10}(\\\\rho_a)$\");"
   ]
  },
  {
   "cell_type": "code",
   "execution_count": 23,
   "id": "3c269fc6-c155-4e56-ab15-5597d4226ada",
   "metadata": {
    "execution": {
     "iopub.execute_input": "2024-03-19T00:27:19.301203Z",
     "iopub.status.busy": "2024-03-19T00:27:19.300985Z",
     "iopub.status.idle": "2024-03-19T00:27:19.304158Z",
     "shell.execute_reply": "2024-03-19T00:27:19.303817Z"
    },
    "papermill": {
     "duration": 0.011992,
     "end_time": "2024-03-19T00:27:19.304987",
     "exception": false,
     "start_time": "2024-03-19T00:27:19.292995",
     "status": "completed"
    },
    "tags": []
   },
   "outputs": [
    {
     "data": {
      "text/plain": [
       "135.90619481429147"
      ]
     },
     "execution_count": 23,
     "metadata": {},
     "output_type": "execute_result"
    }
   ],
   "source": [
    "rho0 = np.median(apparent_resistivity)\n",
    "rho0"
   ]
  },
  {
   "cell_type": "code",
   "execution_count": 24,
   "id": "d22d039b-4889-4aab-8c3a-281d6baa9e3d",
   "metadata": {
    "execution": {
     "iopub.execute_input": "2024-03-19T00:27:19.320388Z",
     "iopub.status.busy": "2024-03-19T00:27:19.320203Z",
     "iopub.status.idle": "2024-03-19T00:27:19.322862Z",
     "shell.execute_reply": "2024-03-19T00:27:19.322546Z"
    },
    "papermill": {
     "duration": 0.011112,
     "end_time": "2024-03-19T00:27:19.323659",
     "exception": false,
     "start_time": "2024-03-19T00:27:19.312547",
     "status": "completed"
    },
    "tags": []
   },
   "outputs": [
    {
     "data": {
      "text/plain": [
       "151"
      ]
     },
     "execution_count": 24,
     "metadata": {},
     "output_type": "execute_result"
    }
   ],
   "source": [
    "len(apparent_resistivity)"
   ]
  },
  {
   "cell_type": "code",
   "execution_count": 25,
   "id": "bdda6f3a-9b1b-4b16-849b-96f0557560f4",
   "metadata": {
    "execution": {
     "iopub.execute_input": "2024-03-19T00:27:19.340537Z",
     "iopub.status.busy": "2024-03-19T00:27:19.340234Z",
     "iopub.status.idle": "2024-03-19T00:27:19.343150Z",
     "shell.execute_reply": "2024-03-19T00:27:19.342830Z"
    },
    "papermill": {
     "duration": 0.012585,
     "end_time": "2024-03-19T00:27:19.344108",
     "exception": false,
     "start_time": "2024-03-19T00:27:19.331523",
     "status": "completed"
    },
    "tags": []
   },
   "outputs": [
    {
     "data": {
      "text/plain": [
       "array([134.05945681, 126.67102145, 108.1971648 , 104.50304114,\n",
       "        99.7534294 ,  95.00211999,  96.32186623,  92.89159212,\n",
       "       197.92347102,  95.00194092])"
      ]
     },
     "execution_count": 25,
     "metadata": {},
     "output_type": "execute_result"
    }
   ],
   "source": [
    "apparent_resistivity[:10]"
   ]
  },
  {
   "cell_type": "markdown",
   "id": "93269414",
   "metadata": {
    "papermill": {
     "duration": 0.007433,
     "end_time": "2024-03-19T00:27:19.359243",
     "exception": false,
     "start_time": "2024-03-19T00:27:19.351810",
     "status": "completed"
    },
    "tags": []
   },
   "source": [
    "## 3. Apparent Chargeability\n",
    "\n",
    "### 3.1. Load chargeability data"
   ]
  },
  {
   "cell_type": "code",
   "execution_count": 26,
   "id": "fc127645",
   "metadata": {
    "execution": {
     "iopub.execute_input": "2024-03-19T00:27:19.374688Z",
     "iopub.status.busy": "2024-03-19T00:27:19.374370Z",
     "iopub.status.idle": "2024-03-19T00:27:19.377720Z",
     "shell.execute_reply": "2024-03-19T00:27:19.377354Z"
    },
    "papermill": {
     "duration": 0.012216,
     "end_time": "2024-03-19T00:27:19.378713",
     "exception": false,
     "start_time": "2024-03-19T00:27:19.366497",
     "status": "completed"
    },
    "tags": []
   },
   "outputs": [
    {
     "name": "stdout",
     "output_type": "stream",
     "text": [
      "number of sources: 27\n",
      "Source 0: A-loc: 26000, B-loc: 26100, N receivers: 2\n",
      "Source 1: A-loc: 26100, B-loc: 26200, N receivers: 3\n",
      "Source 2: A-loc: 26200, B-loc: 26300, N receivers: 4\n",
      "Source 3: A-loc: 26300, B-loc: 26400, N receivers: 5\n",
      "Source 4: A-loc: 26400, B-loc: 26500, N receivers: 6\n",
      "Source 5: A-loc: 26500, B-loc: 26600, N receivers: 7\n",
      "Source 6: A-loc: 26600, B-loc: 26700, N receivers: 7\n",
      "Source 7: A-loc: 26700, B-loc: 26800, N receivers: 6\n",
      "Source 8: A-loc: 26800, B-loc: 26900, N receivers: 6\n",
      "Source 9: A-loc: 26900, B-loc: 27000, N receivers: 6\n",
      "Source 10: A-loc: 27000, B-loc: 27100, N receivers: 6\n",
      "Source 11: A-loc: 27100, B-loc: 27200, N receivers: 6\n",
      "Source 12: A-loc: 27200, B-loc: 27300, N receivers: 6\n",
      "Source 13: A-loc: 27300, B-loc: 27400, N receivers: 6\n",
      "Source 14: A-loc: 27400, B-loc: 27500, N receivers: 6\n",
      "Source 15: A-loc: 27500, B-loc: 27600, N receivers: 6\n",
      "Source 16: A-loc: 27600, B-loc: 27700, N receivers: 6\n",
      "Source 17: A-loc: 27700, B-loc: 27800, N receivers: 6\n",
      "Source 18: A-loc: 27800, B-loc: 27900, N receivers: 6\n",
      "Source 19: A-loc: 27900, B-loc: 28000, N receivers: 6\n",
      "Source 20: A-loc: 28000, B-loc: 28100, N receivers: 6\n",
      "Source 21: A-loc: 28100, B-loc: 28200, N receivers: 6\n",
      "Source 22: A-loc: 28200, B-loc: 28300, N receivers: 6\n",
      "Source 23: A-loc: 28300, B-loc: 28400, N receivers: 6\n",
      "Source 24: A-loc: 28400, B-loc: 28500, N receivers: 6\n",
      "Source 25: A-loc: 28500, B-loc: 28600, N receivers: 5\n",
      "Source 26: A-loc: 28600, B-loc: 28700, N receivers: 4\n"
     ]
    }
   ],
   "source": [
    "ip_data_dict = read_dcip_data(ip_data_file)"
   ]
  },
  {
   "cell_type": "markdown",
   "id": "3384e66d-ebd3-483f-b9a0-4611da154139",
   "metadata": {
    "papermill": {
     "duration": 0.007529,
     "end_time": "2024-03-19T00:27:19.394092",
     "exception": false,
     "start_time": "2024-03-19T00:27:19.386563",
     "status": "completed"
    },
    "tags": []
   },
   "source": [
    "### 3.2. See what's in chargeability data"
   ]
  },
  {
   "cell_type": "code",
   "execution_count": 27,
   "id": "c9649865",
   "metadata": {
    "execution": {
     "iopub.execute_input": "2024-03-19T00:27:19.409693Z",
     "iopub.status.busy": "2024-03-19T00:27:19.409367Z",
     "iopub.status.idle": "2024-03-19T00:27:19.411942Z",
     "shell.execute_reply": "2024-03-19T00:27:19.411579Z"
    },
    "papermill": {
     "duration": 0.011397,
     "end_time": "2024-03-19T00:27:19.412937",
     "exception": false,
     "start_time": "2024-03-19T00:27:19.401540",
     "status": "completed"
    },
    "tags": []
   },
   "outputs": [
    {
     "name": "stdout",
     "output_type": "stream",
     "text": [
      "a_locations         : <class 'numpy.ndarray'>\n",
      "b_locations         : <class 'numpy.ndarray'>\n",
      "m_locations         : <class 'list'>\n",
      "n_locations         : <class 'list'>\n",
      "observed_data       : <class 'list'>\n",
      "standard_deviations : <class 'list'>\n",
      "n_sources           : <class 'int'>\n"
     ]
    }
   ],
   "source": [
    "for key, value in ip_data_dict.items():\n",
    "    print(f\"{key:<20}: {type(value)}\")"
   ]
  },
  {
   "cell_type": "code",
   "execution_count": 28,
   "id": "281b8f38",
   "metadata": {
    "execution": {
     "iopub.execute_input": "2024-03-19T00:27:19.442929Z",
     "iopub.status.busy": "2024-03-19T00:27:19.442494Z",
     "iopub.status.idle": "2024-03-19T00:27:19.445601Z",
     "shell.execute_reply": "2024-03-19T00:27:19.445268Z"
    },
    "papermill": {
     "duration": 0.018962,
     "end_time": "2024-03-19T00:27:19.446450",
     "exception": false,
     "start_time": "2024-03-19T00:27:19.427488",
     "status": "completed"
    },
    "tags": []
   },
   "outputs": [
    {
     "data": {
      "text/plain": [
       "array([26000., 26100., 26200., 26300., 26400., 26500., 26600., 26700.,\n",
       "       26800., 26900., 27000., 27100., 27200., 27300., 27400., 27500.,\n",
       "       27600., 27700., 27800., 27900., 28000., 28100., 28200., 28300.,\n",
       "       28400., 28500., 28600.])"
      ]
     },
     "execution_count": 28,
     "metadata": {},
     "output_type": "execute_result"
    }
   ],
   "source": [
    "ip_data_dict[\"a_locations\"]"
   ]
  },
  {
   "cell_type": "code",
   "execution_count": 29,
   "id": "637f996a-f1dd-4e98-8aaf-9a08c96c2b45",
   "metadata": {
    "execution": {
     "iopub.execute_input": "2024-03-19T00:27:19.463244Z",
     "iopub.status.busy": "2024-03-19T00:27:19.462901Z",
     "iopub.status.idle": "2024-03-19T00:27:19.465385Z",
     "shell.execute_reply": "2024-03-19T00:27:19.465032Z"
    },
    "papermill": {
     "duration": 0.011628,
     "end_time": "2024-03-19T00:27:19.466215",
     "exception": false,
     "start_time": "2024-03-19T00:27:19.454587",
     "status": "completed"
    },
    "tags": []
   },
   "outputs": [],
   "source": [
    "apparent_chargeability = np.hstack(ip_data_dict[\"observed_data\"])\n",
    "apparent_chargeability_err = np.hstack(ip_data_dict[\"standard_deviations\"])"
   ]
  },
  {
   "cell_type": "markdown",
   "id": "d83d3599-e515-40a7-92f9-60d4e1e5a4b7",
   "metadata": {
    "papermill": {
     "duration": 0.012474,
     "end_time": "2024-03-19T00:27:19.486588",
     "exception": false,
     "start_time": "2024-03-19T00:27:19.474114",
     "status": "completed"
    },
    "tags": []
   },
   "source": [
    "### 3.3. Create SimPEG Data and Survey"
   ]
  },
  {
   "cell_type": "code",
   "execution_count": 30,
   "id": "6d4f70f5",
   "metadata": {
    "execution": {
     "iopub.execute_input": "2024-03-19T00:27:19.507484Z",
     "iopub.status.busy": "2024-03-19T00:27:19.507148Z",
     "iopub.status.idle": "2024-03-19T00:27:19.514050Z",
     "shell.execute_reply": "2024-03-19T00:27:19.513688Z"
    },
    "papermill": {
     "duration": 0.015803,
     "end_time": "2024-03-19T00:27:19.514906",
     "exception": false,
     "start_time": "2024-03-19T00:27:19.499103",
     "status": "completed"
    },
    "tags": []
   },
   "outputs": [],
   "source": [
    "# initialize an empty list for each \n",
    "source_list_ip = []\n",
    "\n",
    "for i in range(ip_data_dict[\"n_sources\"]):\n",
    "    \n",
    "    # receiver electrode locations in 2D \n",
    "    m_locs = np.vstack([\n",
    "        ip_data_dict[\"m_locations\"][i], \n",
    "        np.zeros_like(ip_data_dict[\"m_locations\"][i])\n",
    "    ]).T\n",
    "    n_locs = np.vstack([\n",
    "        ip_data_dict[\"n_locations\"][i],\n",
    "        np.zeros_like(ip_data_dict[\"n_locations\"][i])\n",
    "    ]).T\n",
    "    \n",
    "    # construct the receiver object \n",
    "    receivers = ip.receivers.Dipole(\n",
    "        locations_m=m_locs, locations_n=n_locs, data_type=\"apparent_chargeability\"\n",
    "    )\n",
    "    \n",
    "    # construct the source \n",
    "    source = ip.sources.Dipole(\n",
    "        location_a=np.r_[ip_data_dict[\"a_locations\"][i], 0.],\n",
    "        location_b=np.r_[ip_data_dict[\"b_locations\"][i], 0.],\n",
    "        receiver_list=[receivers]\n",
    "    )\n",
    "    \n",
    "    # append the new source to the source list\n",
    "    source_list_ip.append(source)"
   ]
  },
  {
   "cell_type": "code",
   "execution_count": 31,
   "id": "b650c021",
   "metadata": {
    "execution": {
     "iopub.execute_input": "2024-03-19T00:27:19.531180Z",
     "iopub.status.busy": "2024-03-19T00:27:19.530954Z",
     "iopub.status.idle": "2024-03-19T00:27:19.533346Z",
     "shell.execute_reply": "2024-03-19T00:27:19.532963Z"
    },
    "papermill": {
     "duration": 0.011458,
     "end_time": "2024-03-19T00:27:19.534269",
     "exception": false,
     "start_time": "2024-03-19T00:27:19.522811",
     "status": "completed"
    },
    "tags": []
   },
   "outputs": [],
   "source": [
    "survey_ip = ip.Survey(source_list_ip)"
   ]
  },
  {
   "cell_type": "code",
   "execution_count": 32,
   "id": "686164f8",
   "metadata": {
    "execution": {
     "iopub.execute_input": "2024-03-19T00:27:19.551051Z",
     "iopub.status.busy": "2024-03-19T00:27:19.550757Z",
     "iopub.status.idle": "2024-03-19T00:27:19.553293Z",
     "shell.execute_reply": "2024-03-19T00:27:19.552945Z"
    },
    "papermill": {
     "duration": 0.011335,
     "end_time": "2024-03-19T00:27:19.554128",
     "exception": false,
     "start_time": "2024-03-19T00:27:19.542793",
     "status": "completed"
    },
    "tags": []
   },
   "outputs": [],
   "source": [
    "ip_data = Data(\n",
    "    survey=dc_survey, \n",
    "    dobs=np.hstack(ip_data_dict[\"observed_data\"]), \n",
    "    standard_deviation=np.hstack(ip_data_dict[\"standard_deviations\"])\n",
    ")"
   ]
  },
  {
   "cell_type": "code",
   "execution_count": 33,
   "id": "7b374393",
   "metadata": {
    "execution": {
     "iopub.execute_input": "2024-03-19T00:27:19.570461Z",
     "iopub.status.busy": "2024-03-19T00:27:19.570152Z",
     "iopub.status.idle": "2024-03-19T00:27:19.742863Z",
     "shell.execute_reply": "2024-03-19T00:27:19.742493Z"
    },
    "papermill": {
     "duration": 0.181766,
     "end_time": "2024-03-19T00:27:19.743805",
     "exception": false,
     "start_time": "2024-03-19T00:27:19.562039",
     "status": "completed"
    },
    "tags": []
   },
   "outputs": [
    {
     "data": {
      "image/png": "[encoded data removed]",
      "text/plain": [
       "<Figure size 1200x400 with 2 Axes>"
      ]
     },
     "metadata": {},
     "output_type": "display_data"
    }
   ],
   "source": [
    "fig, ax = plt.subplots(1, 1, figsize=(12, 4))\n",
    "dc.utils.plot_pseudosection(\n",
    "    ip_data, data_type=\"potential\",\n",
    "    plot_type=\"contourf\", data_locations=True, ax=ax,\n",
    ")\n",
    "ax.set_aspect(1.5)"
   ]
  },
  {
   "cell_type": "code",
   "execution_count": 34,
   "id": "ce1b9e5e",
   "metadata": {
    "execution": {
     "iopub.execute_input": "2024-03-19T00:27:19.761124Z",
     "iopub.status.busy": "2024-03-19T00:27:19.760903Z",
     "iopub.status.idle": "2024-03-19T00:27:19.763824Z",
     "shell.execute_reply": "2024-03-19T00:27:19.763476Z"
    },
    "papermill": {
     "duration": 0.012424,
     "end_time": "2024-03-19T00:27:19.764671",
     "exception": false,
     "start_time": "2024-03-19T00:27:19.752247",
     "status": "completed"
    },
    "tags": []
   },
   "outputs": [
    {
     "data": {
      "text/plain": [
       "151"
      ]
     },
     "execution_count": 34,
     "metadata": {},
     "output_type": "execute_result"
    }
   ],
   "source": [
    "len(ip_data.dobs)"
   ]
  },
  {
   "cell_type": "markdown",
   "id": "b6902a44-8166-4b96-9ce7-6bf3bb6ea3d0",
   "metadata": {
    "papermill": {
     "duration": 0.007909,
     "end_time": "2024-03-19T00:27:19.807687",
     "exception": false,
     "start_time": "2024-03-19T00:27:19.799778",
     "status": "completed"
    },
    "tags": []
   },
   "source": [
    "## 4. Write data to file"
   ]
  },
  {
   "cell_type": "code",
   "execution_count": 35,
   "id": "6d0aeb9c-6fbc-45c5-8ef6-0568a1da2de6",
   "metadata": {
    "execution": {
     "iopub.execute_input": "2024-03-19T00:27:19.824454Z",
     "iopub.status.busy": "2024-03-19T00:27:19.824121Z",
     "iopub.status.idle": "2024-03-19T00:27:19.830645Z",
     "shell.execute_reply": "2024-03-19T00:27:19.830308Z"
    },
    "papermill": {
     "duration": 0.015954,
     "end_time": "2024-03-19T00:27:19.831572",
     "exception": false,
     "start_time": "2024-03-19T00:27:19.815618",
     "status": "completed"
    },
    "tags": []
   },
   "outputs": [
    {
     "data": {
      "text/plain": [
       "array([[ 2.60000000e+04,  2.61000000e+04,  2.67000000e+04,\n",
       "         2.68000000e+04,  1.34059457e+02,  6.33351764e+00,\n",
       "         4.30000000e+00,  3.00000000e-01, -9.47350852e-06],\n",
       "       [ 2.60000000e+04,  2.61000000e+04,  2.68000000e+04,\n",
       "         2.69000000e+04,  1.26671021e+02,  6.33355107e+00,\n",
       "         2.40000000e+00,  3.00000000e-01, -6.31567234e-06],\n",
       "       [ 2.61000000e+04,  2.62000000e+04,  2.67000000e+04,\n",
       "         2.68000000e+04,  1.08197165e+02,  5.27791048e+00,\n",
       "         4.30000000e+00,  3.00000000e-01, -1.51576136e-05],\n",
       "       [ 2.61000000e+04,  2.62000000e+04,  2.68000000e+04,\n",
       "         2.69000000e+04,  1.04503041e+02,  5.27793137e+00,\n",
       "         2.50000000e+00,  3.00000000e-01, -9.47350852e-06],\n",
       "       [ 2.61000000e+04,  2.62000000e+04,  2.69000000e+04,\n",
       "         2.70000000e+04,  9.97534294e+01,  4.75016330e+00,\n",
       "         1.00000000e+00,  3.00000000e-01, -6.31567234e-06]])"
      ]
     },
     "execution_count": 35,
     "metadata": {},
     "output_type": "execute_result"
    }
   ],
   "source": [
    "processed_data = np.zeros((len(apparent_resistivity), 9))\n",
    "processed_data[:,4] = apparent_resistivity\n",
    "processed_data[:,5] = apparent_resistivity_err\n",
    "processed_data[:,6] = apparent_chargeability\n",
    "processed_data[:,7] = apparent_chargeability_err\n",
    "processed_data[:,8] = geometric_factor\n",
    "\n",
    "data_idx = 0\n",
    "for i in range(len(dc_data_dict[\"a_locations\"])):\n",
    "    a_loc = dc_data_dict[\"a_locations\"][i]\n",
    "    b_loc = dc_data_dict[\"b_locations\"][i]\n",
    "    m_locs = dc_data_dict[\"m_locations\"][i]\n",
    "    n_locs = dc_data_dict[\"n_locations\"][i]\n",
    "    for j in range(len(m_locs)):\n",
    "        processed_data[data_idx,0] = a_loc\n",
    "        processed_data[data_idx,1] = b_loc\n",
    "        processed_data[data_idx,2] = m_locs[j]\n",
    "        processed_data[data_idx,3] = n_locs[j]\n",
    "        data_idx += 1\n",
    "\n",
    "processed_data[:5]"
   ]
  },
  {
   "cell_type": "code",
   "execution_count": 36,
   "id": "532d1741-b5ba-4661-b25d-27494df1652a",
   "metadata": {
    "execution": {
     "iopub.execute_input": "2024-03-19T00:27:19.850080Z",
     "iopub.status.busy": "2024-03-19T00:27:19.849679Z",
     "iopub.status.idle": "2024-03-19T00:27:19.853076Z",
     "shell.execute_reply": "2024-03-19T00:27:19.852718Z"
    },
    "papermill": {
     "duration": 0.012941,
     "end_time": "2024-03-19T00:27:19.853915",
     "exception": false,
     "start_time": "2024-03-19T00:27:19.840974",
     "status": "completed"
    },
    "tags": []
   },
   "outputs": [],
   "source": [
    "np.savetxt(\n",
    "    \"../century_dcip_data.txt\", \n",
    "    processed_data, \n",
    "    header=\"# a_loc, b_loc, m_loc, n_loc, apparent_resistivity, apparent_resistivity_err, apparent_chargeability, apparent_chargeability_err, geometric_factor\"\n",
    ")"
   ]
  },
  {
   "cell_type": "markdown",
   "id": "9ee8f53f-9bc3-41fc-baec-fc519f17f7a4",
   "metadata": {
    "papermill": {
     "duration": 0.007972,
     "end_time": "2024-03-19T00:27:19.870352",
     "exception": false,
     "start_time": "2024-03-19T00:27:19.862380",
     "status": "completed"
    },
    "tags": []
   },
   "source": [
    "## 5. Convert mesh and model files format"
   ]
  },
  {
   "cell_type": "code",
   "execution_count": 37,
   "id": "a69665ba-2380-405d-9b2d-aa124424c1c1",
   "metadata": {
    "execution": {
     "iopub.execute_input": "2024-03-19T00:27:19.899990Z",
     "iopub.status.busy": "2024-03-19T00:27:19.899776Z",
     "iopub.status.idle": "2024-03-19T00:27:19.901925Z",
     "shell.execute_reply": "2024-03-19T00:27:19.901579Z"
    },
    "papermill": {
     "duration": 0.016899,
     "end_time": "2024-03-19T00:27:19.902734",
     "exception": false,
     "start_time": "2024-03-19T00:27:19.885835",
     "status": "completed"
    },
    "tags": []
   },
   "outputs": [],
   "source": [
    "import discretize"
   ]
  },
  {
   "cell_type": "code",
   "execution_count": 38,
   "id": "5a78c495-7e61-4cfd-ac5d-1a731e0c11cd",
   "metadata": {
    "execution": {
     "iopub.execute_input": "2024-03-19T00:27:19.920278Z",
     "iopub.status.busy": "2024-03-19T00:27:19.920056Z",
     "iopub.status.idle": "2024-03-19T00:27:19.923248Z",
     "shell.execute_reply": "2024-03-19T00:27:19.922914Z"
    },
    "papermill": {
     "duration": 0.012617,
     "end_time": "2024-03-19T00:27:19.924106",
     "exception": false,
     "start_time": "2024-03-19T00:27:19.911489",
     "status": "completed"
    },
    "tags": []
   },
   "outputs": [
    {
     "data": {
      "text/plain": [
       "('./century/46800E/468MESH.DAT',\n",
       " './century/46800E/DCMODA.CON',\n",
       " './century/46800E/IPMODA.CHG')"
      ]
     },
     "execution_count": 38,
     "metadata": {},
     "output_type": "execute_result"
    }
   ],
   "source": [
    "dc_model_file = f\"./century/{line}/DCMODA.CON\"\n",
    "ip_model_file = f\"./century/{line}/IPMODA.CHG\"\n",
    "mesh_file = f\"./century/{line}/{line[:3]}MESH.DAT\"\n",
    "\n",
    "mesh_file, dc_model_file, ip_model_file"
   ]
  },
  {
   "cell_type": "code",
   "execution_count": 39,
   "id": "87065dca-f26e-4dd2-8eec-8206b68c7e4c",
   "metadata": {
    "execution": {
     "iopub.execute_input": "2024-03-19T00:27:19.948323Z",
     "iopub.status.busy": "2024-03-19T00:27:19.948127Z",
     "iopub.status.idle": "2024-03-19T00:27:19.951972Z",
     "shell.execute_reply": "2024-03-19T00:27:19.951616Z"
    },
    "papermill": {
     "duration": 0.020014,
     "end_time": "2024-03-19T00:27:19.952810",
     "exception": false,
     "start_time": "2024-03-19T00:27:19.932796",
     "status": "completed"
    },
    "tags": []
   },
   "outputs": [],
   "source": [
    "mesh_ubc = discretize.TensorMesh.read_UBC(mesh_file)\n",
    "mesh_tensor = mesh_ubc.get_tensor(\"nodes\")\n",
    "np.savetxt(\"../century_mesh_nodes_x.txt\", mesh_tensor[0])\n",
    "np.savetxt(\"../century_mesh_nodes_z.txt\", mesh_tensor[1])"
   ]
  },
  {
   "cell_type": "code",
   "execution_count": 40,
   "id": "b6056d0c-f691-40ec-8243-a61f249bf627",
   "metadata": {
    "execution": {
     "iopub.execute_input": "2024-03-19T00:27:19.972670Z",
     "iopub.status.busy": "2024-03-19T00:27:19.972478Z",
     "iopub.status.idle": "2024-03-19T00:27:19.987481Z",
     "shell.execute_reply": "2024-03-19T00:27:19.987142Z"
    },
    "papermill": {
     "duration": 0.024659,
     "end_time": "2024-03-19T00:27:19.988420",
     "exception": false,
     "start_time": "2024-03-19T00:27:19.963761",
     "status": "completed"
    },
    "tags": []
   },
   "outputs": [],
   "source": [
    "def read_ubc_model(filename, mesh_ubc=mesh_ubc): \n",
    "    \"\"\"\n",
    "    A function to read a UBC conductivity or chargeability model. \n",
    "    \"\"\"\n",
    "    values = np.genfromtxt(\n",
    "        filename, delimiter=' \\n',\n",
    "        dtype=str, comments='!', skip_header=1\n",
    "    )\n",
    "    tmp = np.hstack([np.array(value.split(), dtype=float) for value in values])\n",
    "    model_ubc = discretize.utils.mkvc(tmp.reshape(mesh_ubc.vnC, order='F')[:,::-1])\n",
    "    return model_ubc\n",
    "\n",
    "# DC\n",
    "sigma_ubc = read_ubc_model(dc_model_file)\n",
    "rho_ubc = 1./sigma_ubc\n",
    "np.savetxt(\"../century_dc_model.txt\", rho_ubc)\n",
    "\n",
    "# IP\n",
    "charge_ubc = read_ubc_model(ip_model_file)\n",
    "np.savetxt(\"../century_ip_model.txt\", charge_ubc)"
   ]
  },
  {
   "cell_type": "markdown",
   "id": "1104bd27-2169-49d6-8b73-20181810eb67",
   "metadata": {
    "papermill": {
     "duration": 0.00797,
     "end_time": "2024-03-19T00:27:20.004539",
     "exception": false,
     "start_time": "2024-03-19T00:27:19.996569",
     "status": "completed"
    },
    "tags": []
   },
   "source": [
    "---\n",
    "\n",
    "## Watermark"
   ]
  },
  {
   "cell_type": "code",
   "execution_count": 41,
   "id": "4d53f90c-d612-401e-bf0f-c3b895c448b2",
   "metadata": {
    "execution": {
     "iopub.execute_input": "2024-03-19T00:27:20.033580Z",
     "iopub.status.busy": "2024-03-19T00:27:20.033366Z",
     "iopub.status.idle": "2024-03-19T00:27:20.036158Z",
     "shell.execute_reply": "2024-03-19T00:27:20.035828Z"
    },
    "papermill": {
     "duration": 0.024334,
     "end_time": "2024-03-19T00:27:20.036997",
     "exception": false,
     "start_time": "2024-03-19T00:27:20.012663",
     "status": "completed"
    },
    "tags": []
   },
   "outputs": [
    {
     "data": {
      "text/plain": [
       "'0.19.0'"
      ]
     },
     "execution_count": 41,
     "metadata": {},
     "output_type": "execute_result"
    }
   ],
   "source": [
    "import SimPEG\n",
    "SimPEG.__version__"
   ]
  }
 ],
 "metadata": {
  "kernelspec": {
   "display_name": "Python 3 (ipykernel)",
   "language": "python",
   "name": "python3"
  },
  "language_info": {
   "codemirror_mode": {
    "name": "ipython",
    "version": 3
   },
   "file_extension": ".py",
   "mimetype": "text/x-python",
   "name": "python",
   "nbconvert_exporter": "python",
   "pygments_lexer": "ipython3",
   "version": "3.9.16"
  },
  "papermill": {
   "default_parameters": {},
   "duration": 7.578484,
   "end_time": "2024-03-19T00:27:20.460833",
   "environment_variables": {},
   "exception": null,
   "input_path": "/home/jiawen/test/cofi-examples/examples/pygimli_dcip/century_data_preprocessing.ipynb",
   "output_path": "/home/jiawen/test/cofi-examples/examples/pygimli_dcip/century_data_preprocessing.ipynb",
   "parameters": {},
   "start_time": "2024-03-19T00:27:12.882349",
   "version": "2.4.0"
  }
 },
 "nbformat": 4,
 "nbformat_minor": 5
}