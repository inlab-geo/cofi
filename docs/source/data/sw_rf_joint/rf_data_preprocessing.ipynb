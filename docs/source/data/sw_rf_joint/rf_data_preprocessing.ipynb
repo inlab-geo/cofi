{
 "cells": [
  {
   "cell_type": "markdown",
   "id": "b31b9e43-3cce-45bb-84f7-af7b1098bd4e",
   "metadata": {},
   "source": [
    "# Receiver function data preprocessing\n",
    "\n",
    "This notebook does not demonstrate a CoFI example, but it pre-processes the \n",
    "receiver function data from SAC files into ASCII files for better readability.\n",
    "\n",
    "All the surface wave and receiver function data under the current folder are\n",
    "downloaded from: https://www.eas.slu.edu/eqc/eqc_cps/TUTORIAL/STRUCT/index.html"
   ]
  },
  {
   "cell_type": "code",
   "execution_count": 1,
   "id": "3de47098-3d86-459d-84dd-196c20e020b4",
   "metadata": {
    "tags": []
   },
   "outputs": [],
   "source": [
    "import obspy\n",
    "import numpy as np"
   ]
  },
  {
   "cell_type": "code",
   "execution_count": 2,
   "id": "58fbfae3-fb15-42ae-bdf8-23ed32978d8e",
   "metadata": {
    "tags": []
   },
   "outputs": [],
   "source": [
    "rftn_prefix = \"data/RFTN\""
   ]
  },
  {
   "cell_type": "code",
   "execution_count": 3,
   "id": "cd0ce01b-7164-44ff-951a-959bc5b93ab4",
   "metadata": {
    "tags": []
   },
   "outputs": [],
   "source": [
    "lst_files_rftn_data = f\"{rftn_prefix}/rftn.lst\"\n",
    "\n",
    "with open(lst_files_rftn_data, \"r\") as file:\n",
    "    lines = file.readlines()\n",
    "\n",
    "files_rftn_data = [line.strip() for line in lines if line]\n",
    "rftn_data_times = []\n",
    "rftn_data_amplitudes = []\n",
    "rftn_data_gauss = []\n",
    "rftn_data_rays = []\n",
    "for file_rftn_data in files_rftn_data:\n",
    "    st = obspy.read(f\"{rftn_prefix}/{file_rftn_data}\", debug_headers=True)\n",
    "    rftn_data_times.append(st[0].times() + st[0].stats.sac.b)\n",
    "    rftn_data_amplitudes.append(st[0].data)\n",
    "    rftn_data_gauss.append(st[0].stats.sac.user0)\n",
    "    rftn_data_rays.append(st[0].stats.sac.user4)"
   ]
  },
  {
   "cell_type": "code",
   "execution_count": 4,
   "id": "6d4c7698-bb09-4d1d-bce4-8f7438e14c07",
   "metadata": {
    "tags": []
   },
   "outputs": [
    {
     "name": "stdout",
     "output_type": "stream",
     "text": [
      "Saved rf data of shape (2048, 2) to data/RFTN/rf_00_1.0_0.0658.txt\n",
      "Saved rf data of shape (2048, 2) to data/RFTN/rf_01_1.0_0.0665.txt\n",
      "Saved rf data of shape (2048, 2) to data/RFTN/rf_02_1.0_0.0687.txt\n",
      "Saved rf data of shape (2048, 2) to data/RFTN/rf_03_1.0_0.0690.txt\n",
      "Saved rf data of shape (2048, 2) to data/RFTN/rf_04_1.0_0.0698.txt\n",
      "Saved rf data of shape (2048, 2) to data/RFTN/rf_05_1.0_0.0698.txt\n",
      "Saved rf data of shape (2048, 2) to data/RFTN/rf_06_1.0_0.0700.txt\n",
      "Saved rf data of shape (2048, 2) to data/RFTN/rf_07_1.0_0.0704.txt\n",
      "Saved rf data of shape (2048, 2) to data/RFTN/rf_08_1.0_0.0705.txt\n",
      "Saved rf data of shape (2048, 2) to data/RFTN/rf_09_1.0_0.0713.txt\n",
      "Saved rf data of shape (2048, 2) to data/RFTN/rf_10_1.0_0.0716.txt\n",
      "Saved rf data of shape (2048, 2) to data/RFTN/rf_11_1.0_0.0716.txt\n",
      "Saved rf data of shape (2048, 2) to data/RFTN/rf_12_1.0_0.0724.txt\n",
      "Saved rf data of shape (2048, 2) to data/RFTN/rf_13_1.0_0.0724.txt\n",
      "Saved rf data of shape (2048, 2) to data/RFTN/rf_14_1.0_0.0732.txt\n",
      "Saved rf data of shape (2048, 2) to data/RFTN/rf_15_1.0_0.0738.txt\n",
      "Saved rf data of shape (2048, 2) to data/RFTN/rf_16_1.0_0.0739.txt\n",
      "Saved rf data of shape (2048, 2) to data/RFTN/rf_17_1.0_0.0746.txt\n",
      "Saved rf data of shape (2048, 2) to data/RFTN/rf_18_1.0_0.0746.txt\n",
      "Saved rf data of shape (2048, 2) to data/RFTN/rf_19_1.0_0.0751.txt\n",
      "Saved rf data of shape (2048, 2) to data/RFTN/rf_20_1.0_0.0760.txt\n",
      "Saved rf data of shape (2048, 2) to data/RFTN/rf_21_1.0_0.0787.txt\n",
      "Saved rf data of shape (2048, 2) to data/RFTN/rf_22_2.5_0.0658.txt\n",
      "Saved rf data of shape (2048, 2) to data/RFTN/rf_23_2.5_0.0665.txt\n",
      "Saved rf data of shape (2048, 2) to data/RFTN/rf_24_2.5_0.0687.txt\n",
      "Saved rf data of shape (2048, 2) to data/RFTN/rf_25_2.5_0.0690.txt\n",
      "Saved rf data of shape (2048, 2) to data/RFTN/rf_26_2.5_0.0698.txt\n",
      "Saved rf data of shape (2048, 2) to data/RFTN/rf_27_2.5_0.0698.txt\n",
      "Saved rf data of shape (2048, 2) to data/RFTN/rf_28_2.5_0.0700.txt\n",
      "Saved rf data of shape (2048, 2) to data/RFTN/rf_29_2.5_0.0705.txt\n",
      "Saved rf data of shape (2048, 2) to data/RFTN/rf_30_2.5_0.0713.txt\n",
      "Saved rf data of shape (2048, 2) to data/RFTN/rf_31_2.5_0.0716.txt\n",
      "Saved rf data of shape (2048, 2) to data/RFTN/rf_32_2.5_0.0724.txt\n",
      "Saved rf data of shape (2048, 2) to data/RFTN/rf_33_2.5_0.0724.txt\n",
      "Saved rf data of shape (2048, 2) to data/RFTN/rf_34_2.5_0.0738.txt\n",
      "Saved rf data of shape (2048, 2) to data/RFTN/rf_35_2.5_0.0739.txt\n",
      "Saved rf data of shape (2048, 2) to data/RFTN/rf_36_2.5_0.0746.txt\n",
      "Saved rf data of shape (2048, 2) to data/RFTN/rf_37_2.5_0.0751.txt\n",
      "Saved rf data of shape (2048, 2) to data/RFTN/rf_38_2.5_0.0760.txt\n"
     ]
    }
   ],
   "source": [
    "for i, (times, amplitudes, gauss, rays) in enumerate(zip(rftn_data_times, rftn_data_amplitudes, rftn_data_gauss, rftn_data_rays)):\n",
    "    rf_data = np.vstack((times, amplitudes)).T\n",
    "    f_name = f\"{rftn_prefix}/rf_{i:02}_{gauss}_{rays:.4f}.txt\"\n",
    "    np.savetxt(f_name, rf_data)\n",
    "    print(f\"Saved rf data of shape {rf_data.shape} to {f_name}\")"
   ]
  }
 ],
 "metadata": {
  "kernelspec": {
   "display_name": "Python 3 (ipykernel)",
   "language": "python",
   "name": "python3"
  },
  "language_info": {
   "codemirror_mode": {
    "name": "ipython",
    "version": 3
   },
   "file_extension": ".py",
   "mimetype": "text/x-python",
   "name": "python",
   "nbconvert_exporter": "python",
   "pygments_lexer": "ipython3",
   "version": "3.10.13"
  }
 },
 "nbformat": 4,
 "nbformat_minor": 5
}
